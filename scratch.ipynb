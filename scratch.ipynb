{
 "cells": [
  {
   "cell_type": "code",
   "execution_count": 299,
   "id": "5469e277",
   "metadata": {},
   "outputs": [],
   "source": [
    "import pandas as pd\n",
    "import numpy as np\n",
    "import re\n",
    "\n",
    "#Webscraping\n",
    "import requests\n",
    "from requests import get\n",
    "from bs4 import BeautifulSoup\n",
    "import time"
   ]
  },
  {
   "cell_type": "code",
   "execution_count": 300,
   "id": "7acedb21",
   "metadata": {},
   "outputs": [],
   "source": [
    "df = pd.read_csv('data/michelin_my_maps.csv')"
   ]
  },
  {
   "cell_type": "code",
   "execution_count": 301,
   "id": "b4bc79f7",
   "metadata": {},
   "outputs": [
    {
     "data": {
      "text/html": [
       "<div>\n",
       "<style scoped>\n",
       "    .dataframe tbody tr th:only-of-type {\n",
       "        vertical-align: middle;\n",
       "    }\n",
       "\n",
       "    .dataframe tbody tr th {\n",
       "        vertical-align: top;\n",
       "    }\n",
       "\n",
       "    .dataframe thead th {\n",
       "        text-align: right;\n",
       "    }\n",
       "</style>\n",
       "<table border=\"1\" class=\"dataframe\">\n",
       "  <thead>\n",
       "    <tr style=\"text-align: right;\">\n",
       "      <th></th>\n",
       "      <th>Name</th>\n",
       "      <th>Address</th>\n",
       "      <th>Location</th>\n",
       "      <th>Price</th>\n",
       "      <th>Cuisine</th>\n",
       "      <th>Longitude</th>\n",
       "      <th>Latitude</th>\n",
       "      <th>PhoneNumber</th>\n",
       "      <th>Url</th>\n",
       "      <th>WebsiteUrl</th>\n",
       "      <th>Award</th>\n",
       "      <th>FacilitiesAndServices</th>\n",
       "    </tr>\n",
       "  </thead>\n",
       "  <tbody>\n",
       "    <tr>\n",
       "      <th>0</th>\n",
       "      <td>King's Joy</td>\n",
       "      <td>2 Wudaoying Hutong, Beijing, China Mainland</td>\n",
       "      <td>Beijing, China Mainland</td>\n",
       "      <td>¥¥¥</td>\n",
       "      <td>Vegetarian</td>\n",
       "      <td>116.410004</td>\n",
       "      <td>39.946681</td>\n",
       "      <td>8.610840e+11</td>\n",
       "      <td>https://guide.michelin.com/en/beijing-municipa...</td>\n",
       "      <td>NaN</td>\n",
       "      <td>3 MICHELIN Stars</td>\n",
       "      <td>Air conditioning,American Express credit card,...</td>\n",
       "    </tr>\n",
       "    <tr>\n",
       "      <th>1</th>\n",
       "      <td>Xin Rong Ji (Xinyuan South Road)</td>\n",
       "      <td>1F, East Tower, Genesis Beijing, 8 Xinyuan Sou...</td>\n",
       "      <td>Beijing, China Mainland</td>\n",
       "      <td>¥¥¥¥</td>\n",
       "      <td>Taizhou</td>\n",
       "      <td>116.450148</td>\n",
       "      <td>39.946380</td>\n",
       "      <td>8.610650e+11</td>\n",
       "      <td>https://guide.michelin.com/en/beijing-municipa...</td>\n",
       "      <td>NaN</td>\n",
       "      <td>3 MICHELIN Stars</td>\n",
       "      <td>Air conditioning,Car park,China UnionPay,Count...</td>\n",
       "    </tr>\n",
       "  </tbody>\n",
       "</table>\n",
       "</div>"
      ],
      "text/plain": [
       "                               Name  \\\n",
       "0                        King's Joy   \n",
       "1  Xin Rong Ji (Xinyuan South Road)   \n",
       "\n",
       "                                             Address                 Location  \\\n",
       "0        2 Wudaoying Hutong, Beijing, China Mainland  Beijing, China Mainland   \n",
       "1  1F, East Tower, Genesis Beijing, 8 Xinyuan Sou...  Beijing, China Mainland   \n",
       "\n",
       "  Price     Cuisine   Longitude   Latitude   PhoneNumber  \\\n",
       "0   ¥¥¥  Vegetarian  116.410004  39.946681  8.610840e+11   \n",
       "1  ¥¥¥¥     Taizhou  116.450148  39.946380  8.610650e+11   \n",
       "\n",
       "                                                 Url WebsiteUrl  \\\n",
       "0  https://guide.michelin.com/en/beijing-municipa...        NaN   \n",
       "1  https://guide.michelin.com/en/beijing-municipa...        NaN   \n",
       "\n",
       "              Award                              FacilitiesAndServices  \n",
       "0  3 MICHELIN Stars  Air conditioning,American Express credit card,...  \n",
       "1  3 MICHELIN Stars  Air conditioning,Car park,China UnionPay,Count...  "
      ]
     },
     "execution_count": 301,
     "metadata": {},
     "output_type": "execute_result"
    }
   ],
   "source": [
    "df.head(2)"
   ]
  },
  {
   "cell_type": "code",
   "execution_count": 66,
   "id": "eaad904d",
   "metadata": {},
   "outputs": [
    {
     "name": "stdout",
     "output_type": "stream",
     "text": [
      "<class 'pandas.core.frame.DataFrame'>\n",
      "RangeIndex: 6780 entries, 0 to 6779\n",
      "Data columns (total 12 columns):\n",
      " #   Column                 Non-Null Count  Dtype  \n",
      "---  ------                 --------------  -----  \n",
      " 0   Name                   6780 non-null   object \n",
      " 1   Address                6780 non-null   object \n",
      " 2   Location               6780 non-null   object \n",
      " 3   Price                  6726 non-null   object \n",
      " 4   Cuisine                6780 non-null   object \n",
      " 5   Longitude              6780 non-null   float64\n",
      " 6   Latitude               6780 non-null   float64\n",
      " 7   PhoneNumber            6649 non-null   float64\n",
      " 8   Url                    6780 non-null   object \n",
      " 9   WebsiteUrl             5542 non-null   object \n",
      " 10  Award                  6780 non-null   object \n",
      " 11  FacilitiesAndServices  6732 non-null   object \n",
      "dtypes: float64(3), object(9)\n",
      "memory usage: 635.8+ KB\n"
     ]
    }
   ],
   "source": [
    "df.info()"
   ]
  },
  {
   "cell_type": "code",
   "execution_count": 263,
   "id": "1677cb35",
   "metadata": {},
   "outputs": [
    {
     "data": {
      "text/plain": [
       "Bib Gourmand        3411\n",
       "1 MICHELIN Star     2744\n",
       "2 MICHELIN Stars     483\n",
       "3 MICHELIN Stars     142\n",
       "Name: Award, dtype: int64"
      ]
     },
     "execution_count": 263,
     "metadata": {},
     "output_type": "execute_result"
    }
   ],
   "source": [
    "df.Award.value_counts()"
   ]
  },
  {
   "cell_type": "code",
   "execution_count": 264,
   "id": "0367d751",
   "metadata": {},
   "outputs": [
    {
     "data": {
      "text/plain": [
       "'https://guide.michelin.com/en/shanghai-municipality/shanghai/restaurant/taian-table'"
      ]
     },
     "execution_count": 264,
     "metadata": {},
     "output_type": "execute_result"
    }
   ],
   "source": [
    "df.Url[2]"
   ]
  },
  {
   "cell_type": "code",
   "execution_count": 72,
   "id": "1d0706ce",
   "metadata": {},
   "outputs": [],
   "source": [
    "#Make all column names lowercase\n",
    "df.columns = df.columns.str.lower()"
   ]
  },
  {
   "cell_type": "code",
   "execution_count": 73,
   "id": "9ab69459",
   "metadata": {},
   "outputs": [],
   "source": [
    "#renaming columns in snake case\n",
    "df = df.rename(columns = {\"phonenumber\":\"phone_number\", \"websiteurl\":\"website_url\", \"facilitiesandservices\":\"facilities_and_services\"})"
   ]
  },
  {
   "cell_type": "code",
   "execution_count": 74,
   "id": "852c27ec",
   "metadata": {},
   "outputs": [
    {
     "data": {
      "text/html": [
       "<div>\n",
       "<style scoped>\n",
       "    .dataframe tbody tr th:only-of-type {\n",
       "        vertical-align: middle;\n",
       "    }\n",
       "\n",
       "    .dataframe tbody tr th {\n",
       "        vertical-align: top;\n",
       "    }\n",
       "\n",
       "    .dataframe thead th {\n",
       "        text-align: right;\n",
       "    }\n",
       "</style>\n",
       "<table border=\"1\" class=\"dataframe\">\n",
       "  <thead>\n",
       "    <tr style=\"text-align: right;\">\n",
       "      <th></th>\n",
       "      <th>name</th>\n",
       "      <th>address</th>\n",
       "      <th>location</th>\n",
       "      <th>price</th>\n",
       "      <th>cuisine</th>\n",
       "      <th>longitude</th>\n",
       "      <th>latitude</th>\n",
       "      <th>phone_number</th>\n",
       "      <th>url</th>\n",
       "      <th>website_url</th>\n",
       "      <th>award</th>\n",
       "      <th>facilities_and_services</th>\n",
       "    </tr>\n",
       "  </thead>\n",
       "  <tbody>\n",
       "    <tr>\n",
       "      <th>5409</th>\n",
       "      <td>Rooster and the Till</td>\n",
       "      <td>6500 N. Florida Ave., Tampa, 33604, USA</td>\n",
       "      <td>Tampa, USA</td>\n",
       "      <td>$$</td>\n",
       "      <td>International</td>\n",
       "      <td>-82.459512</td>\n",
       "      <td>28.006834</td>\n",
       "      <td>1.813375e+10</td>\n",
       "      <td>https://guide.michelin.com/en/florida/tampa/re...</td>\n",
       "      <td>https://www.roosterandthetill.com/</td>\n",
       "      <td>Bib Gourmand</td>\n",
       "      <td>Air conditioning,American Express credit card,...</td>\n",
       "    </tr>\n",
       "  </tbody>\n",
       "</table>\n",
       "</div>"
      ],
      "text/plain": [
       "                      name                                  address  \\\n",
       "5409  Rooster and the Till  6500 N. Florida Ave., Tampa, 33604, USA   \n",
       "\n",
       "        location price        cuisine  longitude   latitude  phone_number  \\\n",
       "5409  Tampa, USA    $$  International -82.459512  28.006834  1.813375e+10   \n",
       "\n",
       "                                                    url  \\\n",
       "5409  https://guide.michelin.com/en/florida/tampa/re...   \n",
       "\n",
       "                             website_url         award  \\\n",
       "5409  https://www.roosterandthetill.com/  Bib Gourmand   \n",
       "\n",
       "                                facilities_and_services  \n",
       "5409  Air conditioning,American Express credit card,...  "
      ]
     },
     "execution_count": 74,
     "metadata": {},
     "output_type": "execute_result"
    }
   ],
   "source": [
    "#Calling restauraunt by name -- Using conventional capitalization\n",
    "df[df.name == 'Rooster and the Till']"
   ]
  },
  {
   "cell_type": "code",
   "execution_count": 75,
   "id": "dc66d4e7",
   "metadata": {},
   "outputs": [
    {
     "data": {
      "text/html": [
       "<div>\n",
       "<style scoped>\n",
       "    .dataframe tbody tr th:only-of-type {\n",
       "        vertical-align: middle;\n",
       "    }\n",
       "\n",
       "    .dataframe tbody tr th {\n",
       "        vertical-align: top;\n",
       "    }\n",
       "\n",
       "    .dataframe thead th {\n",
       "        text-align: right;\n",
       "    }\n",
       "</style>\n",
       "<table border=\"1\" class=\"dataframe\">\n",
       "  <thead>\n",
       "    <tr style=\"text-align: right;\">\n",
       "      <th></th>\n",
       "      <th>name</th>\n",
       "      <th>address</th>\n",
       "      <th>location</th>\n",
       "      <th>price</th>\n",
       "      <th>cuisine</th>\n",
       "      <th>longitude</th>\n",
       "      <th>latitude</th>\n",
       "      <th>phone_number</th>\n",
       "      <th>url</th>\n",
       "      <th>website_url</th>\n",
       "      <th>award</th>\n",
       "      <th>facilities_and_services</th>\n",
       "    </tr>\n",
       "  </thead>\n",
       "  <tbody>\n",
       "    <tr>\n",
       "      <th>0</th>\n",
       "      <td>King's Joy</td>\n",
       "      <td>2 Wudaoying Hutong, Beijing, China Mainland</td>\n",
       "      <td>Beijing, China Mainland</td>\n",
       "      <td>¥¥¥</td>\n",
       "      <td>Vegetarian</td>\n",
       "      <td>116.410004</td>\n",
       "      <td>39.946681</td>\n",
       "      <td>8.610840e+11</td>\n",
       "      <td>https://guide.michelin.com/en/beijing-municipa...</td>\n",
       "      <td>NaN</td>\n",
       "      <td>3 MICHELIN Stars</td>\n",
       "      <td>Air conditioning,American Express credit card,...</td>\n",
       "    </tr>\n",
       "    <tr>\n",
       "      <th>1</th>\n",
       "      <td>Xin Rong Ji (Xinyuan South Road)</td>\n",
       "      <td>1F, East Tower, Genesis Beijing, 8 Xinyuan Sou...</td>\n",
       "      <td>Beijing, China Mainland</td>\n",
       "      <td>¥¥¥¥</td>\n",
       "      <td>Taizhou</td>\n",
       "      <td>116.450148</td>\n",
       "      <td>39.946380</td>\n",
       "      <td>8.610650e+11</td>\n",
       "      <td>https://guide.michelin.com/en/beijing-municipa...</td>\n",
       "      <td>NaN</td>\n",
       "      <td>3 MICHELIN Stars</td>\n",
       "      <td>Air conditioning,Car park,China UnionPay,Count...</td>\n",
       "    </tr>\n",
       "  </tbody>\n",
       "</table>\n",
       "</div>"
      ],
      "text/plain": [
       "                               name  \\\n",
       "0                        King's Joy   \n",
       "1  Xin Rong Ji (Xinyuan South Road)   \n",
       "\n",
       "                                             address                 location  \\\n",
       "0        2 Wudaoying Hutong, Beijing, China Mainland  Beijing, China Mainland   \n",
       "1  1F, East Tower, Genesis Beijing, 8 Xinyuan Sou...  Beijing, China Mainland   \n",
       "\n",
       "  price     cuisine   longitude   latitude  phone_number  \\\n",
       "0   ¥¥¥  Vegetarian  116.410004  39.946681  8.610840e+11   \n",
       "1  ¥¥¥¥     Taizhou  116.450148  39.946380  8.610650e+11   \n",
       "\n",
       "                                                 url website_url  \\\n",
       "0  https://guide.michelin.com/en/beijing-municipa...         NaN   \n",
       "1  https://guide.michelin.com/en/beijing-municipa...         NaN   \n",
       "\n",
       "              award                            facilities_and_services  \n",
       "0  3 MICHELIN Stars  Air conditioning,American Express credit card,...  \n",
       "1  3 MICHELIN Stars  Air conditioning,Car park,China UnionPay,Count...  "
      ]
     },
     "execution_count": 75,
     "metadata": {},
     "output_type": "execute_result"
    }
   ],
   "source": [
    "df.head(2)"
   ]
  },
  {
   "cell_type": "code",
   "execution_count": 76,
   "id": "8977a1b6",
   "metadata": {},
   "outputs": [
    {
     "data": {
      "text/plain": [
       "'https://guide.michelin.com/en/beijing-municipality/beijing/restaurant/king-s-joy'"
      ]
     },
     "execution_count": 76,
     "metadata": {},
     "output_type": "execute_result"
    }
   ],
   "source": [
    "df.url[0]"
   ]
  },
  {
   "cell_type": "code",
   "execution_count": 77,
   "id": "6a223e7c",
   "metadata": {},
   "outputs": [
    {
     "data": {
      "text/plain": [
       "'https://guide.michelin.com/en/beijing-municipality/beijing/restaurant/xin-rong-ji-xinyuan-south-road'"
      ]
     },
     "execution_count": 77,
     "metadata": {},
     "output_type": "execute_result"
    }
   ],
   "source": [
    "df.url[1]"
   ]
  },
  {
   "cell_type": "code",
   "execution_count": 15,
   "id": "b87feb52",
   "metadata": {},
   "outputs": [
    {
     "data": {
      "text/plain": [
       "'beijing-municipality/beijing/restaurant/king-s-joy'"
      ]
     },
     "execution_count": 15,
     "metadata": {},
     "output_type": "execute_result"
    }
   ],
   "source": [
    "# parts = url_0.split(\"en/\")\n",
    "# parts[1]"
   ]
  },
  {
   "cell_type": "code",
   "execution_count": 16,
   "id": "1d746b60",
   "metadata": {},
   "outputs": [],
   "source": [
    "# df = df.assign(parts= df.url.str.split(\"en/\").str[1])"
   ]
  },
  {
   "cell_type": "code",
   "execution_count": 80,
   "id": "122a2241",
   "metadata": {},
   "outputs": [
    {
     "data": {
      "text/plain": [
       "0       https://guide.michelin.com/en/beijing-municipa...\n",
       "1       https://guide.michelin.com/en/beijing-municipa...\n",
       "2       https://guide.michelin.com/en/shanghai-municip...\n",
       "3       https://guide.michelin.com/en/shanghai-municip...\n",
       "4       https://guide.michelin.com/en/california/san-f...\n",
       "                              ...                        \n",
       "6775    https://guide.michelin.com/en/masovia/warsaw/r...\n",
       "6776    https://guide.michelin.com/en/lesser-poland/cr...\n",
       "6777    https://guide.michelin.com/en/lesser-poland/cr...\n",
       "6778    https://guide.michelin.com/en/masovia/warsaw/r...\n",
       "6779    https://guide.michelin.com/en/masovia/warsaw/r...\n",
       "Name: url, Length: 6780, dtype: object"
      ]
     },
     "execution_count": 80,
     "metadata": {},
     "output_type": "execute_result"
    }
   ],
   "source": [
    "df.url"
   ]
  },
  {
   "cell_type": "code",
   "execution_count": 209,
   "id": "fbc63ebe",
   "metadata": {},
   "outputs": [
    {
     "data": {
      "text/plain": [
       "'https://guide.michelin.com/en/beijing-municipality/beijing/restaurant/king-s-joy'"
      ]
     },
     "execution_count": 209,
     "metadata": {},
     "output_type": "execute_result"
    }
   ],
   "source": [
    "df.url[0]"
   ]
  },
  {
   "cell_type": "code",
   "execution_count": 302,
   "id": "299b8093",
   "metadata": {},
   "outputs": [],
   "source": [
    "### Using a test df to troubleshoot\n",
    "df = pd.read_pickle('data/dftest5.pickle')"
   ]
  },
  {
   "cell_type": "code",
   "execution_count": 303,
   "id": "c8d03060",
   "metadata": {},
   "outputs": [
    {
     "data": {
      "text/html": [
       "<div>\n",
       "<style scoped>\n",
       "    .dataframe tbody tr th:only-of-type {\n",
       "        vertical-align: middle;\n",
       "    }\n",
       "\n",
       "    .dataframe tbody tr th {\n",
       "        vertical-align: top;\n",
       "    }\n",
       "\n",
       "    .dataframe thead th {\n",
       "        text-align: right;\n",
       "    }\n",
       "</style>\n",
       "<table border=\"1\" class=\"dataframe\">\n",
       "  <thead>\n",
       "    <tr style=\"text-align: right;\">\n",
       "      <th></th>\n",
       "      <th>name</th>\n",
       "      <th>address</th>\n",
       "      <th>location</th>\n",
       "      <th>price</th>\n",
       "      <th>cuisine</th>\n",
       "      <th>longitude</th>\n",
       "      <th>latitude</th>\n",
       "      <th>phone_number</th>\n",
       "      <th>url</th>\n",
       "      <th>website_url</th>\n",
       "      <th>award</th>\n",
       "      <th>facilities_and_services</th>\n",
       "      <th>parts</th>\n",
       "    </tr>\n",
       "  </thead>\n",
       "  <tbody>\n",
       "    <tr>\n",
       "      <th>0</th>\n",
       "      <td>King's Joy</td>\n",
       "      <td>2 Wudaoying Hutong, Beijing, China Mainland</td>\n",
       "      <td>Beijing, China Mainland</td>\n",
       "      <td>¥¥¥</td>\n",
       "      <td>Vegetarian</td>\n",
       "      <td>116.410004</td>\n",
       "      <td>39.946681</td>\n",
       "      <td>8.610840e+11</td>\n",
       "      <td>https://guide.michelin.com/en/beijing-municipa...</td>\n",
       "      <td>NaN</td>\n",
       "      <td>3 MICHELIN Stars</td>\n",
       "      <td>Air conditioning,American Express credit card,...</td>\n",
       "      <td>beijing-municipality/beijing/restaurant/king-s...</td>\n",
       "    </tr>\n",
       "    <tr>\n",
       "      <th>1</th>\n",
       "      <td>Xin Rong Ji (Xinyuan South Road)</td>\n",
       "      <td>1F, East Tower, Genesis Beijing, 8 Xinyuan Sou...</td>\n",
       "      <td>Beijing, China Mainland</td>\n",
       "      <td>¥¥¥¥</td>\n",
       "      <td>Taizhou</td>\n",
       "      <td>116.450148</td>\n",
       "      <td>39.946380</td>\n",
       "      <td>8.610650e+11</td>\n",
       "      <td>https://guide.michelin.com/en/beijing-municipa...</td>\n",
       "      <td>NaN</td>\n",
       "      <td>3 MICHELIN Stars</td>\n",
       "      <td>Air conditioning,Car park,China UnionPay,Count...</td>\n",
       "      <td>beijing-municipality/beijing/restaurant/xin-ro...</td>\n",
       "    </tr>\n",
       "  </tbody>\n",
       "</table>\n",
       "</div>"
      ],
      "text/plain": [
       "                               name  \\\n",
       "0                        King's Joy   \n",
       "1  Xin Rong Ji (Xinyuan South Road)   \n",
       "\n",
       "                                             address                 location  \\\n",
       "0        2 Wudaoying Hutong, Beijing, China Mainland  Beijing, China Mainland   \n",
       "1  1F, East Tower, Genesis Beijing, 8 Xinyuan Sou...  Beijing, China Mainland   \n",
       "\n",
       "  price     cuisine   longitude   latitude  phone_number  \\\n",
       "0   ¥¥¥  Vegetarian  116.410004  39.946681  8.610840e+11   \n",
       "1  ¥¥¥¥     Taizhou  116.450148  39.946380  8.610650e+11   \n",
       "\n",
       "                                                 url website_url  \\\n",
       "0  https://guide.michelin.com/en/beijing-municipa...         NaN   \n",
       "1  https://guide.michelin.com/en/beijing-municipa...         NaN   \n",
       "\n",
       "              award                            facilities_and_services  \\\n",
       "0  3 MICHELIN Stars  Air conditioning,American Express credit card,...   \n",
       "1  3 MICHELIN Stars  Air conditioning,Car park,China UnionPay,Count...   \n",
       "\n",
       "                                               parts  \n",
       "0  beijing-municipality/beijing/restaurant/king-s...  \n",
       "1  beijing-municipality/beijing/restaurant/xin-ro...  "
      ]
     },
     "execution_count": 303,
     "metadata": {},
     "output_type": "execute_result"
    }
   ],
   "source": [
    "df.head(2)"
   ]
  },
  {
   "cell_type": "code",
   "execution_count": 304,
   "id": "7b120b5d",
   "metadata": {},
   "outputs": [],
   "source": [
    "#Hardcoding the url for first restaurant\n",
    "url = 'https://guide.michelin.com/en/beijing-municipality/beijing/restaurant/king-s-joy'"
   ]
  },
  {
   "cell_type": "code",
   "execution_count": 305,
   "id": "f6ae0377",
   "metadata": {},
   "outputs": [
    {
     "data": {
      "text/plain": [
       "<Response [200]>"
      ]
     },
     "execution_count": 305,
     "metadata": {},
     "output_type": "execute_result"
    }
   ],
   "source": [
    "requests.get(url)\n",
    "response = requests.get(url)\n",
    "response"
   ]
  },
  {
   "cell_type": "code",
   "execution_count": 269,
   "id": "9c27628c",
   "metadata": {},
   "outputs": [],
   "source": [
    "#telling it you will feed it html\n",
    "soup = BeautifulSoup(response.content, 'html.parser')"
   ]
  },
  {
   "cell_type": "code",
   "execution_count": 270,
   "id": "72862eb9",
   "metadata": {},
   "outputs": [
    {
     "data": {
      "text/plain": [
       "'Just a stone’s throw from Yonghe Temple, this serene restaurant is remodelled from a courtyard house and features a glass-roofed dining room. The chef honed his skills at his grandparents’ restaurant of the same name. Only set menus are available; try the classic menu to sample their specialities all at once. Regulars may opt for the solar-term menu that changes every 15 days. Live harp performance befits the restaurant’s classy elegance.'"
      ]
     },
     "execution_count": 270,
     "metadata": {},
     "output_type": "execute_result"
    }
   ],
   "source": [
    "king = soup.find('div', class_='restaurant-details__description--text')\n",
    "king.find('p', {'class':None} ).text.strip()\n",
    "#king.find_all('p', class_=\"{'class':None}\")"
   ]
  },
  {
   "cell_type": "code",
   "execution_count": 171,
   "id": "6c5b60ec",
   "metadata": {},
   "outputs": [
    {
     "data": {
      "text/plain": [
       "[<p class=\"restaurant-details__likeinfo--description pl-text js-favorite__description\">\n",
       "             Add to favorites\n",
       "         </p>,\n",
       " <p class=\"restaurant-details__likeinfo--description pl-text js-favorite__description\">\n",
       "             Add to favorites\n",
       "         </p>]"
      ]
     },
     "execution_count": 171,
     "metadata": {},
     "output_type": "execute_result"
    }
   ],
   "source": [
    "soup.find_all('p', class_='restaurant-details__likeinfo--description pl-text js-favorite__description')"
   ]
  },
  {
   "cell_type": "code",
   "execution_count": 172,
   "id": "cfa1ed36",
   "metadata": {},
   "outputs": [
    {
     "data": {
      "text/plain": [
       "[<p class=\"restaurant-details__likeinfo--description pl-text js-favorite__description\">\n",
       "             Add to favorites\n",
       "         </p>,\n",
       " <p class=\"restaurant-details__likeinfo--description pl-text js-favorite__description\">\n",
       "             Add to favorites\n",
       "         </p>,\n",
       " <p><p>Just a stone’s throw from Yonghe Temple, this serene restaurant is remodelled from a courtyard house and features a glass-roofed dining room. The chef honed his skills at his grandparents’ restaurant of the same name. Only set menus are available; try the classic menu to sample their specialities all at once. Regulars may opt for the solar-term menu that changes every 15 days. Live harp performance befits the restaurant’s classy elegance.</p></p>,\n",
       " <p>Just a stone’s throw from Yonghe Temple, this serene restaurant is remodelled from a courtyard house and features a glass-roofed dining room. The chef honed his skills at his grandparents’ restaurant of the same name. Only set menus are available; try the classic menu to sample their specialities all at once. Regulars may opt for the solar-term menu that changes every 15 days. Live harp performance befits the restaurant’s classy elegance.</p>,\n",
       " <p>\"We offer vegetarian cuisine using green and seasonal produce that is sourced from local, organic farms. We strive to reduce energy and resource consumption by recycling and banning disposable items. We also promote a sustainable lifestyle through community activities.\"</p>]"
      ]
     },
     "execution_count": 172,
     "metadata": {},
     "output_type": "execute_result"
    }
   ],
   "source": [
    "soup.find_all('p')"
   ]
  },
  {
   "cell_type": "code",
   "execution_count": 173,
   "id": "9f8f794a",
   "metadata": {},
   "outputs": [
    {
     "data": {
      "text/plain": [
       "[<p><p>Just a stone’s throw from Yonghe Temple, this serene restaurant is remodelled from a courtyard house and features a glass-roofed dining room. The chef honed his skills at his grandparents’ restaurant of the same name. Only set menus are available; try the classic menu to sample their specialities all at once. Regulars may opt for the solar-term menu that changes every 15 days. Live harp performance befits the restaurant’s classy elegance.</p></p>,\n",
       " <p>Just a stone’s throw from Yonghe Temple, this serene restaurant is remodelled from a courtyard house and features a glass-roofed dining room. The chef honed his skills at his grandparents’ restaurant of the same name. Only set menus are available; try the classic menu to sample their specialities all at once. Regulars may opt for the solar-term menu that changes every 15 days. Live harp performance befits the restaurant’s classy elegance.</p>,\n",
       " <p>\"We offer vegetarian cuisine using green and seasonal produce that is sourced from local, organic farms. We strive to reduce energy and resource consumption by recycling and banning disposable items. We also promote a sustainable lifestyle through community activities.\"</p>]"
      ]
     },
     "execution_count": 173,
     "metadata": {},
     "output_type": "execute_result"
    }
   ],
   "source": [
    "soup.select('p:not([class])')"
   ]
  },
  {
   "cell_type": "code",
   "execution_count": 174,
   "id": "bb9e03a5",
   "metadata": {},
   "outputs": [
    {
     "data": {
      "text/plain": [
       "<p><p>Just a stone’s throw from Yonghe Temple, this serene restaurant is remodelled from a courtyard house and features a glass-roofed dining room. The chef honed his skills at his grandparents’ restaurant of the same name. Only set menus are available; try the classic menu to sample their specialities all at once. Regulars may opt for the solar-term menu that changes every 15 days. Live harp performance befits the restaurant’s classy elegance.</p></p>"
      ]
     },
     "execution_count": 174,
     "metadata": {},
     "output_type": "execute_result"
    }
   ],
   "source": [
    "soup.find('p', {'class':None})"
   ]
  },
  {
   "cell_type": "code",
   "execution_count": 175,
   "id": "919e8ea6",
   "metadata": {},
   "outputs": [
    {
     "data": {
      "text/plain": [
       "'Just a stone’s throw from Yonghe Temple, this serene restaurant is remodelled from a courtyard house and features a glass-roofed dining room. The chef honed his skills at his grandparents’ restaurant of the same name. Only set menus are available; try the classic menu to sample their specialities all at once. Regulars may opt for the solar-term menu that changes every 15 days. Live harp performance befits the restaurant’s classy elegance.'"
      ]
     },
     "execution_count": 175,
     "metadata": {},
     "output_type": "execute_result"
    }
   ],
   "source": [
    "soup.find('p', {'class':None}).text.strip()"
   ]
  },
  {
   "cell_type": "code",
   "execution_count": 176,
   "id": "69aefac7",
   "metadata": {},
   "outputs": [
    {
     "data": {
      "text/plain": [
       "<p>Just a stone’s throw from Yonghe Temple, this serene restaurant is remodelled from a courtyard house and features a glass-roofed dining room. The chef honed his skills at his grandparents’ restaurant of the same name. Only set menus are available; try the classic menu to sample their specialities all at once. Regulars may opt for the solar-term menu that changes every 15 days. Live harp performance befits the restaurant’s classy elegance.</p>"
      ]
     },
     "execution_count": 176,
     "metadata": {},
     "output_type": "execute_result"
    }
   ],
   "source": [
    "soup.find('p', {'class':None}).contents[0]"
   ]
  },
  {
   "cell_type": "code",
   "execution_count": 177,
   "id": "64d77421",
   "metadata": {},
   "outputs": [
    {
     "data": {
      "text/plain": [
       "0    https://guide.michelin.com/en/beijing-municipa...\n",
       "1    https://guide.michelin.com/en/beijing-municipa...\n",
       "2    https://guide.michelin.com/en/shanghai-municip...\n",
       "3    https://guide.michelin.com/en/shanghai-municip...\n",
       "4    https://guide.michelin.com/en/california/san-f...\n",
       "Name: url, dtype: object"
      ]
     },
     "execution_count": 177,
     "metadata": {},
     "output_type": "execute_result"
    }
   ],
   "source": [
    "df['url']"
   ]
  },
  {
   "cell_type": "code",
   "execution_count": 294,
   "id": "d025d350",
   "metadata": {},
   "outputs": [
    {
     "data": {
      "text/html": [
       "<div>\n",
       "<style scoped>\n",
       "    .dataframe tbody tr th:only-of-type {\n",
       "        vertical-align: middle;\n",
       "    }\n",
       "\n",
       "    .dataframe tbody tr th {\n",
       "        vertical-align: top;\n",
       "    }\n",
       "\n",
       "    .dataframe thead th {\n",
       "        text-align: right;\n",
       "    }\n",
       "</style>\n",
       "<table border=\"1\" class=\"dataframe\">\n",
       "  <thead>\n",
       "    <tr style=\"text-align: right;\">\n",
       "      <th></th>\n",
       "      <th>name</th>\n",
       "      <th>address</th>\n",
       "      <th>location</th>\n",
       "      <th>price</th>\n",
       "      <th>cuisine</th>\n",
       "      <th>longitude</th>\n",
       "      <th>latitude</th>\n",
       "      <th>phone_number</th>\n",
       "      <th>url</th>\n",
       "      <th>website_url</th>\n",
       "      <th>award</th>\n",
       "      <th>facilities_and_services</th>\n",
       "      <th>parts</th>\n",
       "    </tr>\n",
       "  </thead>\n",
       "  <tbody>\n",
       "    <tr>\n",
       "      <th>0</th>\n",
       "      <td>King's Joy</td>\n",
       "      <td>2 Wudaoying Hutong, Beijing, China Mainland</td>\n",
       "      <td>Beijing, China Mainland</td>\n",
       "      <td>¥¥¥</td>\n",
       "      <td>Vegetarian</td>\n",
       "      <td>116.410004</td>\n",
       "      <td>39.946681</td>\n",
       "      <td>8.610840e+11</td>\n",
       "      <td>https://guide.michelin.com/en/beijing-municipa...</td>\n",
       "      <td>NaN</td>\n",
       "      <td>3 MICHELIN Stars</td>\n",
       "      <td>Air conditioning,American Express credit card,...</td>\n",
       "      <td>beijing-municipality/beijing/restaurant/king-s...</td>\n",
       "    </tr>\n",
       "    <tr>\n",
       "      <th>1</th>\n",
       "      <td>Xin Rong Ji (Xinyuan South Road)</td>\n",
       "      <td>1F, East Tower, Genesis Beijing, 8 Xinyuan Sou...</td>\n",
       "      <td>Beijing, China Mainland</td>\n",
       "      <td>¥¥¥¥</td>\n",
       "      <td>Taizhou</td>\n",
       "      <td>116.450148</td>\n",
       "      <td>39.946380</td>\n",
       "      <td>8.610650e+11</td>\n",
       "      <td>https://guide.michelin.com/en/beijing-municipa...</td>\n",
       "      <td>NaN</td>\n",
       "      <td>3 MICHELIN Stars</td>\n",
       "      <td>Air conditioning,Car park,China UnionPay,Count...</td>\n",
       "      <td>beijing-municipality/beijing/restaurant/xin-ro...</td>\n",
       "    </tr>\n",
       "    <tr>\n",
       "      <th>2</th>\n",
       "      <td>Taian Table</td>\n",
       "      <td>101-102, Building No. 1, Garden Office, No.161...</td>\n",
       "      <td>Shanghai, China Mainland</td>\n",
       "      <td>¥¥¥¥</td>\n",
       "      <td>Innovative</td>\n",
       "      <td>121.474049</td>\n",
       "      <td>31.221807</td>\n",
       "      <td>8.617302e+12</td>\n",
       "      <td>https://guide.michelin.com/en/shanghai-municip...</td>\n",
       "      <td>https://taian-table.cn/</td>\n",
       "      <td>3 MICHELIN Stars</td>\n",
       "      <td>Air conditioning,American Express credit card,...</td>\n",
       "      <td>shanghai-municipality/shanghai/restaurant/taia...</td>\n",
       "    </tr>\n",
       "    <tr>\n",
       "      <th>3</th>\n",
       "      <td>Ultraviolet by Paul Pairet</td>\n",
       "      <td>'somewhere in Shanghai' - meet at Mr &amp; Mrs Bun...</td>\n",
       "      <td>Shanghai, China Mainland</td>\n",
       "      <td>¥¥¥¥</td>\n",
       "      <td>Innovative</td>\n",
       "      <td>121.485090</td>\n",
       "      <td>31.240358</td>\n",
       "      <td>NaN</td>\n",
       "      <td>https://guide.michelin.com/en/shanghai-municip...</td>\n",
       "      <td>https://uvbypp.cc/</td>\n",
       "      <td>3 MICHELIN Stars</td>\n",
       "      <td>Air conditioning,American Express credit card,...</td>\n",
       "      <td>shanghai-municipality/shanghai/restaurant/ultr...</td>\n",
       "    </tr>\n",
       "    <tr>\n",
       "      <th>4</th>\n",
       "      <td>Quince</td>\n",
       "      <td>470 Pacific Ave., San Francisco, 94133, USA</td>\n",
       "      <td>San Francisco, USA</td>\n",
       "      <td>$$$$</td>\n",
       "      <td>Contemporary, Californian</td>\n",
       "      <td>-122.403261</td>\n",
       "      <td>37.797505</td>\n",
       "      <td>1.415776e+10</td>\n",
       "      <td>https://guide.michelin.com/en/california/san-f...</td>\n",
       "      <td>http://www.quincerestaurant.com</td>\n",
       "      <td>3 MICHELIN Stars</td>\n",
       "      <td>Air conditioning,American Express credit card,...</td>\n",
       "      <td>california/san-francisco/restaurant/quince</td>\n",
       "    </tr>\n",
       "  </tbody>\n",
       "</table>\n",
       "</div>"
      ],
      "text/plain": [
       "                               name  \\\n",
       "0                        King's Joy   \n",
       "1  Xin Rong Ji (Xinyuan South Road)   \n",
       "2                       Taian Table   \n",
       "3        Ultraviolet by Paul Pairet   \n",
       "4                            Quince   \n",
       "\n",
       "                                             address  \\\n",
       "0        2 Wudaoying Hutong, Beijing, China Mainland   \n",
       "1  1F, East Tower, Genesis Beijing, 8 Xinyuan Sou...   \n",
       "2  101-102, Building No. 1, Garden Office, No.161...   \n",
       "3  'somewhere in Shanghai' - meet at Mr & Mrs Bun...   \n",
       "4        470 Pacific Ave., San Francisco, 94133, USA   \n",
       "\n",
       "                   location price                    cuisine   longitude  \\\n",
       "0   Beijing, China Mainland   ¥¥¥                 Vegetarian  116.410004   \n",
       "1   Beijing, China Mainland  ¥¥¥¥                    Taizhou  116.450148   \n",
       "2  Shanghai, China Mainland  ¥¥¥¥                 Innovative  121.474049   \n",
       "3  Shanghai, China Mainland  ¥¥¥¥                 Innovative  121.485090   \n",
       "4        San Francisco, USA  $$$$  Contemporary, Californian -122.403261   \n",
       "\n",
       "    latitude  phone_number                                                url  \\\n",
       "0  39.946681  8.610840e+11  https://guide.michelin.com/en/beijing-municipa...   \n",
       "1  39.946380  8.610650e+11  https://guide.michelin.com/en/beijing-municipa...   \n",
       "2  31.221807  8.617302e+12  https://guide.michelin.com/en/shanghai-municip...   \n",
       "3  31.240358           NaN  https://guide.michelin.com/en/shanghai-municip...   \n",
       "4  37.797505  1.415776e+10  https://guide.michelin.com/en/california/san-f...   \n",
       "\n",
       "                       website_url             award  \\\n",
       "0                              NaN  3 MICHELIN Stars   \n",
       "1                              NaN  3 MICHELIN Stars   \n",
       "2          https://taian-table.cn/  3 MICHELIN Stars   \n",
       "3               https://uvbypp.cc/  3 MICHELIN Stars   \n",
       "4  http://www.quincerestaurant.com  3 MICHELIN Stars   \n",
       "\n",
       "                             facilities_and_services  \\\n",
       "0  Air conditioning,American Express credit card,...   \n",
       "1  Air conditioning,Car park,China UnionPay,Count...   \n",
       "2  Air conditioning,American Express credit card,...   \n",
       "3  Air conditioning,American Express credit card,...   \n",
       "4  Air conditioning,American Express credit card,...   \n",
       "\n",
       "                                               parts  \n",
       "0  beijing-municipality/beijing/restaurant/king-s...  \n",
       "1  beijing-municipality/beijing/restaurant/xin-ro...  \n",
       "2  shanghai-municipality/shanghai/restaurant/taia...  \n",
       "3  shanghai-municipality/shanghai/restaurant/ultr...  \n",
       "4         california/san-francisco/restaurant/quince  "
      ]
     },
     "execution_count": 294,
     "metadata": {},
     "output_type": "execute_result"
    }
   ],
   "source": [
    "testdf = pd.read_pickle('data/dftest5.pickle')\n",
    "testdf"
   ]
  },
  {
   "cell_type": "code",
   "execution_count": 298,
   "id": "3d0a3073",
   "metadata": {},
   "outputs": [
    {
     "data": {
      "text/plain": [
       "''"
      ]
     },
     "execution_count": 298,
     "metadata": {},
     "output_type": "execute_result"
    }
   ],
   "source": [
    "df.url[0]"
   ]
  },
  {
   "cell_type": "code",
   "execution_count": 292,
   "id": "8c1e4d8d",
   "metadata": {},
   "outputs": [],
   "source": [
    "#Test for first url\n",
    "output= []\n",
    "soup = BeautifulSoup(requests.get(page).content)\n",
    "more_soup = soup.find('div', class_='restaurant-details__description--text')\n",
    "page_output = more_soup.find('p', {'class':None} ).text.strip()\n",
    "output.append(page_output)\n",
    "# time.sleep(2)\n",
    "#df['data'].loc[0] = output"
   ]
  },
  {
   "cell_type": "code",
   "execution_count": 293,
   "id": "3865081a",
   "metadata": {},
   "outputs": [
    {
     "data": {
      "text/plain": [
       "[\"An air of refinement infuses this dining room, thanks to a Murano chandelier, stylish diners and everything in between. No wonder it's where affluent tourists and locals come to celebrate special occasions. From the moment that champagne cart arrives to the last bite of the guéridon’s mignardises, service is wonderfully paced.The menu unfolds as a series of compositions that are laser-focused on product; say a petite bowl of perfect chanterelle mushrooms arranged with shaved ribbons of celtuce and slicked with lardo. Pasta has always been the chef's forte, and newer creations have included a daring twirl of beet-red artisanal spaghetti with Tsar Nicoulai caviar and sturgeon crema or a divine bowlful of agnolottini verdi filled with smoked squab.\"]"
      ]
     },
     "execution_count": 293,
     "metadata": {},
     "output_type": "execute_result"
    }
   ],
   "source": [
    "output"
   ]
  },
  {
   "cell_type": "code",
   "execution_count": 291,
   "id": "192df13a",
   "metadata": {},
   "outputs": [
    {
     "data": {
      "text/plain": [
       "0    [An air of refinement infuses this dining room...\n",
       "1    This branch of the chain restaurant opened in ...\n",
       "2    A fixture on the city’s dining scene since 201...\n",
       "3    This multi-sensory experience at a secret loca...\n",
       "4    An air of refinement infuses this dining room,...\n",
       "Name: data, dtype: object"
      ]
     },
     "execution_count": 291,
     "metadata": {},
     "output_type": "execute_result"
    }
   ],
   "source": [
    "df['data']"
   ]
  },
  {
   "cell_type": "code",
   "execution_count": 97,
   "id": "92dd171e",
   "metadata": {},
   "outputs": [],
   "source": [
    "# def get_michelin_pages():\n",
    "#     df = pd.read_pickle('data/dftest5.pickle')\n",
    "#     urls = df['url']\n",
    "#     output = []\n",
    "#     michelin_df = pd.DataFrame(columns=['data'])\n",
    "#     for page in urls:\n",
    "#         try:\n",
    "#             soup = BeautifulSoup(requests.get(page).content, 'html.parser')\n",
    "#             page_output = soup.find('p', {'class':None}).text.strip()\n",
    "#             output.append(page_output)\n",
    "#             time.sleep(2)\n",
    "#             michelin_df['data'].loc[page] = output\n",
    "#         except:\n",
    "#             pass\n",
    "#     michelin_df.to_pickle('data/michelin_df.pickle')"
   ]
  },
  {
   "cell_type": "code",
   "execution_count": 98,
   "id": "8975031e",
   "metadata": {},
   "outputs": [],
   "source": [
    "get_michelin_pages()"
   ]
  },
  {
   "cell_type": "code",
   "execution_count": 101,
   "id": "a27078d3",
   "metadata": {},
   "outputs": [],
   "source": [
    "# def get_michelin_pages():\n",
    "#     df = pd.read_pickle('data/dftest5.pickle')\n",
    "#     urls = df['url']\n",
    "#     output = []\n",
    "#     michelin_df = pd.DataFrame(columns=['data'])\n",
    "#     for page in urls:\n",
    "#         response = requests.get(page)\n",
    "#         soup = BeautifulSoup(response.content, 'html.parser')\n",
    "#         more_soup = soup.find('div', class_='restaurant-details__description--text')\n",
    "#         page_output = more_soup.find('p', {'class':None} ).text.strip()\n",
    "#         output.append(page_output)\n",
    "#         time.sleep(2)\n",
    "#         michelin_df['data'].loc[page] = output\n",
    "#     michelin_df.to_pickle('michelin_df.pickle')"
   ]
  },
  {
   "cell_type": "code",
   "execution_count": 105,
   "id": "919fd5b4",
   "metadata": {},
   "outputs": [],
   "source": [
    "df = pd.read_pickle('data/dftest5.pickle')"
   ]
  },
  {
   "cell_type": "code",
   "execution_count": 107,
   "id": "972fc2d7",
   "metadata": {},
   "outputs": [],
   "source": [
    "urls = df['url']"
   ]
  },
  {
   "cell_type": "code",
   "execution_count": 151,
   "id": "03a570bb",
   "metadata": {},
   "outputs": [
    {
     "data": {
      "text/plain": [
       "0    https://guide.michelin.com/en/beijing-municipa...\n",
       "1    https://guide.michelin.com/en/beijing-municipa...\n",
       "2    https://guide.michelin.com/en/shanghai-municip...\n",
       "3    https://guide.michelin.com/en/shanghai-municip...\n",
       "4    https://guide.michelin.com/en/california/san-f...\n",
       "Name: url, dtype: object"
      ]
     },
     "execution_count": 151,
     "metadata": {},
     "output_type": "execute_result"
    }
   ],
   "source": [
    "#Its a series\n",
    "urls"
   ]
  },
  {
   "cell_type": "code",
   "execution_count": 111,
   "id": "a6518133",
   "metadata": {},
   "outputs": [],
   "source": [
    "output = []"
   ]
  },
  {
   "cell_type": "code",
   "execution_count": 112,
   "id": "6518c230",
   "metadata": {},
   "outputs": [],
   "source": [
    "michelin_df = pd.DataFrame(columns=['data'])"
   ]
  },
  {
   "cell_type": "code",
   "execution_count": 113,
   "id": "5a60fe48",
   "metadata": {},
   "outputs": [
    {
     "name": "stdout",
     "output_type": "stream",
     "text": [
      "<class 'pandas.core.frame.DataFrame'>\n",
      "Index: 0 entries\n",
      "Data columns (total 1 columns):\n",
      " #   Column  Non-Null Count  Dtype \n",
      "---  ------  --------------  ----- \n",
      " 0   data    0 non-null      object\n",
      "dtypes: object(1)\n",
      "memory usage: 0.0+ bytes\n"
     ]
    }
   ],
   "source": [
    "michelin_df.info()"
   ]
  },
  {
   "cell_type": "code",
   "execution_count": 289,
   "id": "07b222fa",
   "metadata": {},
   "outputs": [
    {
     "name": "stderr",
     "output_type": "stream",
     "text": [
      "/var/folders/vw/1h05rsrx3wbc05jyk4c2bl680000gn/T/ipykernel_50191/2049498423.py:1: SettingWithCopyWarning: \n",
      "A value is trying to be set on a copy of a slice from a DataFrame\n",
      "\n",
      "See the caveats in the documentation: https://pandas.pydata.org/pandas-docs/stable/user_guide/indexing.html#returning-a-view-versus-a-copy\n",
      "  df.url[0] = ''\n"
     ]
    }
   ],
   "source": [
    "df.url[0] = ''"
   ]
  },
  {
   "cell_type": "code",
   "execution_count": 256,
   "id": "c8b4af93",
   "metadata": {},
   "outputs": [],
   "source": [
    "#Calling test df to test this for problems\n",
    "df = pd.read_pickle('data/dftest5.pickle')"
   ]
  },
  {
   "cell_type": "code",
   "execution_count": 307,
   "id": "b13acc6b",
   "metadata": {},
   "outputs": [],
   "source": [
    "#Trying this one, just getting it to append back to the dataframe\n",
    "def get_michelin_pages():\n",
    "    df = pd.read_pickle('data/dftest5.pickle')\n",
    "    urls = df['url']\n",
    "    output = []\n",
    "    #michelin_df = pd.DataFrame(columns=['data'])\n",
    "    for page in urls:\n",
    "        try:\n",
    "            request = requests.get(page)\n",
    "            soup = BeautifulSoup(request.content)\n",
    "            more_soup = soup.find('div', class_='restaurant-details__description--text')\n",
    "            page_output = more_soup.find('p', {'class':None} ).text.strip()\n",
    "            output.append(page_output)\n",
    "            time.sleep(2)\n",
    "            #michelin_df['data'].loc[page] = output\n",
    "        except requests.exceptions.RequestException as e:\n",
    "            print(e)\n",
    "            continue\n",
    "    #michelin_df.to_pickle('data/michelin_df.pickle')\n",
    "    df['data'] = output\n",
    "    return df"
   ]
  },
  {
   "cell_type": "code",
   "execution_count": 308,
   "id": "7ce2bfa6",
   "metadata": {},
   "outputs": [
    {
     "data": {
      "text/html": [
       "<div>\n",
       "<style scoped>\n",
       "    .dataframe tbody tr th:only-of-type {\n",
       "        vertical-align: middle;\n",
       "    }\n",
       "\n",
       "    .dataframe tbody tr th {\n",
       "        vertical-align: top;\n",
       "    }\n",
       "\n",
       "    .dataframe thead th {\n",
       "        text-align: right;\n",
       "    }\n",
       "</style>\n",
       "<table border=\"1\" class=\"dataframe\">\n",
       "  <thead>\n",
       "    <tr style=\"text-align: right;\">\n",
       "      <th></th>\n",
       "      <th>name</th>\n",
       "      <th>address</th>\n",
       "      <th>location</th>\n",
       "      <th>price</th>\n",
       "      <th>cuisine</th>\n",
       "      <th>longitude</th>\n",
       "      <th>latitude</th>\n",
       "      <th>phone_number</th>\n",
       "      <th>url</th>\n",
       "      <th>website_url</th>\n",
       "      <th>award</th>\n",
       "      <th>facilities_and_services</th>\n",
       "      <th>parts</th>\n",
       "      <th>data</th>\n",
       "    </tr>\n",
       "  </thead>\n",
       "  <tbody>\n",
       "    <tr>\n",
       "      <th>0</th>\n",
       "      <td>King's Joy</td>\n",
       "      <td>2 Wudaoying Hutong, Beijing, China Mainland</td>\n",
       "      <td>Beijing, China Mainland</td>\n",
       "      <td>¥¥¥</td>\n",
       "      <td>Vegetarian</td>\n",
       "      <td>116.410004</td>\n",
       "      <td>39.946681</td>\n",
       "      <td>8.610840e+11</td>\n",
       "      <td>https://guide.michelin.com/en/beijing-municipa...</td>\n",
       "      <td>NaN</td>\n",
       "      <td>3 MICHELIN Stars</td>\n",
       "      <td>Air conditioning,American Express credit card,...</td>\n",
       "      <td>beijing-municipality/beijing/restaurant/king-s...</td>\n",
       "      <td></td>\n",
       "    </tr>\n",
       "    <tr>\n",
       "      <th>1</th>\n",
       "      <td>Xin Rong Ji (Xinyuan South Road)</td>\n",
       "      <td>1F, East Tower, Genesis Beijing, 8 Xinyuan Sou...</td>\n",
       "      <td>Beijing, China Mainland</td>\n",
       "      <td>¥¥¥¥</td>\n",
       "      <td>Taizhou</td>\n",
       "      <td>116.450148</td>\n",
       "      <td>39.946380</td>\n",
       "      <td>8.610650e+11</td>\n",
       "      <td>https://guide.michelin.com/en/beijing-municipa...</td>\n",
       "      <td>NaN</td>\n",
       "      <td>3 MICHELIN Stars</td>\n",
       "      <td>Air conditioning,Car park,China UnionPay,Count...</td>\n",
       "      <td>beijing-municipality/beijing/restaurant/xin-ro...</td>\n",
       "      <td>This branch of the chain restaurant opened in ...</td>\n",
       "    </tr>\n",
       "    <tr>\n",
       "      <th>2</th>\n",
       "      <td>Taian Table</td>\n",
       "      <td>101-102, Building No. 1, Garden Office, No.161...</td>\n",
       "      <td>Shanghai, China Mainland</td>\n",
       "      <td>¥¥¥¥</td>\n",
       "      <td>Innovative</td>\n",
       "      <td>121.474049</td>\n",
       "      <td>31.221807</td>\n",
       "      <td>8.617302e+12</td>\n",
       "      <td>https://guide.michelin.com/en/shanghai-municip...</td>\n",
       "      <td>https://taian-table.cn/</td>\n",
       "      <td>3 MICHELIN Stars</td>\n",
       "      <td>Air conditioning,American Express credit card,...</td>\n",
       "      <td>shanghai-municipality/shanghai/restaurant/taia...</td>\n",
       "      <td>A fixture on the city’s dining scene since 201...</td>\n",
       "    </tr>\n",
       "    <tr>\n",
       "      <th>3</th>\n",
       "      <td>Ultraviolet by Paul Pairet</td>\n",
       "      <td>'somewhere in Shanghai' - meet at Mr &amp; Mrs Bun...</td>\n",
       "      <td>Shanghai, China Mainland</td>\n",
       "      <td>¥¥¥¥</td>\n",
       "      <td>Innovative</td>\n",
       "      <td>121.485090</td>\n",
       "      <td>31.240358</td>\n",
       "      <td>NaN</td>\n",
       "      <td>https://guide.michelin.com/en/shanghai-municip...</td>\n",
       "      <td>https://uvbypp.cc/</td>\n",
       "      <td>3 MICHELIN Stars</td>\n",
       "      <td>Air conditioning,American Express credit card,...</td>\n",
       "      <td>shanghai-municipality/shanghai/restaurant/ultr...</td>\n",
       "      <td>This multi-sensory experience at a secret loca...</td>\n",
       "    </tr>\n",
       "    <tr>\n",
       "      <th>4</th>\n",
       "      <td>Quince</td>\n",
       "      <td>470 Pacific Ave., San Francisco, 94133, USA</td>\n",
       "      <td>San Francisco, USA</td>\n",
       "      <td>$$$$</td>\n",
       "      <td>Contemporary, Californian</td>\n",
       "      <td>-122.403261</td>\n",
       "      <td>37.797505</td>\n",
       "      <td>1.415776e+10</td>\n",
       "      <td>https://guide.michelin.com/en/california/san-f...</td>\n",
       "      <td>http://www.quincerestaurant.com</td>\n",
       "      <td>3 MICHELIN Stars</td>\n",
       "      <td>Air conditioning,American Express credit card,...</td>\n",
       "      <td>california/san-francisco/restaurant/quince</td>\n",
       "      <td>An air of refinement infuses this dining room,...</td>\n",
       "    </tr>\n",
       "  </tbody>\n",
       "</table>\n",
       "</div>"
      ],
      "text/plain": [
       "                               name  \\\n",
       "0                        King's Joy   \n",
       "1  Xin Rong Ji (Xinyuan South Road)   \n",
       "2                       Taian Table   \n",
       "3        Ultraviolet by Paul Pairet   \n",
       "4                            Quince   \n",
       "\n",
       "                                             address  \\\n",
       "0        2 Wudaoying Hutong, Beijing, China Mainland   \n",
       "1  1F, East Tower, Genesis Beijing, 8 Xinyuan Sou...   \n",
       "2  101-102, Building No. 1, Garden Office, No.161...   \n",
       "3  'somewhere in Shanghai' - meet at Mr & Mrs Bun...   \n",
       "4        470 Pacific Ave., San Francisco, 94133, USA   \n",
       "\n",
       "                   location price                    cuisine   longitude  \\\n",
       "0   Beijing, China Mainland   ¥¥¥                 Vegetarian  116.410004   \n",
       "1   Beijing, China Mainland  ¥¥¥¥                    Taizhou  116.450148   \n",
       "2  Shanghai, China Mainland  ¥¥¥¥                 Innovative  121.474049   \n",
       "3  Shanghai, China Mainland  ¥¥¥¥                 Innovative  121.485090   \n",
       "4        San Francisco, USA  $$$$  Contemporary, Californian -122.403261   \n",
       "\n",
       "    latitude  phone_number                                                url  \\\n",
       "0  39.946681  8.610840e+11  https://guide.michelin.com/en/beijing-municipa...   \n",
       "1  39.946380  8.610650e+11  https://guide.michelin.com/en/beijing-municipa...   \n",
       "2  31.221807  8.617302e+12  https://guide.michelin.com/en/shanghai-municip...   \n",
       "3  31.240358           NaN  https://guide.michelin.com/en/shanghai-municip...   \n",
       "4  37.797505  1.415776e+10  https://guide.michelin.com/en/california/san-f...   \n",
       "\n",
       "                       website_url             award  \\\n",
       "0                              NaN  3 MICHELIN Stars   \n",
       "1                              NaN  3 MICHELIN Stars   \n",
       "2          https://taian-table.cn/  3 MICHELIN Stars   \n",
       "3               https://uvbypp.cc/  3 MICHELIN Stars   \n",
       "4  http://www.quincerestaurant.com  3 MICHELIN Stars   \n",
       "\n",
       "                             facilities_and_services  \\\n",
       "0  Air conditioning,American Express credit card,...   \n",
       "1  Air conditioning,Car park,China UnionPay,Count...   \n",
       "2  Air conditioning,American Express credit card,...   \n",
       "3  Air conditioning,American Express credit card,...   \n",
       "4  Air conditioning,American Express credit card,...   \n",
       "\n",
       "                                               parts  \\\n",
       "0  beijing-municipality/beijing/restaurant/king-s...   \n",
       "1  beijing-municipality/beijing/restaurant/xin-ro...   \n",
       "2  shanghai-municipality/shanghai/restaurant/taia...   \n",
       "3  shanghai-municipality/shanghai/restaurant/ultr...   \n",
       "4         california/san-francisco/restaurant/quince   \n",
       "\n",
       "                                                data  \n",
       "0                                                     \n",
       "1  This branch of the chain restaurant opened in ...  \n",
       "2  A fixture on the city’s dining scene since 201...  \n",
       "3  This multi-sensory experience at a secret loca...  \n",
       "4  An air of refinement infuses this dining room,...  "
      ]
     },
     "execution_count": 308,
     "metadata": {},
     "output_type": "execute_result"
    }
   ],
   "source": [
    "get_michelin_pages()"
   ]
  },
  {
   "cell_type": "code",
   "execution_count": 103,
   "id": "f35bef37",
   "metadata": {},
   "outputs": [],
   "source": [
    "# testdf = pd.read_pickle('data/michelin_df.pickle')"
   ]
  },
  {
   "cell_type": "code",
   "execution_count": 99,
   "id": "d092cc0e",
   "metadata": {},
   "outputs": [],
   "source": [
    "# testdf = pd.read_pickle('data/michelin_df.pickle')"
   ]
  },
  {
   "cell_type": "code",
   "execution_count": null,
   "id": "24020e78",
   "metadata": {},
   "outputs": [],
   "source": []
  },
  {
   "cell_type": "code",
   "execution_count": null,
   "id": "57fe1966",
   "metadata": {},
   "outputs": [],
   "source": [
    "# df['data'].str.extract(',:}')"
   ]
  },
  {
   "cell_type": "code",
   "execution_count": null,
   "id": "2e805812",
   "metadata": {},
   "outputs": [],
   "source": [
    "# example_string = re.sub(r'[{}]', '', example_string)"
   ]
  },
  {
   "cell_type": "code",
   "execution_count": 46,
   "id": "4837ee13",
   "metadata": {},
   "outputs": [],
   "source": [
    "# df.to_pickle('data/testdf.pickle')"
   ]
  },
  {
   "cell_type": "code",
   "execution_count": 47,
   "id": "dcafef30",
   "metadata": {},
   "outputs": [],
   "source": [
    "# dftest = pd.read_pickle('data/testdf.pickle')"
   ]
  },
  {
   "cell_type": "code",
   "execution_count": 51,
   "id": "1349af0f",
   "metadata": {},
   "outputs": [],
   "source": [
    "# dftest[:5].to_pickle('data/dftest5.pickle')"
   ]
  },
  {
   "cell_type": "code",
   "execution_count": 52,
   "id": "8fdbda0e",
   "metadata": {},
   "outputs": [],
   "source": [
    "# dftest = pd.read_pickle('michelin_df.pickle')"
   ]
  }
 ],
 "metadata": {
  "kernelspec": {
   "display_name": "Python 3 (ipykernel)",
   "language": "python",
   "name": "python3"
  },
  "language_info": {
   "codemirror_mode": {
    "name": "ipython",
    "version": 3
   },
   "file_extension": ".py",
   "mimetype": "text/x-python",
   "name": "python",
   "nbconvert_exporter": "python",
   "pygments_lexer": "ipython3",
   "version": "3.9.15"
  }
 },
 "nbformat": 4,
 "nbformat_minor": 5
}
