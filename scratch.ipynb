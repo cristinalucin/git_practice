{
 "cells": [
  {
   "cell_type": "code",
   "execution_count": 299,
   "id": "5469e277",
   "metadata": {},
   "outputs": [],
   "source": [
    "import pandas as pd\n",
    "import numpy as np\n",
    "import re\n",
    "\n",
    "#Webscraping\n",
    "import requests\n",
    "from requests import get\n",
    "from bs4 import BeautifulSoup\n",
    "import time"
   ]
  },
  {
   "cell_type": "code",
   "execution_count": 300,
   "id": "7acedb21",
   "metadata": {},
   "outputs": [],
   "source": [
    "df = pd.read_csv('data/michelin_my_maps.csv')"
   ]
  },
  {
   "cell_type": "code",
   "execution_count": 301,
   "id": "b4bc79f7",
   "metadata": {},
   "outputs": [
    {
     "data": {
      "text/html": [
       "<div>\n",
       "<style scoped>\n",
       "    .dataframe tbody tr th:only-of-type {\n",
       "        vertical-align: middle;\n",
       "    }\n",
       "\n",
       "    .dataframe tbody tr th {\n",
       "        vertical-align: top;\n",
       "    }\n",
       "\n",
       "    .dataframe thead th {\n",
       "        text-align: right;\n",
       "    }\n",
       "</style>\n",
       "<table border=\"1\" class=\"dataframe\">\n",
       "  <thead>\n",
       "    <tr style=\"text-align: right;\">\n",
       "      <th></th>\n",
       "      <th>Name</th>\n",
       "      <th>Address</th>\n",
       "      <th>Location</th>\n",
       "      <th>Price</th>\n",
       "      <th>Cuisine</th>\n",
       "      <th>Longitude</th>\n",
       "      <th>Latitude</th>\n",
       "      <th>PhoneNumber</th>\n",
       "      <th>Url</th>\n",
       "      <th>WebsiteUrl</th>\n",
       "      <th>Award</th>\n",
       "      <th>FacilitiesAndServices</th>\n",
       "    </tr>\n",
       "  </thead>\n",
       "  <tbody>\n",
       "    <tr>\n",
       "      <th>0</th>\n",
       "      <td>King's Joy</td>\n",
       "      <td>2 Wudaoying Hutong, Beijing, China Mainland</td>\n",
       "      <td>Beijing, China Mainland</td>\n",
       "      <td>¥¥¥</td>\n",
       "      <td>Vegetarian</td>\n",
       "      <td>116.410004</td>\n",
       "      <td>39.946681</td>\n",
       "      <td>8.610840e+11</td>\n",
       "      <td>https://guide.michelin.com/en/beijing-municipa...</td>\n",
       "      <td>NaN</td>\n",
       "      <td>3 MICHELIN Stars</td>\n",
       "      <td>Air conditioning,American Express credit card,...</td>\n",
       "    </tr>\n",
       "    <tr>\n",
       "      <th>1</th>\n",
       "      <td>Xin Rong Ji (Xinyuan South Road)</td>\n",
       "      <td>1F, East Tower, Genesis Beijing, 8 Xinyuan Sou...</td>\n",
       "      <td>Beijing, China Mainland</td>\n",
       "      <td>¥¥¥¥</td>\n",
       "      <td>Taizhou</td>\n",
       "      <td>116.450148</td>\n",
       "      <td>39.946380</td>\n",
       "      <td>8.610650e+11</td>\n",
       "      <td>https://guide.michelin.com/en/beijing-municipa...</td>\n",
       "      <td>NaN</td>\n",
       "      <td>3 MICHELIN Stars</td>\n",
       "      <td>Air conditioning,Car park,China UnionPay,Count...</td>\n",
       "    </tr>\n",
       "  </tbody>\n",
       "</table>\n",
       "</div>"
      ],
      "text/plain": [
       "                               Name  \\\n",
       "0                        King's Joy   \n",
       "1  Xin Rong Ji (Xinyuan South Road)   \n",
       "\n",
       "                                             Address                 Location  \\\n",
       "0        2 Wudaoying Hutong, Beijing, China Mainland  Beijing, China Mainland   \n",
       "1  1F, East Tower, Genesis Beijing, 8 Xinyuan Sou...  Beijing, China Mainland   \n",
       "\n",
       "  Price     Cuisine   Longitude   Latitude   PhoneNumber  \\\n",
       "0   ¥¥¥  Vegetarian  116.410004  39.946681  8.610840e+11   \n",
       "1  ¥¥¥¥     Taizhou  116.450148  39.946380  8.610650e+11   \n",
       "\n",
       "                                                 Url WebsiteUrl  \\\n",
       "0  https://guide.michelin.com/en/beijing-municipa...        NaN   \n",
       "1  https://guide.michelin.com/en/beijing-municipa...        NaN   \n",
       "\n",
       "              Award                              FacilitiesAndServices  \n",
       "0  3 MICHELIN Stars  Air conditioning,American Express credit card,...  \n",
       "1  3 MICHELIN Stars  Air conditioning,Car park,China UnionPay,Count...  "
      ]
     },
     "execution_count": 301,
     "metadata": {},
     "output_type": "execute_result"
    }
   ],
   "source": [
    "df.head(2)"
   ]
  },
  {
   "cell_type": "code",
   "execution_count": 66,
   "id": "eaad904d",
   "metadata": {},
   "outputs": [
    {
     "name": "stdout",
     "output_type": "stream",
     "text": [
      "<class 'pandas.core.frame.DataFrame'>\n",
      "RangeIndex: 6780 entries, 0 to 6779\n",
      "Data columns (total 12 columns):\n",
      " #   Column                 Non-Null Count  Dtype  \n",
      "---  ------                 --------------  -----  \n",
      " 0   Name                   6780 non-null   object \n",
      " 1   Address                6780 non-null   object \n",
      " 2   Location               6780 non-null   object \n",
      " 3   Price                  6726 non-null   object \n",
      " 4   Cuisine                6780 non-null   object \n",
      " 5   Longitude              6780 non-null   float64\n",
      " 6   Latitude               6780 non-null   float64\n",
      " 7   PhoneNumber            6649 non-null   float64\n",
      " 8   Url                    6780 non-null   object \n",
      " 9   WebsiteUrl             5542 non-null   object \n",
      " 10  Award                  6780 non-null   object \n",
      " 11  FacilitiesAndServices  6732 non-null   object \n",
      "dtypes: float64(3), object(9)\n",
      "memory usage: 635.8+ KB\n"
     ]
    }
   ],
   "source": [
    "df.info()"
   ]
  },
  {
   "cell_type": "code",
   "execution_count": 263,
   "id": "1677cb35",
   "metadata": {},
   "outputs": [
    {
     "data": {
      "text/plain": [
       "Bib Gourmand        3411\n",
       "1 MICHELIN Star     2744\n",
       "2 MICHELIN Stars     483\n",
       "3 MICHELIN Stars     142\n",
       "Name: Award, dtype: int64"
      ]
     },
     "execution_count": 263,
     "metadata": {},
     "output_type": "execute_result"
    }
   ],
   "source": [
    "df.Award.value_counts()"
   ]
  },
  {
   "cell_type": "code",
   "execution_count": 264,
   "id": "0367d751",
   "metadata": {},
   "outputs": [
    {
     "data": {
      "text/plain": [
       "'https://guide.michelin.com/en/shanghai-municipality/shanghai/restaurant/taian-table'"
      ]
     },
     "execution_count": 264,
     "metadata": {},
     "output_type": "execute_result"
    }
   ],
   "source": [
    "df.Url[2]"
   ]
  },
  {
   "cell_type": "code",
   "execution_count": 72,
   "id": "1d0706ce",
   "metadata": {},
   "outputs": [],
   "source": [
    "#Make all column names lowercase\n",
    "df.columns = df.columns.str.lower()"
   ]
  },
  {
   "cell_type": "code",
   "execution_count": 73,
   "id": "9ab69459",
   "metadata": {},
   "outputs": [],
   "source": [
    "#renaming columns in snake case\n",
    "df = df.rename(columns = {\"phonenumber\":\"phone_number\", \"websiteurl\":\"website_url\", \"facilitiesandservices\":\"facilities_and_services\"})"
   ]
  },
  {
   "cell_type": "code",
   "execution_count": 15,
   "id": "b87feb52",
   "metadata": {},
   "outputs": [
    {
     "data": {
      "text/plain": [
       "'beijing-municipality/beijing/restaurant/king-s-joy'"
      ]
     },
     "execution_count": 15,
     "metadata": {},
     "output_type": "execute_result"
    }
   ],
   "source": [
    "# parts = url_0.split(\"en/\")\n",
    "# parts[1]"
   ]
  },
  {
   "cell_type": "code",
   "execution_count": 16,
   "id": "1d746b60",
   "metadata": {},
   "outputs": [],
   "source": [
    "# df = df.assign(parts= df.url.str.split(\"en/\").str[1])"
   ]
  },
  {
   "cell_type": "code",
   "execution_count": 302,
   "id": "bd8503b9",
   "metadata": {},
   "outputs": [],
   "source": [
    "### Using a test df to troubleshoot\n",
    "df = pd.read_pickle('data/dftest5.pickle')"
   ]
  },
  {
   "cell_type": "code",
   "execution_count": 393,
   "id": "cd471315",
   "metadata": {},
   "outputs": [
    {
     "data": {
      "text/html": [
       "<div>\n",
       "<style scoped>\n",
       "    .dataframe tbody tr th:only-of-type {\n",
       "        vertical-align: middle;\n",
       "    }\n",
       "\n",
       "    .dataframe tbody tr th {\n",
       "        vertical-align: top;\n",
       "    }\n",
       "\n",
       "    .dataframe thead th {\n",
       "        text-align: right;\n",
       "    }\n",
       "</style>\n",
       "<table border=\"1\" class=\"dataframe\">\n",
       "  <thead>\n",
       "    <tr style=\"text-align: right;\">\n",
       "      <th></th>\n",
       "      <th>name</th>\n",
       "      <th>address</th>\n",
       "      <th>location</th>\n",
       "      <th>price</th>\n",
       "      <th>cuisine</th>\n",
       "      <th>longitude</th>\n",
       "      <th>latitude</th>\n",
       "      <th>phone_number</th>\n",
       "      <th>url</th>\n",
       "      <th>website_url</th>\n",
       "      <th>award</th>\n",
       "      <th>facilities_and_services</th>\n",
       "      <th>parts</th>\n",
       "      <th>data</th>\n",
       "    </tr>\n",
       "  </thead>\n",
       "  <tbody>\n",
       "    <tr>\n",
       "      <th>0</th>\n",
       "      <td>King's Joy</td>\n",
       "      <td>2 Wudaoying Hutong, Beijing, China Mainland</td>\n",
       "      <td>Beijing, China Mainland</td>\n",
       "      <td>¥¥¥</td>\n",
       "      <td>Vegetarian</td>\n",
       "      <td>116.410004</td>\n",
       "      <td>39.946681</td>\n",
       "      <td>8.610840e+11</td>\n",
       "      <td>https://guide.michelin.com/en/beijing-municipa...</td>\n",
       "      <td>NaN</td>\n",
       "      <td>3 MICHELIN Stars</td>\n",
       "      <td>Air conditioning,American Express credit card,...</td>\n",
       "      <td>beijing-municipality/beijing/restaurant/king-s...</td>\n",
       "      <td></td>\n",
       "    </tr>\n",
       "    <tr>\n",
       "      <th>1</th>\n",
       "      <td>Xin Rong Ji (Xinyuan South Road)</td>\n",
       "      <td>1F, East Tower, Genesis Beijing, 8 Xinyuan Sou...</td>\n",
       "      <td>Beijing, China Mainland</td>\n",
       "      <td>¥¥¥¥</td>\n",
       "      <td>Taizhou</td>\n",
       "      <td>116.450148</td>\n",
       "      <td>39.946380</td>\n",
       "      <td>8.610650e+11</td>\n",
       "      <td>https://guide.michelin.com/en/beijing-municipa...</td>\n",
       "      <td>NaN</td>\n",
       "      <td>3 MICHELIN Stars</td>\n",
       "      <td>Air conditioning,Car park,China UnionPay,Count...</td>\n",
       "      <td>beijing-municipality/beijing/restaurant/xin-ro...</td>\n",
       "      <td>This branch of the chain restaurant opened in ...</td>\n",
       "    </tr>\n",
       "  </tbody>\n",
       "</table>\n",
       "</div>"
      ],
      "text/plain": [
       "                               name  \\\n",
       "0                        King's Joy   \n",
       "1  Xin Rong Ji (Xinyuan South Road)   \n",
       "\n",
       "                                             address                 location  \\\n",
       "0        2 Wudaoying Hutong, Beijing, China Mainland  Beijing, China Mainland   \n",
       "1  1F, East Tower, Genesis Beijing, 8 Xinyuan Sou...  Beijing, China Mainland   \n",
       "\n",
       "  price     cuisine   longitude   latitude  phone_number  \\\n",
       "0   ¥¥¥  Vegetarian  116.410004  39.946681  8.610840e+11   \n",
       "1  ¥¥¥¥     Taizhou  116.450148  39.946380  8.610650e+11   \n",
       "\n",
       "                                                 url website_url  \\\n",
       "0  https://guide.michelin.com/en/beijing-municipa...         NaN   \n",
       "1  https://guide.michelin.com/en/beijing-municipa...         NaN   \n",
       "\n",
       "              award                            facilities_and_services  \\\n",
       "0  3 MICHELIN Stars  Air conditioning,American Express credit card,...   \n",
       "1  3 MICHELIN Stars  Air conditioning,Car park,China UnionPay,Count...   \n",
       "\n",
       "                                               parts  \\\n",
       "0  beijing-municipality/beijing/restaurant/king-s...   \n",
       "1  beijing-municipality/beijing/restaurant/xin-ro...   \n",
       "\n",
       "                                                data  \n",
       "0                                                     \n",
       "1  This branch of the chain restaurant opened in ...  "
      ]
     },
     "execution_count": 393,
     "metadata": {},
     "output_type": "execute_result"
    }
   ],
   "source": [
    "df.head(2)"
   ]
  },
  {
   "cell_type": "code",
   "execution_count": 428,
   "id": "7b120b5d",
   "metadata": {},
   "outputs": [],
   "source": [
    "#Hardcoding the url for first restaurant\n",
    "url = 'https://guide.michelin.com/en/beijing-municipality/beijing/restaurant/king-s-joy'"
   ]
  },
  {
   "cell_type": "code",
   "execution_count": 313,
   "id": "f6ae0377",
   "metadata": {},
   "outputs": [
    {
     "data": {
      "text/plain": [
       "<Response [200]>"
      ]
     },
     "execution_count": 313,
     "metadata": {},
     "output_type": "execute_result"
    }
   ],
   "source": [
    "#Checking this to make sure the response is correct\n",
    "# requests.get(url)\n",
    "# response = requests.get(url)\n",
    "# response"
   ]
  },
  {
   "cell_type": "code",
   "execution_count": 438,
   "id": "da8d300c",
   "metadata": {},
   "outputs": [],
   "source": [
    "#Soup factory\n",
    "request = requests.get(url)\n",
    "soup = BeautifulSoup(request.content)\n",
    "more_soup = soup.find('div', class_='restaurant-details__description--text')\n",
    "page_output = more_soup.find_all('p')"
   ]
  },
  {
   "cell_type": "code",
   "execution_count": 439,
   "id": "108a0467",
   "metadata": {},
   "outputs": [
    {
     "data": {
      "text/plain": [
       "<div class=\"restaurant-details__description--text\">\n",
       "<p></p><p>Just a stone’s throw from Yonghe Temple, this serene restaurant is remodelled from a courtyard house and features a glass-roofed dining room. The chef honed his skills at his grandparents’ restaurant of the same name. Only set menus are available; try the classic menu to sample their specialities all at once. Regulars may opt for the solar-term menu that changes every 15 days. Live harp performance befits the restaurant’s classy elegance.</p>\n",
       "</div>"
      ]
     },
     "execution_count": 439,
     "metadata": {},
     "output_type": "execute_result"
    }
   ],
   "source": [
    "more_soup"
   ]
  },
  {
   "cell_type": "code",
   "execution_count": 440,
   "id": "cacb46a2",
   "metadata": {},
   "outputs": [
    {
     "data": {
      "text/plain": [
       "[<p></p>,\n",
       " <p>Just a stone’s throw from Yonghe Temple, this serene restaurant is remodelled from a courtyard house and features a glass-roofed dining room. The chef honed his skills at his grandparents’ restaurant of the same name. Only set menus are available; try the classic menu to sample their specialities all at once. Regulars may opt for the solar-term menu that changes every 15 days. Live harp performance befits the restaurant’s classy elegance.</p>]"
      ]
     },
     "execution_count": 440,
     "metadata": {},
     "output_type": "execute_result"
    }
   ],
   "source": [
    "page_output"
   ]
  },
  {
   "cell_type": "code",
   "execution_count": 367,
   "id": "9c27628c",
   "metadata": {},
   "outputs": [],
   "source": [
    "#telling it you will feed it html\n",
    "soup = BeautifulSoup(response.content, 'html.parser')"
   ]
  },
  {
   "cell_type": "code",
   "execution_count": 270,
   "id": "1f3b2926",
   "metadata": {},
   "outputs": [
    {
     "data": {
      "text/plain": [
       "'Just a stone’s throw from Yonghe Temple, this serene restaurant is remodelled from a courtyard house and features a glass-roofed dining room. The chef honed his skills at his grandparents’ restaurant of the same name. Only set menus are available; try the classic menu to sample their specialities all at once. Regulars may opt for the solar-term menu that changes every 15 days. Live harp performance befits the restaurant’s classy elegance.'"
      ]
     },
     "execution_count": 270,
     "metadata": {},
     "output_type": "execute_result"
    }
   ],
   "source": [
    "king = soup.find('div', class_='restaurant-details__description--text')\n",
    "king.find('p', {'class':None} ).text.strip()\n",
    "#king.find_all('p', class_=\"{'class':None}\")"
   ]
  },
  {
   "cell_type": "code",
   "execution_count": 171,
   "id": "6c5b60ec",
   "metadata": {},
   "outputs": [
    {
     "data": {
      "text/plain": [
       "[<p class=\"restaurant-details__likeinfo--description pl-text js-favorite__description\">\n",
       "             Add to favorites\n",
       "         </p>,\n",
       " <p class=\"restaurant-details__likeinfo--description pl-text js-favorite__description\">\n",
       "             Add to favorites\n",
       "         </p>]"
      ]
     },
     "execution_count": 171,
     "metadata": {},
     "output_type": "execute_result"
    }
   ],
   "source": [
    "soup.find_all('p', class_='restaurant-details__likeinfo--description pl-text js-favorite__description')"
   ]
  },
  {
   "cell_type": "code",
   "execution_count": 172,
   "id": "cfa1ed36",
   "metadata": {},
   "outputs": [
    {
     "data": {
      "text/plain": [
       "[<p class=\"restaurant-details__likeinfo--description pl-text js-favorite__description\">\n",
       "             Add to favorites\n",
       "         </p>,\n",
       " <p class=\"restaurant-details__likeinfo--description pl-text js-favorite__description\">\n",
       "             Add to favorites\n",
       "         </p>,\n",
       " <p><p>Just a stone’s throw from Yonghe Temple, this serene restaurant is remodelled from a courtyard house and features a glass-roofed dining room. The chef honed his skills at his grandparents’ restaurant of the same name. Only set menus are available; try the classic menu to sample their specialities all at once. Regulars may opt for the solar-term menu that changes every 15 days. Live harp performance befits the restaurant’s classy elegance.</p></p>,\n",
       " <p>Just a stone’s throw from Yonghe Temple, this serene restaurant is remodelled from a courtyard house and features a glass-roofed dining room. The chef honed his skills at his grandparents’ restaurant of the same name. Only set menus are available; try the classic menu to sample their specialities all at once. Regulars may opt for the solar-term menu that changes every 15 days. Live harp performance befits the restaurant’s classy elegance.</p>,\n",
       " <p>\"We offer vegetarian cuisine using green and seasonal produce that is sourced from local, organic farms. We strive to reduce energy and resource consumption by recycling and banning disposable items. We also promote a sustainable lifestyle through community activities.\"</p>]"
      ]
     },
     "execution_count": 172,
     "metadata": {},
     "output_type": "execute_result"
    }
   ],
   "source": [
    "soup.find_all('p')"
   ]
  },
  {
   "cell_type": "code",
   "execution_count": 173,
   "id": "9f8f794a",
   "metadata": {},
   "outputs": [
    {
     "data": {
      "text/plain": [
       "[<p><p>Just a stone’s throw from Yonghe Temple, this serene restaurant is remodelled from a courtyard house and features a glass-roofed dining room. The chef honed his skills at his grandparents’ restaurant of the same name. Only set menus are available; try the classic menu to sample their specialities all at once. Regulars may opt for the solar-term menu that changes every 15 days. Live harp performance befits the restaurant’s classy elegance.</p></p>,\n",
       " <p>Just a stone’s throw from Yonghe Temple, this serene restaurant is remodelled from a courtyard house and features a glass-roofed dining room. The chef honed his skills at his grandparents’ restaurant of the same name. Only set menus are available; try the classic menu to sample their specialities all at once. Regulars may opt for the solar-term menu that changes every 15 days. Live harp performance befits the restaurant’s classy elegance.</p>,\n",
       " <p>\"We offer vegetarian cuisine using green and seasonal produce that is sourced from local, organic farms. We strive to reduce energy and resource consumption by recycling and banning disposable items. We also promote a sustainable lifestyle through community activities.\"</p>]"
      ]
     },
     "execution_count": 173,
     "metadata": {},
     "output_type": "execute_result"
    }
   ],
   "source": [
    "soup.select('p:not([class])')"
   ]
  },
  {
   "cell_type": "code",
   "execution_count": 174,
   "id": "bb9e03a5",
   "metadata": {},
   "outputs": [
    {
     "data": {
      "text/plain": [
       "<p><p>Just a stone’s throw from Yonghe Temple, this serene restaurant is remodelled from a courtyard house and features a glass-roofed dining room. The chef honed his skills at his grandparents’ restaurant of the same name. Only set menus are available; try the classic menu to sample their specialities all at once. Regulars may opt for the solar-term menu that changes every 15 days. Live harp performance befits the restaurant’s classy elegance.</p></p>"
      ]
     },
     "execution_count": 174,
     "metadata": {},
     "output_type": "execute_result"
    }
   ],
   "source": [
    "soup.find('p', {'class':None})"
   ]
  },
  {
   "cell_type": "code",
   "execution_count": 175,
   "id": "919e8ea6",
   "metadata": {},
   "outputs": [
    {
     "data": {
      "text/plain": [
       "'Just a stone’s throw from Yonghe Temple, this serene restaurant is remodelled from a courtyard house and features a glass-roofed dining room. The chef honed his skills at his grandparents’ restaurant of the same name. Only set menus are available; try the classic menu to sample their specialities all at once. Regulars may opt for the solar-term menu that changes every 15 days. Live harp performance befits the restaurant’s classy elegance.'"
      ]
     },
     "execution_count": 175,
     "metadata": {},
     "output_type": "execute_result"
    }
   ],
   "source": [
    "soup.find('p', {'class':None}).text.strip()"
   ]
  },
  {
   "cell_type": "code",
   "execution_count": 176,
   "id": "69aefac7",
   "metadata": {},
   "outputs": [
    {
     "data": {
      "text/plain": [
       "<p>Just a stone’s throw from Yonghe Temple, this serene restaurant is remodelled from a courtyard house and features a glass-roofed dining room. The chef honed his skills at his grandparents’ restaurant of the same name. Only set menus are available; try the classic menu to sample their specialities all at once. Regulars may opt for the solar-term menu that changes every 15 days. Live harp performance befits the restaurant’s classy elegance.</p>"
      ]
     },
     "execution_count": 176,
     "metadata": {},
     "output_type": "execute_result"
    }
   ],
   "source": [
    "soup.find('p', {'class':None}).contents[0]"
   ]
  },
  {
   "cell_type": "code",
   "execution_count": 177,
   "id": "64d77421",
   "metadata": {},
   "outputs": [
    {
     "data": {
      "text/plain": [
       "0    https://guide.michelin.com/en/beijing-municipa...\n",
       "1    https://guide.michelin.com/en/beijing-municipa...\n",
       "2    https://guide.michelin.com/en/shanghai-municip...\n",
       "3    https://guide.michelin.com/en/shanghai-municip...\n",
       "4    https://guide.michelin.com/en/california/san-f...\n",
       "Name: url, dtype: object"
      ]
     },
     "execution_count": 177,
     "metadata": {},
     "output_type": "execute_result"
    }
   ],
   "source": [
    "df['url']"
   ]
  },
  {
   "cell_type": "code",
   "execution_count": 311,
   "id": "1afef346",
   "metadata": {},
   "outputs": [
    {
     "data": {
      "text/html": [
       "<div>\n",
       "<style scoped>\n",
       "    .dataframe tbody tr th:only-of-type {\n",
       "        vertical-align: middle;\n",
       "    }\n",
       "\n",
       "    .dataframe tbody tr th {\n",
       "        vertical-align: top;\n",
       "    }\n",
       "\n",
       "    .dataframe thead th {\n",
       "        text-align: right;\n",
       "    }\n",
       "</style>\n",
       "<table border=\"1\" class=\"dataframe\">\n",
       "  <thead>\n",
       "    <tr style=\"text-align: right;\">\n",
       "      <th></th>\n",
       "      <th>name</th>\n",
       "      <th>address</th>\n",
       "      <th>location</th>\n",
       "      <th>price</th>\n",
       "      <th>cuisine</th>\n",
       "      <th>longitude</th>\n",
       "      <th>latitude</th>\n",
       "      <th>phone_number</th>\n",
       "      <th>url</th>\n",
       "      <th>website_url</th>\n",
       "      <th>award</th>\n",
       "      <th>facilities_and_services</th>\n",
       "      <th>parts</th>\n",
       "    </tr>\n",
       "  </thead>\n",
       "  <tbody>\n",
       "    <tr>\n",
       "      <th>0</th>\n",
       "      <td>King's Joy</td>\n",
       "      <td>2 Wudaoying Hutong, Beijing, China Mainland</td>\n",
       "      <td>Beijing, China Mainland</td>\n",
       "      <td>¥¥¥</td>\n",
       "      <td>Vegetarian</td>\n",
       "      <td>116.410004</td>\n",
       "      <td>39.946681</td>\n",
       "      <td>8.610840e+11</td>\n",
       "      <td>https://guide.michelin.com/en/beijing-municipa...</td>\n",
       "      <td>NaN</td>\n",
       "      <td>3 MICHELIN Stars</td>\n",
       "      <td>Air conditioning,American Express credit card,...</td>\n",
       "      <td>beijing-municipality/beijing/restaurant/king-s...</td>\n",
       "    </tr>\n",
       "    <tr>\n",
       "      <th>1</th>\n",
       "      <td>Xin Rong Ji (Xinyuan South Road)</td>\n",
       "      <td>1F, East Tower, Genesis Beijing, 8 Xinyuan Sou...</td>\n",
       "      <td>Beijing, China Mainland</td>\n",
       "      <td>¥¥¥¥</td>\n",
       "      <td>Taizhou</td>\n",
       "      <td>116.450148</td>\n",
       "      <td>39.946380</td>\n",
       "      <td>8.610650e+11</td>\n",
       "      <td>https://guide.michelin.com/en/beijing-municipa...</td>\n",
       "      <td>NaN</td>\n",
       "      <td>3 MICHELIN Stars</td>\n",
       "      <td>Air conditioning,Car park,China UnionPay,Count...</td>\n",
       "      <td>beijing-municipality/beijing/restaurant/xin-ro...</td>\n",
       "    </tr>\n",
       "    <tr>\n",
       "      <th>2</th>\n",
       "      <td>Taian Table</td>\n",
       "      <td>101-102, Building No. 1, Garden Office, No.161...</td>\n",
       "      <td>Shanghai, China Mainland</td>\n",
       "      <td>¥¥¥¥</td>\n",
       "      <td>Innovative</td>\n",
       "      <td>121.474049</td>\n",
       "      <td>31.221807</td>\n",
       "      <td>8.617302e+12</td>\n",
       "      <td>https://guide.michelin.com/en/shanghai-municip...</td>\n",
       "      <td>https://taian-table.cn/</td>\n",
       "      <td>3 MICHELIN Stars</td>\n",
       "      <td>Air conditioning,American Express credit card,...</td>\n",
       "      <td>shanghai-municipality/shanghai/restaurant/taia...</td>\n",
       "    </tr>\n",
       "    <tr>\n",
       "      <th>3</th>\n",
       "      <td>Ultraviolet by Paul Pairet</td>\n",
       "      <td>'somewhere in Shanghai' - meet at Mr &amp; Mrs Bun...</td>\n",
       "      <td>Shanghai, China Mainland</td>\n",
       "      <td>¥¥¥¥</td>\n",
       "      <td>Innovative</td>\n",
       "      <td>121.485090</td>\n",
       "      <td>31.240358</td>\n",
       "      <td>NaN</td>\n",
       "      <td>https://guide.michelin.com/en/shanghai-municip...</td>\n",
       "      <td>https://uvbypp.cc/</td>\n",
       "      <td>3 MICHELIN Stars</td>\n",
       "      <td>Air conditioning,American Express credit card,...</td>\n",
       "      <td>shanghai-municipality/shanghai/restaurant/ultr...</td>\n",
       "    </tr>\n",
       "    <tr>\n",
       "      <th>4</th>\n",
       "      <td>Quince</td>\n",
       "      <td>470 Pacific Ave., San Francisco, 94133, USA</td>\n",
       "      <td>San Francisco, USA</td>\n",
       "      <td>$$$$</td>\n",
       "      <td>Contemporary, Californian</td>\n",
       "      <td>-122.403261</td>\n",
       "      <td>37.797505</td>\n",
       "      <td>1.415776e+10</td>\n",
       "      <td>https://guide.michelin.com/en/california/san-f...</td>\n",
       "      <td>http://www.quincerestaurant.com</td>\n",
       "      <td>3 MICHELIN Stars</td>\n",
       "      <td>Air conditioning,American Express credit card,...</td>\n",
       "      <td>california/san-francisco/restaurant/quince</td>\n",
       "    </tr>\n",
       "  </tbody>\n",
       "</table>\n",
       "</div>"
      ],
      "text/plain": [
       "                               name  \\\n",
       "0                        King's Joy   \n",
       "1  Xin Rong Ji (Xinyuan South Road)   \n",
       "2                       Taian Table   \n",
       "3        Ultraviolet by Paul Pairet   \n",
       "4                            Quince   \n",
       "\n",
       "                                             address  \\\n",
       "0        2 Wudaoying Hutong, Beijing, China Mainland   \n",
       "1  1F, East Tower, Genesis Beijing, 8 Xinyuan Sou...   \n",
       "2  101-102, Building No. 1, Garden Office, No.161...   \n",
       "3  'somewhere in Shanghai' - meet at Mr & Mrs Bun...   \n",
       "4        470 Pacific Ave., San Francisco, 94133, USA   \n",
       "\n",
       "                   location price                    cuisine   longitude  \\\n",
       "0   Beijing, China Mainland   ¥¥¥                 Vegetarian  116.410004   \n",
       "1   Beijing, China Mainland  ¥¥¥¥                    Taizhou  116.450148   \n",
       "2  Shanghai, China Mainland  ¥¥¥¥                 Innovative  121.474049   \n",
       "3  Shanghai, China Mainland  ¥¥¥¥                 Innovative  121.485090   \n",
       "4        San Francisco, USA  $$$$  Contemporary, Californian -122.403261   \n",
       "\n",
       "    latitude  phone_number                                                url  \\\n",
       "0  39.946681  8.610840e+11  https://guide.michelin.com/en/beijing-municipa...   \n",
       "1  39.946380  8.610650e+11  https://guide.michelin.com/en/beijing-municipa...   \n",
       "2  31.221807  8.617302e+12  https://guide.michelin.com/en/shanghai-municip...   \n",
       "3  31.240358           NaN  https://guide.michelin.com/en/shanghai-municip...   \n",
       "4  37.797505  1.415776e+10  https://guide.michelin.com/en/california/san-f...   \n",
       "\n",
       "                       website_url             award  \\\n",
       "0                              NaN  3 MICHELIN Stars   \n",
       "1                              NaN  3 MICHELIN Stars   \n",
       "2          https://taian-table.cn/  3 MICHELIN Stars   \n",
       "3               https://uvbypp.cc/  3 MICHELIN Stars   \n",
       "4  http://www.quincerestaurant.com  3 MICHELIN Stars   \n",
       "\n",
       "                             facilities_and_services  \\\n",
       "0  Air conditioning,American Express credit card,...   \n",
       "1  Air conditioning,Car park,China UnionPay,Count...   \n",
       "2  Air conditioning,American Express credit card,...   \n",
       "3  Air conditioning,American Express credit card,...   \n",
       "4  Air conditioning,American Express credit card,...   \n",
       "\n",
       "                                               parts  \n",
       "0  beijing-municipality/beijing/restaurant/king-s...  \n",
       "1  beijing-municipality/beijing/restaurant/xin-ro...  \n",
       "2  shanghai-municipality/shanghai/restaurant/taia...  \n",
       "3  shanghai-municipality/shanghai/restaurant/ultr...  \n",
       "4         california/san-francisco/restaurant/quince  "
      ]
     },
     "execution_count": 311,
     "metadata": {},
     "output_type": "execute_result"
    }
   ],
   "source": [
    "testdf = pd.read_pickle('data/dftest5.pickle')\n",
    "testdf"
   ]
  },
  {
   "cell_type": "code",
   "execution_count": 318,
   "id": "829c868b",
   "metadata": {},
   "outputs": [
    {
     "data": {
      "text/plain": [
       "'https://guide.michelin.com/en/beijing-municipality/beijing/restaurant/king-s-joy'"
      ]
     },
     "execution_count": 318,
     "metadata": {},
     "output_type": "execute_result"
    }
   ],
   "source": [
    "df.url[0]"
   ]
  },
  {
   "cell_type": "code",
   "execution_count": 319,
   "id": "5414cd01",
   "metadata": {},
   "outputs": [],
   "source": [
    "#url of first row\n",
    "url = 'https://guide.michelin.com/en/beijing-municipality/beijing/restaurant/king-s-joy'"
   ]
  },
  {
   "cell_type": "code",
   "execution_count": 320,
   "id": "1ac47d3e",
   "metadata": {},
   "outputs": [],
   "source": [
    "response = get(url)"
   ]
  },
  {
   "cell_type": "code",
   "execution_count": 321,
   "id": "13b2f6ed",
   "metadata": {},
   "outputs": [
    {
     "data": {
      "text/plain": [
       "<Response [200]>"
      ]
     },
     "execution_count": 321,
     "metadata": {},
     "output_type": "execute_result"
    }
   ],
   "source": [
    "#response ok\n",
    "response"
   ]
  },
  {
   "cell_type": "code",
   "execution_count": 322,
   "id": "6469ac19",
   "metadata": {},
   "outputs": [
    {
     "data": {
      "text/plain": [
       "<Response [200]>"
      ]
     },
     "execution_count": 322,
     "metadata": {},
     "output_type": "execute_result"
    }
   ],
   "source": [
    "#Checking this to make sure the response is correct\n",
    "requests.get(url)"
   ]
  },
  {
   "cell_type": "code",
   "execution_count": 333,
   "id": "ae3e3119",
   "metadata": {},
   "outputs": [
    {
     "name": "stdout",
     "output_type": "stream",
     "text": [
      "<module 'requests' from '/opt/homebrew/anaconda3/lib/python3.9/site-packages/requests/__init__.py'>\n"
     ]
    }
   ],
   "source": [
    "print(requests)"
   ]
  },
  {
   "cell_type": "code",
   "execution_count": 324,
   "id": "613da514",
   "metadata": {},
   "outputs": [],
   "source": [
    "# Make a soup variable holding the response content\n",
    "soup = BeautifulSoup(response.content, 'html.parser')"
   ]
  },
  {
   "cell_type": "code",
   "execution_count": 326,
   "id": "a88e216f",
   "metadata": {},
   "outputs": [],
   "source": [
    "more_soup = soup.find('div', class_='restaurant-details__description--text')"
   ]
  },
  {
   "cell_type": "code",
   "execution_count": 327,
   "id": "9fade9a6",
   "metadata": {},
   "outputs": [
    {
     "name": "stdout",
     "output_type": "stream",
     "text": [
      "<div class=\"restaurant-details__description--text\">\n",
      "<p><p>Just a stone’s throw from Yonghe Temple, this serene restaurant is remodelled from a courtyard house and features a glass-roofed dining room. The chef honed his skills at his grandparents’ restaurant of the same name. Only set menus are available; try the classic menu to sample their specialities all at once. Regulars may opt for the solar-term menu that changes every 15 days. Live harp performance befits the restaurant’s classy elegance.</p></p>\n",
      "</div>\n"
     ]
    }
   ],
   "source": [
    "print(more_soup)"
   ]
  },
  {
   "cell_type": "code",
   "execution_count": 328,
   "id": "a0b5fae2",
   "metadata": {},
   "outputs": [],
   "source": [
    "page_output = more_soup.find('p', {'class':None} ).text.strip()"
   ]
  },
  {
   "cell_type": "code",
   "execution_count": 329,
   "id": "f3f98be1",
   "metadata": {},
   "outputs": [
    {
     "name": "stdout",
     "output_type": "stream",
     "text": [
      "Just a stone’s throw from Yonghe Temple, this serene restaurant is remodelled from a courtyard house and features a glass-roofed dining room. The chef honed his skills at his grandparents’ restaurant of the same name. Only set menus are available; try the classic menu to sample their specialities all at once. Regulars may opt for the solar-term menu that changes every 15 days. Live harp performance befits the restaurant’s classy elegance.\n"
     ]
    }
   ],
   "source": [
    "print(page_output)"
   ]
  },
  {
   "cell_type": "code",
   "execution_count": 330,
   "id": "7c6f1400",
   "metadata": {},
   "outputs": [],
   "source": [
    "#Test for first url\n",
    "output= []\n",
    "soup = BeautifulSoup(response.content, 'html.parser')\n",
    "more_soup = soup.find('div', class_='restaurant-details__description--text')\n",
    "page_output = more_soup.find('p', {'class':None} ).text.strip()\n",
    "output.append(page_output)\n",
    "# time.sleep(2)\n",
    "#df['data'].loc[0] = output"
   ]
  },
  {
   "cell_type": "code",
   "execution_count": 331,
   "id": "67d9161b",
   "metadata": {},
   "outputs": [
    {
     "data": {
      "text/plain": [
       "['Just a stone’s throw from Yonghe Temple, this serene restaurant is remodelled from a courtyard house and features a glass-roofed dining room. The chef honed his skills at his grandparents’ restaurant of the same name. Only set menus are available; try the classic menu to sample their specialities all at once. Regulars may opt for the solar-term menu that changes every 15 days. Live harp performance befits the restaurant’s classy elegance.']"
      ]
     },
     "execution_count": 331,
     "metadata": {},
     "output_type": "execute_result"
    }
   ],
   "source": [
    "output"
   ]
  },
  {
   "cell_type": "code",
   "execution_count": 97,
   "id": "92dd171e",
   "metadata": {},
   "outputs": [],
   "source": [
    "# def get_michelin_pages():\n",
    "#     df = pd.read_pickle('data/dftest5.pickle')\n",
    "#     urls = df['url']\n",
    "#     output = []\n",
    "#     michelin_df = pd.DataFrame(columns=['data'])\n",
    "#     for page in urls:\n",
    "#         try:\n",
    "#             soup = BeautifulSoup(requests.get(page).content, 'html.parser')\n",
    "#             page_output = soup.find('p', {'class':None}).text.strip()\n",
    "#             output.append(page_output)\n",
    "#             time.sleep(2)\n",
    "#             michelin_df['data'].loc[page] = output\n",
    "#         except:\n",
    "#             pass\n",
    "#     michelin_df.to_pickle('data/michelin_df.pickle')"
   ]
  },
  {
   "cell_type": "code",
   "execution_count": 101,
   "id": "7372fd3e",
   "metadata": {},
   "outputs": [],
   "source": [
    "# def get_michelin_pages():\n",
    "#     df = pd.read_pickle('data/dftest5.pickle')\n",
    "#     urls = df['url']\n",
    "#     output = []\n",
    "#     michelin_df = pd.DataFrame(columns=['data'])\n",
    "#     for page in urls:\n",
    "#         response = requests.get(page)\n",
    "#         soup = BeautifulSoup(response.content, 'html.parser')\n",
    "#         more_soup = soup.find('div', class_='restaurant-details__description--text')\n",
    "#         page_output = more_soup.find('p', {'class':None} ).text.strip()\n",
    "#         output.append(page_output)\n",
    "#         time.sleep(2)\n",
    "#         michelin_df['data'].loc[page] = output\n",
    "#     michelin_df.to_pickle('michelin_df.pickle')"
   ]
  },
  {
   "cell_type": "code",
   "execution_count": 105,
   "id": "bfe013a2",
   "metadata": {},
   "outputs": [],
   "source": [
    "# df = pd.read_pickle('data/dftest5.pickle')"
   ]
  },
  {
   "cell_type": "code",
   "execution_count": 256,
   "id": "9db2b08f",
   "metadata": {},
   "outputs": [],
   "source": [
    "# #Calling test df to test this for problems\n",
    "# df = pd.read_pickle('data/dftest5.pickle')"
   ]
  },
  {
   "cell_type": "code",
   "execution_count": 385,
   "id": "68a8abd9",
   "metadata": {},
   "outputs": [
    {
     "data": {
      "text/html": [
       "<div>\n",
       "<style scoped>\n",
       "    .dataframe tbody tr th:only-of-type {\n",
       "        vertical-align: middle;\n",
       "    }\n",
       "\n",
       "    .dataframe tbody tr th {\n",
       "        vertical-align: top;\n",
       "    }\n",
       "\n",
       "    .dataframe thead th {\n",
       "        text-align: right;\n",
       "    }\n",
       "</style>\n",
       "<table border=\"1\" class=\"dataframe\">\n",
       "  <thead>\n",
       "    <tr style=\"text-align: right;\">\n",
       "      <th></th>\n",
       "      <th>name</th>\n",
       "      <th>address</th>\n",
       "      <th>location</th>\n",
       "      <th>price</th>\n",
       "      <th>cuisine</th>\n",
       "      <th>longitude</th>\n",
       "      <th>latitude</th>\n",
       "      <th>phone_number</th>\n",
       "      <th>url</th>\n",
       "      <th>website_url</th>\n",
       "      <th>award</th>\n",
       "      <th>facilities_and_services</th>\n",
       "      <th>parts</th>\n",
       "    </tr>\n",
       "  </thead>\n",
       "  <tbody>\n",
       "    <tr>\n",
       "      <th>0</th>\n",
       "      <td>King's Joy</td>\n",
       "      <td>2 Wudaoying Hutong, Beijing, China Mainland</td>\n",
       "      <td>Beijing, China Mainland</td>\n",
       "      <td>¥¥¥</td>\n",
       "      <td>Vegetarian</td>\n",
       "      <td>116.410004</td>\n",
       "      <td>39.946681</td>\n",
       "      <td>8.610840e+11</td>\n",
       "      <td>https://guide.michelin.com/en/beijing-municipa...</td>\n",
       "      <td>NaN</td>\n",
       "      <td>3 MICHELIN Stars</td>\n",
       "      <td>Air conditioning,American Express credit card,...</td>\n",
       "      <td>beijing-municipality/beijing/restaurant/king-s...</td>\n",
       "    </tr>\n",
       "    <tr>\n",
       "      <th>1</th>\n",
       "      <td>Xin Rong Ji (Xinyuan South Road)</td>\n",
       "      <td>1F, East Tower, Genesis Beijing, 8 Xinyuan Sou...</td>\n",
       "      <td>Beijing, China Mainland</td>\n",
       "      <td>¥¥¥¥</td>\n",
       "      <td>Taizhou</td>\n",
       "      <td>116.450148</td>\n",
       "      <td>39.946380</td>\n",
       "      <td>8.610650e+11</td>\n",
       "      <td>https://guide.michelin.com/en/beijing-municipa...</td>\n",
       "      <td>NaN</td>\n",
       "      <td>3 MICHELIN Stars</td>\n",
       "      <td>Air conditioning,Car park,China UnionPay,Count...</td>\n",
       "      <td>beijing-municipality/beijing/restaurant/xin-ro...</td>\n",
       "    </tr>\n",
       "  </tbody>\n",
       "</table>\n",
       "</div>"
      ],
      "text/plain": [
       "                               name  \\\n",
       "0                        King's Joy   \n",
       "1  Xin Rong Ji (Xinyuan South Road)   \n",
       "\n",
       "                                             address                 location  \\\n",
       "0        2 Wudaoying Hutong, Beijing, China Mainland  Beijing, China Mainland   \n",
       "1  1F, East Tower, Genesis Beijing, 8 Xinyuan Sou...  Beijing, China Mainland   \n",
       "\n",
       "  price     cuisine   longitude   latitude  phone_number  \\\n",
       "0   ¥¥¥  Vegetarian  116.410004  39.946681  8.610840e+11   \n",
       "1  ¥¥¥¥     Taizhou  116.450148  39.946380  8.610650e+11   \n",
       "\n",
       "                                                 url website_url  \\\n",
       "0  https://guide.michelin.com/en/beijing-municipa...         NaN   \n",
       "1  https://guide.michelin.com/en/beijing-municipa...         NaN   \n",
       "\n",
       "              award                            facilities_and_services  \\\n",
       "0  3 MICHELIN Stars  Air conditioning,American Express credit card,...   \n",
       "1  3 MICHELIN Stars  Air conditioning,Car park,China UnionPay,Count...   \n",
       "\n",
       "                                               parts  \n",
       "0  beijing-municipality/beijing/restaurant/king-s...  \n",
       "1  beijing-municipality/beijing/restaurant/xin-ro...  "
      ]
     },
     "execution_count": 385,
     "metadata": {},
     "output_type": "execute_result"
    }
   ],
   "source": [
    "#Using 100 to see what we get back\n",
    "dftest100.head(2)"
   ]
  },
  {
   "cell_type": "code",
   "execution_count": 386,
   "id": "ec5ba090",
   "metadata": {},
   "outputs": [],
   "source": [
    "#Trying this one, just getting it to append back to the dataframe\n",
    "def get_michelin_pages(df):\n",
    "    #df = pd.read_pickle('data/dftest5.pickle')\n",
    "    urls = df['url']\n",
    "    output = []\n",
    "    #michelin_df = pd.DataFrame(columns=['data'])\n",
    "    for page in urls:\n",
    "        try:\n",
    "            request = requests.get(page)\n",
    "            soup = BeautifulSoup(request.content)\n",
    "            #more_soup = soup.find('div', class_='restaurant-details__description--text')\n",
    "            page_output = soup.find('p', {'class':None}).text.strip()\n",
    "            #page_output = more_soup.find('p', {'class':None}).text.strip()\n",
    "            output.append(page_output)\n",
    "            time.sleep(2)\n",
    "            #michelin_df['data'].loc[page] = output\n",
    "        except requests.exceptions.RequestException as e:\n",
    "            print(e)\n",
    "            continue\n",
    "    #michelin_df.to_pickle('data/michelin_df.pickle')\n",
    "    df['data'] = output\n",
    "    return df"
   ]
  },
  {
   "cell_type": "code",
   "execution_count": 387,
   "id": "c9d0425a",
   "metadata": {},
   "outputs": [
    {
     "data": {
      "text/html": [
       "<div>\n",
       "<style scoped>\n",
       "    .dataframe tbody tr th:only-of-type {\n",
       "        vertical-align: middle;\n",
       "    }\n",
       "\n",
       "    .dataframe tbody tr th {\n",
       "        vertical-align: top;\n",
       "    }\n",
       "\n",
       "    .dataframe thead th {\n",
       "        text-align: right;\n",
       "    }\n",
       "</style>\n",
       "<table border=\"1\" class=\"dataframe\">\n",
       "  <thead>\n",
       "    <tr style=\"text-align: right;\">\n",
       "      <th></th>\n",
       "      <th>name</th>\n",
       "      <th>address</th>\n",
       "      <th>location</th>\n",
       "      <th>price</th>\n",
       "      <th>cuisine</th>\n",
       "      <th>longitude</th>\n",
       "      <th>latitude</th>\n",
       "      <th>phone_number</th>\n",
       "      <th>url</th>\n",
       "      <th>website_url</th>\n",
       "      <th>award</th>\n",
       "      <th>facilities_and_services</th>\n",
       "      <th>parts</th>\n",
       "      <th>data</th>\n",
       "    </tr>\n",
       "  </thead>\n",
       "  <tbody>\n",
       "    <tr>\n",
       "      <th>0</th>\n",
       "      <td>King's Joy</td>\n",
       "      <td>2 Wudaoying Hutong, Beijing, China Mainland</td>\n",
       "      <td>Beijing, China Mainland</td>\n",
       "      <td>¥¥¥</td>\n",
       "      <td>Vegetarian</td>\n",
       "      <td>116.410004</td>\n",
       "      <td>39.946681</td>\n",
       "      <td>8.610840e+11</td>\n",
       "      <td>https://guide.michelin.com/en/beijing-municipa...</td>\n",
       "      <td>NaN</td>\n",
       "      <td>3 MICHELIN Stars</td>\n",
       "      <td>Air conditioning,American Express credit card,...</td>\n",
       "      <td>beijing-municipality/beijing/restaurant/king-s...</td>\n",
       "      <td></td>\n",
       "    </tr>\n",
       "    <tr>\n",
       "      <th>1</th>\n",
       "      <td>Xin Rong Ji (Xinyuan South Road)</td>\n",
       "      <td>1F, East Tower, Genesis Beijing, 8 Xinyuan Sou...</td>\n",
       "      <td>Beijing, China Mainland</td>\n",
       "      <td>¥¥¥¥</td>\n",
       "      <td>Taizhou</td>\n",
       "      <td>116.450148</td>\n",
       "      <td>39.946380</td>\n",
       "      <td>8.610650e+11</td>\n",
       "      <td>https://guide.michelin.com/en/beijing-municipa...</td>\n",
       "      <td>NaN</td>\n",
       "      <td>3 MICHELIN Stars</td>\n",
       "      <td>Air conditioning,Car park,China UnionPay,Count...</td>\n",
       "      <td>beijing-municipality/beijing/restaurant/xin-ro...</td>\n",
       "      <td>This branch of the chain restaurant opened in ...</td>\n",
       "    </tr>\n",
       "    <tr>\n",
       "      <th>2</th>\n",
       "      <td>Taian Table</td>\n",
       "      <td>101-102, Building No. 1, Garden Office, No.161...</td>\n",
       "      <td>Shanghai, China Mainland</td>\n",
       "      <td>¥¥¥¥</td>\n",
       "      <td>Innovative</td>\n",
       "      <td>121.474049</td>\n",
       "      <td>31.221807</td>\n",
       "      <td>8.617302e+12</td>\n",
       "      <td>https://guide.michelin.com/en/shanghai-municip...</td>\n",
       "      <td>https://taian-table.cn/</td>\n",
       "      <td>3 MICHELIN Stars</td>\n",
       "      <td>Air conditioning,American Express credit card,...</td>\n",
       "      <td>shanghai-municipality/shanghai/restaurant/taia...</td>\n",
       "      <td>A fixture on the city’s dining scene since 201...</td>\n",
       "    </tr>\n",
       "    <tr>\n",
       "      <th>3</th>\n",
       "      <td>Ultraviolet by Paul Pairet</td>\n",
       "      <td>'somewhere in Shanghai' - meet at Mr &amp; Mrs Bun...</td>\n",
       "      <td>Shanghai, China Mainland</td>\n",
       "      <td>¥¥¥¥</td>\n",
       "      <td>Innovative</td>\n",
       "      <td>121.485090</td>\n",
       "      <td>31.240358</td>\n",
       "      <td>NaN</td>\n",
       "      <td>https://guide.michelin.com/en/shanghai-municip...</td>\n",
       "      <td>https://uvbypp.cc/</td>\n",
       "      <td>3 MICHELIN Stars</td>\n",
       "      <td>Air conditioning,American Express credit card,...</td>\n",
       "      <td>shanghai-municipality/shanghai/restaurant/ultr...</td>\n",
       "      <td>This multi-sensory experience at a secret loca...</td>\n",
       "    </tr>\n",
       "    <tr>\n",
       "      <th>4</th>\n",
       "      <td>Quince</td>\n",
       "      <td>470 Pacific Ave., San Francisco, 94133, USA</td>\n",
       "      <td>San Francisco, USA</td>\n",
       "      <td>$$$$</td>\n",
       "      <td>Contemporary, Californian</td>\n",
       "      <td>-122.403261</td>\n",
       "      <td>37.797505</td>\n",
       "      <td>1.415776e+10</td>\n",
       "      <td>https://guide.michelin.com/en/california/san-f...</td>\n",
       "      <td>http://www.quincerestaurant.com</td>\n",
       "      <td>3 MICHELIN Stars</td>\n",
       "      <td>Air conditioning,American Express credit card,...</td>\n",
       "      <td>california/san-francisco/restaurant/quince</td>\n",
       "      <td>An air of refinement infuses this dining room,...</td>\n",
       "    </tr>\n",
       "    <tr>\n",
       "      <th>...</th>\n",
       "      <td>...</td>\n",
       "      <td>...</td>\n",
       "      <td>...</td>\n",
       "      <td>...</td>\n",
       "      <td>...</td>\n",
       "      <td>...</td>\n",
       "      <td>...</td>\n",
       "      <td>...</td>\n",
       "      <td>...</td>\n",
       "      <td>...</td>\n",
       "      <td>...</td>\n",
       "      <td>...</td>\n",
       "      <td>...</td>\n",
       "      <td>...</td>\n",
       "    </tr>\n",
       "    <tr>\n",
       "      <th>95</th>\n",
       "      <td>Le Clos des Sens</td>\n",
       "      <td>13 rue Jean-Mermoz - à Annecy-le-Vieux, Annecy...</td>\n",
       "      <td>Annecy, France</td>\n",
       "      <td>€€€€</td>\n",
       "      <td>Creative</td>\n",
       "      <td>6.144297</td>\n",
       "      <td>45.918055</td>\n",
       "      <td>3.345023e+10</td>\n",
       "      <td>https://guide.michelin.com/en/auvergne-rhone-a...</td>\n",
       "      <td>https://www.closdessens.com/</td>\n",
       "      <td>3 MICHELIN Stars</td>\n",
       "      <td>Air conditioning,American Express credit card,...</td>\n",
       "      <td>auvergne-rhone-alpes/annecy/restaurant/le-clos...</td>\n",
       "      <td>This handsome abode in the upper reaches of An...</td>\n",
       "    </tr>\n",
       "    <tr>\n",
       "      <th>96</th>\n",
       "      <td>L'Oustau de Baumanière</td>\n",
       "      <td>Mas de Baumanière, Les Baux-de-Provence, 13520...</td>\n",
       "      <td>Les Baux-de-Provence, France</td>\n",
       "      <td>€€€€</td>\n",
       "      <td>Creative</td>\n",
       "      <td>4.787363</td>\n",
       "      <td>43.740266</td>\n",
       "      <td>3.349054e+10</td>\n",
       "      <td>https://guide.michelin.com/en/provence-alpes-c...</td>\n",
       "      <td>https://www.baumaniere.com/</td>\n",
       "      <td>3 MICHELIN Stars</td>\n",
       "      <td>Air conditioning,American Express credit card,...</td>\n",
       "      <td>provence-alpes-cote-dazur/les-baux-de-provence...</td>\n",
       "      <td></td>\n",
       "    </tr>\n",
       "    <tr>\n",
       "      <th>97</th>\n",
       "      <td>La Vague d'Or - Cheval Blanc St-Tropez</td>\n",
       "      <td>Plage de la Bouillabaisse, Saint-Tropez, 83990...</td>\n",
       "      <td>Saint-Tropez, France</td>\n",
       "      <td>€€€€</td>\n",
       "      <td>Creative, Modern Cuisine</td>\n",
       "      <td>6.626154</td>\n",
       "      <td>43.266585</td>\n",
       "      <td>3.349456e+10</td>\n",
       "      <td>https://guide.michelin.com/en/provence-alpes-c...</td>\n",
       "      <td>https://www.chevalblanc.com/fr/maison/st-tropez/</td>\n",
       "      <td>3 MICHELIN Stars</td>\n",
       "      <td>Air conditioning,American Express credit card,...</td>\n",
       "      <td>provence-alpes-cote-dazur/saint-tropez/restaur...</td>\n",
       "      <td></td>\n",
       "    </tr>\n",
       "    <tr>\n",
       "      <th>98</th>\n",
       "      <td>Troisgros - Le Bois sans Feuilles</td>\n",
       "      <td>728 route de Villerest, Ouches, 42155, France</td>\n",
       "      <td>Ouches, France</td>\n",
       "      <td>€€€€</td>\n",
       "      <td>Creative</td>\n",
       "      <td>3.992360</td>\n",
       "      <td>46.010330</td>\n",
       "      <td>3.347772e+10</td>\n",
       "      <td>https://guide.michelin.com/en/auvergne-rhone-a...</td>\n",
       "      <td>https://www.troisgros.com/</td>\n",
       "      <td>3 MICHELIN Stars</td>\n",
       "      <td>Air conditioning,American Express credit card,...</td>\n",
       "      <td>auvergne-rhone-alpes/ouches/restaurant/troisgr...</td>\n",
       "      <td></td>\n",
       "    </tr>\n",
       "    <tr>\n",
       "      <th>99</th>\n",
       "      <td>Christophe Bacquié</td>\n",
       "      <td>3001 route des Hauts-du-Camp, au Circuit Paul ...</td>\n",
       "      <td>Le Castellet, France</td>\n",
       "      <td>€€€€</td>\n",
       "      <td>Modern Cuisine</td>\n",
       "      <td>5.783503</td>\n",
       "      <td>43.250282</td>\n",
       "      <td>3.349498e+10</td>\n",
       "      <td>https://guide.michelin.com/en/provence-alpes-c...</td>\n",
       "      <td>https://www.hotelducastellet.net/fr/restaurant...</td>\n",
       "      <td>3 MICHELIN Stars</td>\n",
       "      <td>Air conditioning,American Express credit card,...</td>\n",
       "      <td>provence-alpes-cote-dazur/le-castellet/restaur...</td>\n",
       "      <td></td>\n",
       "    </tr>\n",
       "  </tbody>\n",
       "</table>\n",
       "<p>100 rows × 14 columns</p>\n",
       "</div>"
      ],
      "text/plain": [
       "                                      name  \\\n",
       "0                               King's Joy   \n",
       "1         Xin Rong Ji (Xinyuan South Road)   \n",
       "2                              Taian Table   \n",
       "3               Ultraviolet by Paul Pairet   \n",
       "4                                   Quince   \n",
       "..                                     ...   \n",
       "95                        Le Clos des Sens   \n",
       "96                  L'Oustau de Baumanière   \n",
       "97  La Vague d'Or - Cheval Blanc St-Tropez   \n",
       "98       Troisgros - Le Bois sans Feuilles   \n",
       "99                      Christophe Bacquié   \n",
       "\n",
       "                                              address  \\\n",
       "0         2 Wudaoying Hutong, Beijing, China Mainland   \n",
       "1   1F, East Tower, Genesis Beijing, 8 Xinyuan Sou...   \n",
       "2   101-102, Building No. 1, Garden Office, No.161...   \n",
       "3   'somewhere in Shanghai' - meet at Mr & Mrs Bun...   \n",
       "4         470 Pacific Ave., San Francisco, 94133, USA   \n",
       "..                                                ...   \n",
       "95  13 rue Jean-Mermoz - à Annecy-le-Vieux, Annecy...   \n",
       "96  Mas de Baumanière, Les Baux-de-Provence, 13520...   \n",
       "97  Plage de la Bouillabaisse, Saint-Tropez, 83990...   \n",
       "98      728 route de Villerest, Ouches, 42155, France   \n",
       "99  3001 route des Hauts-du-Camp, au Circuit Paul ...   \n",
       "\n",
       "                        location price                    cuisine   longitude  \\\n",
       "0        Beijing, China Mainland   ¥¥¥                 Vegetarian  116.410004   \n",
       "1        Beijing, China Mainland  ¥¥¥¥                    Taizhou  116.450148   \n",
       "2       Shanghai, China Mainland  ¥¥¥¥                 Innovative  121.474049   \n",
       "3       Shanghai, China Mainland  ¥¥¥¥                 Innovative  121.485090   \n",
       "4             San Francisco, USA  $$$$  Contemporary, Californian -122.403261   \n",
       "..                           ...   ...                        ...         ...   \n",
       "95                Annecy, France  €€€€                   Creative    6.144297   \n",
       "96  Les Baux-de-Provence, France  €€€€                   Creative    4.787363   \n",
       "97          Saint-Tropez, France  €€€€   Creative, Modern Cuisine    6.626154   \n",
       "98                Ouches, France  €€€€                   Creative    3.992360   \n",
       "99          Le Castellet, France  €€€€             Modern Cuisine    5.783503   \n",
       "\n",
       "     latitude  phone_number  \\\n",
       "0   39.946681  8.610840e+11   \n",
       "1   39.946380  8.610650e+11   \n",
       "2   31.221807  8.617302e+12   \n",
       "3   31.240358           NaN   \n",
       "4   37.797505  1.415776e+10   \n",
       "..        ...           ...   \n",
       "95  45.918055  3.345023e+10   \n",
       "96  43.740266  3.349054e+10   \n",
       "97  43.266585  3.349456e+10   \n",
       "98  46.010330  3.347772e+10   \n",
       "99  43.250282  3.349498e+10   \n",
       "\n",
       "                                                  url  \\\n",
       "0   https://guide.michelin.com/en/beijing-municipa...   \n",
       "1   https://guide.michelin.com/en/beijing-municipa...   \n",
       "2   https://guide.michelin.com/en/shanghai-municip...   \n",
       "3   https://guide.michelin.com/en/shanghai-municip...   \n",
       "4   https://guide.michelin.com/en/california/san-f...   \n",
       "..                                                ...   \n",
       "95  https://guide.michelin.com/en/auvergne-rhone-a...   \n",
       "96  https://guide.michelin.com/en/provence-alpes-c...   \n",
       "97  https://guide.michelin.com/en/provence-alpes-c...   \n",
       "98  https://guide.michelin.com/en/auvergne-rhone-a...   \n",
       "99  https://guide.michelin.com/en/provence-alpes-c...   \n",
       "\n",
       "                                          website_url             award  \\\n",
       "0                                                 NaN  3 MICHELIN Stars   \n",
       "1                                                 NaN  3 MICHELIN Stars   \n",
       "2                             https://taian-table.cn/  3 MICHELIN Stars   \n",
       "3                                  https://uvbypp.cc/  3 MICHELIN Stars   \n",
       "4                     http://www.quincerestaurant.com  3 MICHELIN Stars   \n",
       "..                                                ...               ...   \n",
       "95                       https://www.closdessens.com/  3 MICHELIN Stars   \n",
       "96                        https://www.baumaniere.com/  3 MICHELIN Stars   \n",
       "97   https://www.chevalblanc.com/fr/maison/st-tropez/  3 MICHELIN Stars   \n",
       "98                         https://www.troisgros.com/  3 MICHELIN Stars   \n",
       "99  https://www.hotelducastellet.net/fr/restaurant...  3 MICHELIN Stars   \n",
       "\n",
       "                              facilities_and_services  \\\n",
       "0   Air conditioning,American Express credit card,...   \n",
       "1   Air conditioning,Car park,China UnionPay,Count...   \n",
       "2   Air conditioning,American Express credit card,...   \n",
       "3   Air conditioning,American Express credit card,...   \n",
       "4   Air conditioning,American Express credit card,...   \n",
       "..                                                ...   \n",
       "95  Air conditioning,American Express credit card,...   \n",
       "96  Air conditioning,American Express credit card,...   \n",
       "97  Air conditioning,American Express credit card,...   \n",
       "98  Air conditioning,American Express credit card,...   \n",
       "99  Air conditioning,American Express credit card,...   \n",
       "\n",
       "                                                parts  \\\n",
       "0   beijing-municipality/beijing/restaurant/king-s...   \n",
       "1   beijing-municipality/beijing/restaurant/xin-ro...   \n",
       "2   shanghai-municipality/shanghai/restaurant/taia...   \n",
       "3   shanghai-municipality/shanghai/restaurant/ultr...   \n",
       "4          california/san-francisco/restaurant/quince   \n",
       "..                                                ...   \n",
       "95  auvergne-rhone-alpes/annecy/restaurant/le-clos...   \n",
       "96  provence-alpes-cote-dazur/les-baux-de-provence...   \n",
       "97  provence-alpes-cote-dazur/saint-tropez/restaur...   \n",
       "98  auvergne-rhone-alpes/ouches/restaurant/troisgr...   \n",
       "99  provence-alpes-cote-dazur/le-castellet/restaur...   \n",
       "\n",
       "                                                 data  \n",
       "0                                                      \n",
       "1   This branch of the chain restaurant opened in ...  \n",
       "2   A fixture on the city’s dining scene since 201...  \n",
       "3   This multi-sensory experience at a secret loca...  \n",
       "4   An air of refinement infuses this dining room,...  \n",
       "..                                                ...  \n",
       "95  This handsome abode in the upper reaches of An...  \n",
       "96                                                     \n",
       "97                                                     \n",
       "98                                                     \n",
       "99                                                     \n",
       "\n",
       "[100 rows x 14 columns]"
      ]
     },
     "execution_count": 387,
     "metadata": {},
     "output_type": "execute_result"
    }
   ],
   "source": [
    "get_michelin_pages(dftest100)"
   ]
  },
  {
   "cell_type": "code",
   "execution_count": 391,
   "id": "6fb392d1",
   "metadata": {},
   "outputs": [
    {
     "data": {
      "text/plain": [
       "41"
      ]
     },
     "execution_count": 391,
     "metadata": {},
     "output_type": "execute_result"
    }
   ],
   "source": [
    "#Number of results missing\n",
    "len(dftest100[dftest100.data == ''])"
   ]
  },
  {
   "cell_type": "code",
   "execution_count": 392,
   "id": "c09df2d9",
   "metadata": {},
   "outputs": [],
   "source": [
    "#save this to dataframe\n",
    "dftest100.to_pickle('data/test_100_dataframe_41_return')"
   ]
  },
  {
   "cell_type": "code",
   "execution_count": 376,
   "id": "69a6ce4b",
   "metadata": {},
   "outputs": [],
   "source": [
    "# request = requests.get(url)\n",
    "# soup = BeautifulSoup(request.content)\n",
    "# more_soup = soup.find('div', class_='restaurant-details__description--text')\n",
    "# page_output = more_soup.find_all('p')[1]"
   ]
  },
  {
   "cell_type": "code",
   "execution_count": 103,
   "id": "19dfd66b",
   "metadata": {},
   "outputs": [],
   "source": [
    "# testdf = pd.read_pickle('data/michelin_df.pickle')"
   ]
  },
  {
   "cell_type": "code",
   "execution_count": 99,
   "id": "9c271e55",
   "metadata": {},
   "outputs": [],
   "source": [
    "# testdf = pd.read_pickle('data/michelin_df.pickle')"
   ]
  },
  {
   "cell_type": "code",
   "execution_count": 374,
   "id": "c712daf6",
   "metadata": {},
   "outputs": [
    {
     "data": {
      "text/plain": [
       "[['abc'], ['def']]"
      ]
     },
     "execution_count": 374,
     "metadata": {},
     "output_type": "execute_result"
    }
   ],
   "source": [
    "for i in [['abc'], ['def']]"
   ]
  },
  {
   "cell_type": "code",
   "execution_count": null,
   "id": "57fe1966",
   "metadata": {},
   "outputs": [],
   "source": [
    "# df['data'].str.extract(',:}')"
   ]
  },
  {
   "cell_type": "code",
   "execution_count": null,
   "id": "2e805812",
   "metadata": {},
   "outputs": [],
   "source": [
    "# example_string = re.sub(r'[{}]', '', example_string)"
   ]
  },
  {
   "cell_type": "code",
   "execution_count": 46,
   "id": "4837ee13",
   "metadata": {},
   "outputs": [],
   "source": [
    "# df.to_pickle('data/testdf.pickle')"
   ]
  },
  {
   "cell_type": "code",
   "execution_count": 378,
   "id": "9cdaf2fd",
   "metadata": {},
   "outputs": [],
   "source": [
    "dftest = pd.read_pickle('data/testdf.pickle')"
   ]
  },
  {
   "cell_type": "code",
   "execution_count": 380,
   "id": "ba09b85b",
   "metadata": {},
   "outputs": [
    {
     "data": {
      "text/html": [
       "<div>\n",
       "<style scoped>\n",
       "    .dataframe tbody tr th:only-of-type {\n",
       "        vertical-align: middle;\n",
       "    }\n",
       "\n",
       "    .dataframe tbody tr th {\n",
       "        vertical-align: top;\n",
       "    }\n",
       "\n",
       "    .dataframe thead th {\n",
       "        text-align: right;\n",
       "    }\n",
       "</style>\n",
       "<table border=\"1\" class=\"dataframe\">\n",
       "  <thead>\n",
       "    <tr style=\"text-align: right;\">\n",
       "      <th></th>\n",
       "      <th>name</th>\n",
       "      <th>address</th>\n",
       "      <th>location</th>\n",
       "      <th>price</th>\n",
       "      <th>cuisine</th>\n",
       "      <th>longitude</th>\n",
       "      <th>latitude</th>\n",
       "      <th>phone_number</th>\n",
       "      <th>url</th>\n",
       "      <th>website_url</th>\n",
       "      <th>award</th>\n",
       "      <th>facilities_and_services</th>\n",
       "      <th>parts</th>\n",
       "    </tr>\n",
       "  </thead>\n",
       "  <tbody>\n",
       "    <tr>\n",
       "      <th>0</th>\n",
       "      <td>King's Joy</td>\n",
       "      <td>2 Wudaoying Hutong, Beijing, China Mainland</td>\n",
       "      <td>Beijing, China Mainland</td>\n",
       "      <td>¥¥¥</td>\n",
       "      <td>Vegetarian</td>\n",
       "      <td>116.410004</td>\n",
       "      <td>39.946681</td>\n",
       "      <td>8.610840e+11</td>\n",
       "      <td>https://guide.michelin.com/en/beijing-municipa...</td>\n",
       "      <td>NaN</td>\n",
       "      <td>3 MICHELIN Stars</td>\n",
       "      <td>Air conditioning,American Express credit card,...</td>\n",
       "      <td>beijing-municipality/beijing/restaurant/king-s...</td>\n",
       "    </tr>\n",
       "    <tr>\n",
       "      <th>1</th>\n",
       "      <td>Xin Rong Ji (Xinyuan South Road)</td>\n",
       "      <td>1F, East Tower, Genesis Beijing, 8 Xinyuan Sou...</td>\n",
       "      <td>Beijing, China Mainland</td>\n",
       "      <td>¥¥¥¥</td>\n",
       "      <td>Taizhou</td>\n",
       "      <td>116.450148</td>\n",
       "      <td>39.946380</td>\n",
       "      <td>8.610650e+11</td>\n",
       "      <td>https://guide.michelin.com/en/beijing-municipa...</td>\n",
       "      <td>NaN</td>\n",
       "      <td>3 MICHELIN Stars</td>\n",
       "      <td>Air conditioning,Car park,China UnionPay,Count...</td>\n",
       "      <td>beijing-municipality/beijing/restaurant/xin-ro...</td>\n",
       "    </tr>\n",
       "  </tbody>\n",
       "</table>\n",
       "</div>"
      ],
      "text/plain": [
       "                               name  \\\n",
       "0                        King's Joy   \n",
       "1  Xin Rong Ji (Xinyuan South Road)   \n",
       "\n",
       "                                             address                 location  \\\n",
       "0        2 Wudaoying Hutong, Beijing, China Mainland  Beijing, China Mainland   \n",
       "1  1F, East Tower, Genesis Beijing, 8 Xinyuan Sou...  Beijing, China Mainland   \n",
       "\n",
       "  price     cuisine   longitude   latitude  phone_number  \\\n",
       "0   ¥¥¥  Vegetarian  116.410004  39.946681  8.610840e+11   \n",
       "1  ¥¥¥¥     Taizhou  116.450148  39.946380  8.610650e+11   \n",
       "\n",
       "                                                 url website_url  \\\n",
       "0  https://guide.michelin.com/en/beijing-municipa...         NaN   \n",
       "1  https://guide.michelin.com/en/beijing-municipa...         NaN   \n",
       "\n",
       "              award                            facilities_and_services  \\\n",
       "0  3 MICHELIN Stars  Air conditioning,American Express credit card,...   \n",
       "1  3 MICHELIN Stars  Air conditioning,Car park,China UnionPay,Count...   \n",
       "\n",
       "                                               parts  \n",
       "0  beijing-municipality/beijing/restaurant/king-s...  \n",
       "1  beijing-municipality/beijing/restaurant/xin-ro...  "
      ]
     },
     "execution_count": 380,
     "metadata": {},
     "output_type": "execute_result"
    }
   ],
   "source": [
    "dftest.head(2)"
   ]
  },
  {
   "cell_type": "code",
   "execution_count": 381,
   "id": "b41ab86c",
   "metadata": {},
   "outputs": [],
   "source": [
    "#Make a dataframe of the first 100 to see what we get back\n",
    "dftest[:100].to_pickle('data/dftest100.pickle')"
   ]
  },
  {
   "cell_type": "code",
   "execution_count": 382,
   "id": "ef2c251f",
   "metadata": {},
   "outputs": [],
   "source": [
    "dftest100 = pd.read_pickle('data/dftest100.pickle')"
   ]
  },
  {
   "cell_type": "code",
   "execution_count": 383,
   "id": "738ad576",
   "metadata": {},
   "outputs": [
    {
     "data": {
      "text/html": [
       "<div>\n",
       "<style scoped>\n",
       "    .dataframe tbody tr th:only-of-type {\n",
       "        vertical-align: middle;\n",
       "    }\n",
       "\n",
       "    .dataframe tbody tr th {\n",
       "        vertical-align: top;\n",
       "    }\n",
       "\n",
       "    .dataframe thead th {\n",
       "        text-align: right;\n",
       "    }\n",
       "</style>\n",
       "<table border=\"1\" class=\"dataframe\">\n",
       "  <thead>\n",
       "    <tr style=\"text-align: right;\">\n",
       "      <th></th>\n",
       "      <th>name</th>\n",
       "      <th>address</th>\n",
       "      <th>location</th>\n",
       "      <th>price</th>\n",
       "      <th>cuisine</th>\n",
       "      <th>longitude</th>\n",
       "      <th>latitude</th>\n",
       "      <th>phone_number</th>\n",
       "      <th>url</th>\n",
       "      <th>website_url</th>\n",
       "      <th>award</th>\n",
       "      <th>facilities_and_services</th>\n",
       "      <th>parts</th>\n",
       "    </tr>\n",
       "  </thead>\n",
       "  <tbody>\n",
       "    <tr>\n",
       "      <th>0</th>\n",
       "      <td>King's Joy</td>\n",
       "      <td>2 Wudaoying Hutong, Beijing, China Mainland</td>\n",
       "      <td>Beijing, China Mainland</td>\n",
       "      <td>¥¥¥</td>\n",
       "      <td>Vegetarian</td>\n",
       "      <td>116.410004</td>\n",
       "      <td>39.946681</td>\n",
       "      <td>8.610840e+11</td>\n",
       "      <td>https://guide.michelin.com/en/beijing-municipa...</td>\n",
       "      <td>NaN</td>\n",
       "      <td>3 MICHELIN Stars</td>\n",
       "      <td>Air conditioning,American Express credit card,...</td>\n",
       "      <td>beijing-municipality/beijing/restaurant/king-s...</td>\n",
       "    </tr>\n",
       "    <tr>\n",
       "      <th>1</th>\n",
       "      <td>Xin Rong Ji (Xinyuan South Road)</td>\n",
       "      <td>1F, East Tower, Genesis Beijing, 8 Xinyuan Sou...</td>\n",
       "      <td>Beijing, China Mainland</td>\n",
       "      <td>¥¥¥¥</td>\n",
       "      <td>Taizhou</td>\n",
       "      <td>116.450148</td>\n",
       "      <td>39.946380</td>\n",
       "      <td>8.610650e+11</td>\n",
       "      <td>https://guide.michelin.com/en/beijing-municipa...</td>\n",
       "      <td>NaN</td>\n",
       "      <td>3 MICHELIN Stars</td>\n",
       "      <td>Air conditioning,Car park,China UnionPay,Count...</td>\n",
       "      <td>beijing-municipality/beijing/restaurant/xin-ro...</td>\n",
       "    </tr>\n",
       "    <tr>\n",
       "      <th>2</th>\n",
       "      <td>Taian Table</td>\n",
       "      <td>101-102, Building No. 1, Garden Office, No.161...</td>\n",
       "      <td>Shanghai, China Mainland</td>\n",
       "      <td>¥¥¥¥</td>\n",
       "      <td>Innovative</td>\n",
       "      <td>121.474049</td>\n",
       "      <td>31.221807</td>\n",
       "      <td>8.617302e+12</td>\n",
       "      <td>https://guide.michelin.com/en/shanghai-municip...</td>\n",
       "      <td>https://taian-table.cn/</td>\n",
       "      <td>3 MICHELIN Stars</td>\n",
       "      <td>Air conditioning,American Express credit card,...</td>\n",
       "      <td>shanghai-municipality/shanghai/restaurant/taia...</td>\n",
       "    </tr>\n",
       "    <tr>\n",
       "      <th>3</th>\n",
       "      <td>Ultraviolet by Paul Pairet</td>\n",
       "      <td>'somewhere in Shanghai' - meet at Mr &amp; Mrs Bun...</td>\n",
       "      <td>Shanghai, China Mainland</td>\n",
       "      <td>¥¥¥¥</td>\n",
       "      <td>Innovative</td>\n",
       "      <td>121.485090</td>\n",
       "      <td>31.240358</td>\n",
       "      <td>NaN</td>\n",
       "      <td>https://guide.michelin.com/en/shanghai-municip...</td>\n",
       "      <td>https://uvbypp.cc/</td>\n",
       "      <td>3 MICHELIN Stars</td>\n",
       "      <td>Air conditioning,American Express credit card,...</td>\n",
       "      <td>shanghai-municipality/shanghai/restaurant/ultr...</td>\n",
       "    </tr>\n",
       "    <tr>\n",
       "      <th>4</th>\n",
       "      <td>Quince</td>\n",
       "      <td>470 Pacific Ave., San Francisco, 94133, USA</td>\n",
       "      <td>San Francisco, USA</td>\n",
       "      <td>$$$$</td>\n",
       "      <td>Contemporary, Californian</td>\n",
       "      <td>-122.403261</td>\n",
       "      <td>37.797505</td>\n",
       "      <td>1.415776e+10</td>\n",
       "      <td>https://guide.michelin.com/en/california/san-f...</td>\n",
       "      <td>http://www.quincerestaurant.com</td>\n",
       "      <td>3 MICHELIN Stars</td>\n",
       "      <td>Air conditioning,American Express credit card,...</td>\n",
       "      <td>california/san-francisco/restaurant/quince</td>\n",
       "    </tr>\n",
       "    <tr>\n",
       "      <th>...</th>\n",
       "      <td>...</td>\n",
       "      <td>...</td>\n",
       "      <td>...</td>\n",
       "      <td>...</td>\n",
       "      <td>...</td>\n",
       "      <td>...</td>\n",
       "      <td>...</td>\n",
       "      <td>...</td>\n",
       "      <td>...</td>\n",
       "      <td>...</td>\n",
       "      <td>...</td>\n",
       "      <td>...</td>\n",
       "      <td>...</td>\n",
       "    </tr>\n",
       "    <tr>\n",
       "      <th>95</th>\n",
       "      <td>Le Clos des Sens</td>\n",
       "      <td>13 rue Jean-Mermoz - à Annecy-le-Vieux, Annecy...</td>\n",
       "      <td>Annecy, France</td>\n",
       "      <td>€€€€</td>\n",
       "      <td>Creative</td>\n",
       "      <td>6.144297</td>\n",
       "      <td>45.918055</td>\n",
       "      <td>3.345023e+10</td>\n",
       "      <td>https://guide.michelin.com/en/auvergne-rhone-a...</td>\n",
       "      <td>https://www.closdessens.com/</td>\n",
       "      <td>3 MICHELIN Stars</td>\n",
       "      <td>Air conditioning,American Express credit card,...</td>\n",
       "      <td>auvergne-rhone-alpes/annecy/restaurant/le-clos...</td>\n",
       "    </tr>\n",
       "    <tr>\n",
       "      <th>96</th>\n",
       "      <td>L'Oustau de Baumanière</td>\n",
       "      <td>Mas de Baumanière, Les Baux-de-Provence, 13520...</td>\n",
       "      <td>Les Baux-de-Provence, France</td>\n",
       "      <td>€€€€</td>\n",
       "      <td>Creative</td>\n",
       "      <td>4.787363</td>\n",
       "      <td>43.740266</td>\n",
       "      <td>3.349054e+10</td>\n",
       "      <td>https://guide.michelin.com/en/provence-alpes-c...</td>\n",
       "      <td>https://www.baumaniere.com/</td>\n",
       "      <td>3 MICHELIN Stars</td>\n",
       "      <td>Air conditioning,American Express credit card,...</td>\n",
       "      <td>provence-alpes-cote-dazur/les-baux-de-provence...</td>\n",
       "    </tr>\n",
       "    <tr>\n",
       "      <th>97</th>\n",
       "      <td>La Vague d'Or - Cheval Blanc St-Tropez</td>\n",
       "      <td>Plage de la Bouillabaisse, Saint-Tropez, 83990...</td>\n",
       "      <td>Saint-Tropez, France</td>\n",
       "      <td>€€€€</td>\n",
       "      <td>Creative, Modern Cuisine</td>\n",
       "      <td>6.626154</td>\n",
       "      <td>43.266585</td>\n",
       "      <td>3.349456e+10</td>\n",
       "      <td>https://guide.michelin.com/en/provence-alpes-c...</td>\n",
       "      <td>https://www.chevalblanc.com/fr/maison/st-tropez/</td>\n",
       "      <td>3 MICHELIN Stars</td>\n",
       "      <td>Air conditioning,American Express credit card,...</td>\n",
       "      <td>provence-alpes-cote-dazur/saint-tropez/restaur...</td>\n",
       "    </tr>\n",
       "    <tr>\n",
       "      <th>98</th>\n",
       "      <td>Troisgros - Le Bois sans Feuilles</td>\n",
       "      <td>728 route de Villerest, Ouches, 42155, France</td>\n",
       "      <td>Ouches, France</td>\n",
       "      <td>€€€€</td>\n",
       "      <td>Creative</td>\n",
       "      <td>3.992360</td>\n",
       "      <td>46.010330</td>\n",
       "      <td>3.347772e+10</td>\n",
       "      <td>https://guide.michelin.com/en/auvergne-rhone-a...</td>\n",
       "      <td>https://www.troisgros.com/</td>\n",
       "      <td>3 MICHELIN Stars</td>\n",
       "      <td>Air conditioning,American Express credit card,...</td>\n",
       "      <td>auvergne-rhone-alpes/ouches/restaurant/troisgr...</td>\n",
       "    </tr>\n",
       "    <tr>\n",
       "      <th>99</th>\n",
       "      <td>Christophe Bacquié</td>\n",
       "      <td>3001 route des Hauts-du-Camp, au Circuit Paul ...</td>\n",
       "      <td>Le Castellet, France</td>\n",
       "      <td>€€€€</td>\n",
       "      <td>Modern Cuisine</td>\n",
       "      <td>5.783503</td>\n",
       "      <td>43.250282</td>\n",
       "      <td>3.349498e+10</td>\n",
       "      <td>https://guide.michelin.com/en/provence-alpes-c...</td>\n",
       "      <td>https://www.hotelducastellet.net/fr/restaurant...</td>\n",
       "      <td>3 MICHELIN Stars</td>\n",
       "      <td>Air conditioning,American Express credit card,...</td>\n",
       "      <td>provence-alpes-cote-dazur/le-castellet/restaur...</td>\n",
       "    </tr>\n",
       "  </tbody>\n",
       "</table>\n",
       "<p>100 rows × 13 columns</p>\n",
       "</div>"
      ],
      "text/plain": [
       "                                      name  \\\n",
       "0                               King's Joy   \n",
       "1         Xin Rong Ji (Xinyuan South Road)   \n",
       "2                              Taian Table   \n",
       "3               Ultraviolet by Paul Pairet   \n",
       "4                                   Quince   \n",
       "..                                     ...   \n",
       "95                        Le Clos des Sens   \n",
       "96                  L'Oustau de Baumanière   \n",
       "97  La Vague d'Or - Cheval Blanc St-Tropez   \n",
       "98       Troisgros - Le Bois sans Feuilles   \n",
       "99                      Christophe Bacquié   \n",
       "\n",
       "                                              address  \\\n",
       "0         2 Wudaoying Hutong, Beijing, China Mainland   \n",
       "1   1F, East Tower, Genesis Beijing, 8 Xinyuan Sou...   \n",
       "2   101-102, Building No. 1, Garden Office, No.161...   \n",
       "3   'somewhere in Shanghai' - meet at Mr & Mrs Bun...   \n",
       "4         470 Pacific Ave., San Francisco, 94133, USA   \n",
       "..                                                ...   \n",
       "95  13 rue Jean-Mermoz - à Annecy-le-Vieux, Annecy...   \n",
       "96  Mas de Baumanière, Les Baux-de-Provence, 13520...   \n",
       "97  Plage de la Bouillabaisse, Saint-Tropez, 83990...   \n",
       "98      728 route de Villerest, Ouches, 42155, France   \n",
       "99  3001 route des Hauts-du-Camp, au Circuit Paul ...   \n",
       "\n",
       "                        location price                    cuisine   longitude  \\\n",
       "0        Beijing, China Mainland   ¥¥¥                 Vegetarian  116.410004   \n",
       "1        Beijing, China Mainland  ¥¥¥¥                    Taizhou  116.450148   \n",
       "2       Shanghai, China Mainland  ¥¥¥¥                 Innovative  121.474049   \n",
       "3       Shanghai, China Mainland  ¥¥¥¥                 Innovative  121.485090   \n",
       "4             San Francisco, USA  $$$$  Contemporary, Californian -122.403261   \n",
       "..                           ...   ...                        ...         ...   \n",
       "95                Annecy, France  €€€€                   Creative    6.144297   \n",
       "96  Les Baux-de-Provence, France  €€€€                   Creative    4.787363   \n",
       "97          Saint-Tropez, France  €€€€   Creative, Modern Cuisine    6.626154   \n",
       "98                Ouches, France  €€€€                   Creative    3.992360   \n",
       "99          Le Castellet, France  €€€€             Modern Cuisine    5.783503   \n",
       "\n",
       "     latitude  phone_number  \\\n",
       "0   39.946681  8.610840e+11   \n",
       "1   39.946380  8.610650e+11   \n",
       "2   31.221807  8.617302e+12   \n",
       "3   31.240358           NaN   \n",
       "4   37.797505  1.415776e+10   \n",
       "..        ...           ...   \n",
       "95  45.918055  3.345023e+10   \n",
       "96  43.740266  3.349054e+10   \n",
       "97  43.266585  3.349456e+10   \n",
       "98  46.010330  3.347772e+10   \n",
       "99  43.250282  3.349498e+10   \n",
       "\n",
       "                                                  url  \\\n",
       "0   https://guide.michelin.com/en/beijing-municipa...   \n",
       "1   https://guide.michelin.com/en/beijing-municipa...   \n",
       "2   https://guide.michelin.com/en/shanghai-municip...   \n",
       "3   https://guide.michelin.com/en/shanghai-municip...   \n",
       "4   https://guide.michelin.com/en/california/san-f...   \n",
       "..                                                ...   \n",
       "95  https://guide.michelin.com/en/auvergne-rhone-a...   \n",
       "96  https://guide.michelin.com/en/provence-alpes-c...   \n",
       "97  https://guide.michelin.com/en/provence-alpes-c...   \n",
       "98  https://guide.michelin.com/en/auvergne-rhone-a...   \n",
       "99  https://guide.michelin.com/en/provence-alpes-c...   \n",
       "\n",
       "                                          website_url             award  \\\n",
       "0                                                 NaN  3 MICHELIN Stars   \n",
       "1                                                 NaN  3 MICHELIN Stars   \n",
       "2                             https://taian-table.cn/  3 MICHELIN Stars   \n",
       "3                                  https://uvbypp.cc/  3 MICHELIN Stars   \n",
       "4                     http://www.quincerestaurant.com  3 MICHELIN Stars   \n",
       "..                                                ...               ...   \n",
       "95                       https://www.closdessens.com/  3 MICHELIN Stars   \n",
       "96                        https://www.baumaniere.com/  3 MICHELIN Stars   \n",
       "97   https://www.chevalblanc.com/fr/maison/st-tropez/  3 MICHELIN Stars   \n",
       "98                         https://www.troisgros.com/  3 MICHELIN Stars   \n",
       "99  https://www.hotelducastellet.net/fr/restaurant...  3 MICHELIN Stars   \n",
       "\n",
       "                              facilities_and_services  \\\n",
       "0   Air conditioning,American Express credit card,...   \n",
       "1   Air conditioning,Car park,China UnionPay,Count...   \n",
       "2   Air conditioning,American Express credit card,...   \n",
       "3   Air conditioning,American Express credit card,...   \n",
       "4   Air conditioning,American Express credit card,...   \n",
       "..                                                ...   \n",
       "95  Air conditioning,American Express credit card,...   \n",
       "96  Air conditioning,American Express credit card,...   \n",
       "97  Air conditioning,American Express credit card,...   \n",
       "98  Air conditioning,American Express credit card,...   \n",
       "99  Air conditioning,American Express credit card,...   \n",
       "\n",
       "                                                parts  \n",
       "0   beijing-municipality/beijing/restaurant/king-s...  \n",
       "1   beijing-municipality/beijing/restaurant/xin-ro...  \n",
       "2   shanghai-municipality/shanghai/restaurant/taia...  \n",
       "3   shanghai-municipality/shanghai/restaurant/ultr...  \n",
       "4          california/san-francisco/restaurant/quince  \n",
       "..                                                ...  \n",
       "95  auvergne-rhone-alpes/annecy/restaurant/le-clos...  \n",
       "96  provence-alpes-cote-dazur/les-baux-de-provence...  \n",
       "97  provence-alpes-cote-dazur/saint-tropez/restaur...  \n",
       "98  auvergne-rhone-alpes/ouches/restaurant/troisgr...  \n",
       "99  provence-alpes-cote-dazur/le-castellet/restaur...  \n",
       "\n",
       "[100 rows x 13 columns]"
      ]
     },
     "execution_count": 383,
     "metadata": {},
     "output_type": "execute_result"
    }
   ],
   "source": [
    "dftest100"
   ]
  },
  {
   "cell_type": "code",
   "execution_count": null,
   "id": "2225a68a",
   "metadata": {},
   "outputs": [],
   "source": []
  },
  {
   "cell_type": "code",
   "execution_count": 421,
   "id": "d9bf0af5",
   "metadata": {},
   "outputs": [],
   "source": [
    "#getting fresh test data\n",
    "dftest = pd.read_pickle('data/testdf.pickle')\n",
    "#Make a dataframe of the first 100 to see what we get back\n",
    "dftest[:100].to_pickle('data/dftest100_iteration2.pickle')\n",
    "#Reading it back with a new name\n",
    "dftest100_iteration2 = pd.read_pickle('data/dftest100_iteration2.pickle')"
   ]
  },
  {
   "cell_type": "code",
   "execution_count": 441,
   "id": "97d3872b",
   "metadata": {},
   "outputs": [],
   "source": [
    "#Testing this function to find out if we can get the remainder\n",
    "def get_michelin_pages_test2(df):\n",
    "    #df = pd.read_pickle('data/dftest5.pickle')\n",
    "    urls = df['url']\n",
    "    output = []\n",
    "    #michelin_df = pd.DataFrame(columns=['data'])\n",
    "    for page in urls:\n",
    "        try:\n",
    "            request = requests.get(page)\n",
    "            soup = BeautifulSoup(request.content)\n",
    "            more_soup = soup.find('div', class_='restaurant-details__description--text')\n",
    "            page_output = more_soup.find_all('p', text=True)\n",
    "            #page_output = more_soup.find('p', {'class':None}).text.strip()\n",
    "            output.append(page_output)\n",
    "            time.sleep(2)\n",
    "            #michelin_df['data'].loc[page] = output\n",
    "        except requests.exceptions.RequestException as e:\n",
    "            print(e)\n",
    "            continue\n",
    "    #michelin_df.to_pickle('data/michelin_df.pickle')\n",
    "    df['data'] = output\n",
    "    return df"
   ]
  },
  {
   "cell_type": "code",
   "execution_count": 442,
   "id": "08595556",
   "metadata": {},
   "outputs": [
    {
     "data": {
      "text/html": [
       "<div>\n",
       "<style scoped>\n",
       "    .dataframe tbody tr th:only-of-type {\n",
       "        vertical-align: middle;\n",
       "    }\n",
       "\n",
       "    .dataframe tbody tr th {\n",
       "        vertical-align: top;\n",
       "    }\n",
       "\n",
       "    .dataframe thead th {\n",
       "        text-align: right;\n",
       "    }\n",
       "</style>\n",
       "<table border=\"1\" class=\"dataframe\">\n",
       "  <thead>\n",
       "    <tr style=\"text-align: right;\">\n",
       "      <th></th>\n",
       "      <th>name</th>\n",
       "      <th>address</th>\n",
       "      <th>location</th>\n",
       "      <th>price</th>\n",
       "      <th>cuisine</th>\n",
       "      <th>longitude</th>\n",
       "      <th>latitude</th>\n",
       "      <th>phone_number</th>\n",
       "      <th>url</th>\n",
       "      <th>website_url</th>\n",
       "      <th>award</th>\n",
       "      <th>facilities_and_services</th>\n",
       "      <th>parts</th>\n",
       "      <th>data</th>\n",
       "    </tr>\n",
       "  </thead>\n",
       "  <tbody>\n",
       "    <tr>\n",
       "      <th>0</th>\n",
       "      <td>King's Joy</td>\n",
       "      <td>2 Wudaoying Hutong, Beijing, China Mainland</td>\n",
       "      <td>Beijing, China Mainland</td>\n",
       "      <td>¥¥¥</td>\n",
       "      <td>Vegetarian</td>\n",
       "      <td>116.410004</td>\n",
       "      <td>39.946681</td>\n",
       "      <td>8.610840e+11</td>\n",
       "      <td>https://guide.michelin.com/en/beijing-municipa...</td>\n",
       "      <td>NaN</td>\n",
       "      <td>3 MICHELIN Stars</td>\n",
       "      <td>Air conditioning,American Express credit card,...</td>\n",
       "      <td>beijing-municipality/beijing/restaurant/king-s...</td>\n",
       "      <td>[[Just a stone’s throw from Yonghe Temple, thi...</td>\n",
       "    </tr>\n",
       "    <tr>\n",
       "      <th>1</th>\n",
       "      <td>Xin Rong Ji (Xinyuan South Road)</td>\n",
       "      <td>1F, East Tower, Genesis Beijing, 8 Xinyuan Sou...</td>\n",
       "      <td>Beijing, China Mainland</td>\n",
       "      <td>¥¥¥¥</td>\n",
       "      <td>Taizhou</td>\n",
       "      <td>116.450148</td>\n",
       "      <td>39.946380</td>\n",
       "      <td>8.610650e+11</td>\n",
       "      <td>https://guide.michelin.com/en/beijing-municipa...</td>\n",
       "      <td>NaN</td>\n",
       "      <td>3 MICHELIN Stars</td>\n",
       "      <td>Air conditioning,Car park,China UnionPay,Count...</td>\n",
       "      <td>beijing-municipality/beijing/restaurant/xin-ro...</td>\n",
       "      <td>[[This branch of the chain restaurant opened i...</td>\n",
       "    </tr>\n",
       "    <tr>\n",
       "      <th>2</th>\n",
       "      <td>Taian Table</td>\n",
       "      <td>101-102, Building No. 1, Garden Office, No.161...</td>\n",
       "      <td>Shanghai, China Mainland</td>\n",
       "      <td>¥¥¥¥</td>\n",
       "      <td>Innovative</td>\n",
       "      <td>121.474049</td>\n",
       "      <td>31.221807</td>\n",
       "      <td>8.617302e+12</td>\n",
       "      <td>https://guide.michelin.com/en/shanghai-municip...</td>\n",
       "      <td>https://taian-table.cn/</td>\n",
       "      <td>3 MICHELIN Stars</td>\n",
       "      <td>Air conditioning,American Express credit card,...</td>\n",
       "      <td>shanghai-municipality/shanghai/restaurant/taia...</td>\n",
       "      <td>[[A fixture on the city’s dining scene since 2...</td>\n",
       "    </tr>\n",
       "    <tr>\n",
       "      <th>3</th>\n",
       "      <td>Ultraviolet by Paul Pairet</td>\n",
       "      <td>'somewhere in Shanghai' - meet at Mr &amp; Mrs Bun...</td>\n",
       "      <td>Shanghai, China Mainland</td>\n",
       "      <td>¥¥¥¥</td>\n",
       "      <td>Innovative</td>\n",
       "      <td>121.485090</td>\n",
       "      <td>31.240358</td>\n",
       "      <td>NaN</td>\n",
       "      <td>https://guide.michelin.com/en/shanghai-municip...</td>\n",
       "      <td>https://uvbypp.cc/</td>\n",
       "      <td>3 MICHELIN Stars</td>\n",
       "      <td>Air conditioning,American Express credit card,...</td>\n",
       "      <td>shanghai-municipality/shanghai/restaurant/ultr...</td>\n",
       "      <td>[[This multi-sensory experience at a secret lo...</td>\n",
       "    </tr>\n",
       "    <tr>\n",
       "      <th>4</th>\n",
       "      <td>Quince</td>\n",
       "      <td>470 Pacific Ave., San Francisco, 94133, USA</td>\n",
       "      <td>San Francisco, USA</td>\n",
       "      <td>$$$$</td>\n",
       "      <td>Contemporary, Californian</td>\n",
       "      <td>-122.403261</td>\n",
       "      <td>37.797505</td>\n",
       "      <td>1.415776e+10</td>\n",
       "      <td>https://guide.michelin.com/en/california/san-f...</td>\n",
       "      <td>http://www.quincerestaurant.com</td>\n",
       "      <td>3 MICHELIN Stars</td>\n",
       "      <td>Air conditioning,American Express credit card,...</td>\n",
       "      <td>california/san-francisco/restaurant/quince</td>\n",
       "      <td>[]</td>\n",
       "    </tr>\n",
       "    <tr>\n",
       "      <th>...</th>\n",
       "      <td>...</td>\n",
       "      <td>...</td>\n",
       "      <td>...</td>\n",
       "      <td>...</td>\n",
       "      <td>...</td>\n",
       "      <td>...</td>\n",
       "      <td>...</td>\n",
       "      <td>...</td>\n",
       "      <td>...</td>\n",
       "      <td>...</td>\n",
       "      <td>...</td>\n",
       "      <td>...</td>\n",
       "      <td>...</td>\n",
       "      <td>...</td>\n",
       "    </tr>\n",
       "    <tr>\n",
       "      <th>95</th>\n",
       "      <td>Le Clos des Sens</td>\n",
       "      <td>13 rue Jean-Mermoz - à Annecy-le-Vieux, Annecy...</td>\n",
       "      <td>Annecy, France</td>\n",
       "      <td>€€€€</td>\n",
       "      <td>Creative</td>\n",
       "      <td>6.144297</td>\n",
       "      <td>45.918055</td>\n",
       "      <td>3.345023e+10</td>\n",
       "      <td>https://guide.michelin.com/en/auvergne-rhone-a...</td>\n",
       "      <td>https://www.closdessens.com/</td>\n",
       "      <td>3 MICHELIN Stars</td>\n",
       "      <td>Air conditioning,American Express credit card,...</td>\n",
       "      <td>auvergne-rhone-alpes/annecy/restaurant/le-clos...</td>\n",
       "      <td>[[This handsome abode in the upper reaches of ...</td>\n",
       "    </tr>\n",
       "    <tr>\n",
       "      <th>96</th>\n",
       "      <td>L'Oustau de Baumanière</td>\n",
       "      <td>Mas de Baumanière, Les Baux-de-Provence, 13520...</td>\n",
       "      <td>Les Baux-de-Provence, France</td>\n",
       "      <td>€€€€</td>\n",
       "      <td>Creative</td>\n",
       "      <td>4.787363</td>\n",
       "      <td>43.740266</td>\n",
       "      <td>3.349054e+10</td>\n",
       "      <td>https://guide.michelin.com/en/provence-alpes-c...</td>\n",
       "      <td>https://www.baumaniere.com/</td>\n",
       "      <td>3 MICHELIN Stars</td>\n",
       "      <td>Air conditioning,American Express credit card,...</td>\n",
       "      <td>provence-alpes-cote-dazur/les-baux-de-provence...</td>\n",
       "      <td>[]</td>\n",
       "    </tr>\n",
       "    <tr>\n",
       "      <th>97</th>\n",
       "      <td>La Vague d'Or - Cheval Blanc St-Tropez</td>\n",
       "      <td>Plage de la Bouillabaisse, Saint-Tropez, 83990...</td>\n",
       "      <td>Saint-Tropez, France</td>\n",
       "      <td>€€€€</td>\n",
       "      <td>Creative, Modern Cuisine</td>\n",
       "      <td>6.626154</td>\n",
       "      <td>43.266585</td>\n",
       "      <td>3.349456e+10</td>\n",
       "      <td>https://guide.michelin.com/en/provence-alpes-c...</td>\n",
       "      <td>https://www.chevalblanc.com/fr/maison/st-tropez/</td>\n",
       "      <td>3 MICHELIN Stars</td>\n",
       "      <td>Air conditioning,American Express credit card,...</td>\n",
       "      <td>provence-alpes-cote-dazur/saint-tropez/restaur...</td>\n",
       "      <td>[]</td>\n",
       "    </tr>\n",
       "    <tr>\n",
       "      <th>98</th>\n",
       "      <td>Troisgros - Le Bois sans Feuilles</td>\n",
       "      <td>728 route de Villerest, Ouches, 42155, France</td>\n",
       "      <td>Ouches, France</td>\n",
       "      <td>€€€€</td>\n",
       "      <td>Creative</td>\n",
       "      <td>3.992360</td>\n",
       "      <td>46.010330</td>\n",
       "      <td>3.347772e+10</td>\n",
       "      <td>https://guide.michelin.com/en/auvergne-rhone-a...</td>\n",
       "      <td>https://www.troisgros.com/</td>\n",
       "      <td>3 MICHELIN Stars</td>\n",
       "      <td>Air conditioning,American Express credit card,...</td>\n",
       "      <td>auvergne-rhone-alpes/ouches/restaurant/troisgr...</td>\n",
       "      <td>[[In this nature-inspired interior designed by...</td>\n",
       "    </tr>\n",
       "    <tr>\n",
       "      <th>99</th>\n",
       "      <td>Christophe Bacquié</td>\n",
       "      <td>3001 route des Hauts-du-Camp, au Circuit Paul ...</td>\n",
       "      <td>Le Castellet, France</td>\n",
       "      <td>€€€€</td>\n",
       "      <td>Modern Cuisine</td>\n",
       "      <td>5.783503</td>\n",
       "      <td>43.250282</td>\n",
       "      <td>3.349498e+10</td>\n",
       "      <td>https://guide.michelin.com/en/provence-alpes-c...</td>\n",
       "      <td>https://www.hotelducastellet.net/fr/restaurant...</td>\n",
       "      <td>3 MICHELIN Stars</td>\n",
       "      <td>Air conditioning,American Express credit card,...</td>\n",
       "      <td>provence-alpes-cote-dazur/le-castellet/restaur...</td>\n",
       "      <td>[[The path of tireless artisan Christophe Bacq...</td>\n",
       "    </tr>\n",
       "  </tbody>\n",
       "</table>\n",
       "<p>100 rows × 14 columns</p>\n",
       "</div>"
      ],
      "text/plain": [
       "                                      name  \\\n",
       "0                               King's Joy   \n",
       "1         Xin Rong Ji (Xinyuan South Road)   \n",
       "2                              Taian Table   \n",
       "3               Ultraviolet by Paul Pairet   \n",
       "4                                   Quince   \n",
       "..                                     ...   \n",
       "95                        Le Clos des Sens   \n",
       "96                  L'Oustau de Baumanière   \n",
       "97  La Vague d'Or - Cheval Blanc St-Tropez   \n",
       "98       Troisgros - Le Bois sans Feuilles   \n",
       "99                      Christophe Bacquié   \n",
       "\n",
       "                                              address  \\\n",
       "0         2 Wudaoying Hutong, Beijing, China Mainland   \n",
       "1   1F, East Tower, Genesis Beijing, 8 Xinyuan Sou...   \n",
       "2   101-102, Building No. 1, Garden Office, No.161...   \n",
       "3   'somewhere in Shanghai' - meet at Mr & Mrs Bun...   \n",
       "4         470 Pacific Ave., San Francisco, 94133, USA   \n",
       "..                                                ...   \n",
       "95  13 rue Jean-Mermoz - à Annecy-le-Vieux, Annecy...   \n",
       "96  Mas de Baumanière, Les Baux-de-Provence, 13520...   \n",
       "97  Plage de la Bouillabaisse, Saint-Tropez, 83990...   \n",
       "98      728 route de Villerest, Ouches, 42155, France   \n",
       "99  3001 route des Hauts-du-Camp, au Circuit Paul ...   \n",
       "\n",
       "                        location price                    cuisine   longitude  \\\n",
       "0        Beijing, China Mainland   ¥¥¥                 Vegetarian  116.410004   \n",
       "1        Beijing, China Mainland  ¥¥¥¥                    Taizhou  116.450148   \n",
       "2       Shanghai, China Mainland  ¥¥¥¥                 Innovative  121.474049   \n",
       "3       Shanghai, China Mainland  ¥¥¥¥                 Innovative  121.485090   \n",
       "4             San Francisco, USA  $$$$  Contemporary, Californian -122.403261   \n",
       "..                           ...   ...                        ...         ...   \n",
       "95                Annecy, France  €€€€                   Creative    6.144297   \n",
       "96  Les Baux-de-Provence, France  €€€€                   Creative    4.787363   \n",
       "97          Saint-Tropez, France  €€€€   Creative, Modern Cuisine    6.626154   \n",
       "98                Ouches, France  €€€€                   Creative    3.992360   \n",
       "99          Le Castellet, France  €€€€             Modern Cuisine    5.783503   \n",
       "\n",
       "     latitude  phone_number  \\\n",
       "0   39.946681  8.610840e+11   \n",
       "1   39.946380  8.610650e+11   \n",
       "2   31.221807  8.617302e+12   \n",
       "3   31.240358           NaN   \n",
       "4   37.797505  1.415776e+10   \n",
       "..        ...           ...   \n",
       "95  45.918055  3.345023e+10   \n",
       "96  43.740266  3.349054e+10   \n",
       "97  43.266585  3.349456e+10   \n",
       "98  46.010330  3.347772e+10   \n",
       "99  43.250282  3.349498e+10   \n",
       "\n",
       "                                                  url  \\\n",
       "0   https://guide.michelin.com/en/beijing-municipa...   \n",
       "1   https://guide.michelin.com/en/beijing-municipa...   \n",
       "2   https://guide.michelin.com/en/shanghai-municip...   \n",
       "3   https://guide.michelin.com/en/shanghai-municip...   \n",
       "4   https://guide.michelin.com/en/california/san-f...   \n",
       "..                                                ...   \n",
       "95  https://guide.michelin.com/en/auvergne-rhone-a...   \n",
       "96  https://guide.michelin.com/en/provence-alpes-c...   \n",
       "97  https://guide.michelin.com/en/provence-alpes-c...   \n",
       "98  https://guide.michelin.com/en/auvergne-rhone-a...   \n",
       "99  https://guide.michelin.com/en/provence-alpes-c...   \n",
       "\n",
       "                                          website_url             award  \\\n",
       "0                                                 NaN  3 MICHELIN Stars   \n",
       "1                                                 NaN  3 MICHELIN Stars   \n",
       "2                             https://taian-table.cn/  3 MICHELIN Stars   \n",
       "3                                  https://uvbypp.cc/  3 MICHELIN Stars   \n",
       "4                     http://www.quincerestaurant.com  3 MICHELIN Stars   \n",
       "..                                                ...               ...   \n",
       "95                       https://www.closdessens.com/  3 MICHELIN Stars   \n",
       "96                        https://www.baumaniere.com/  3 MICHELIN Stars   \n",
       "97   https://www.chevalblanc.com/fr/maison/st-tropez/  3 MICHELIN Stars   \n",
       "98                         https://www.troisgros.com/  3 MICHELIN Stars   \n",
       "99  https://www.hotelducastellet.net/fr/restaurant...  3 MICHELIN Stars   \n",
       "\n",
       "                              facilities_and_services  \\\n",
       "0   Air conditioning,American Express credit card,...   \n",
       "1   Air conditioning,Car park,China UnionPay,Count...   \n",
       "2   Air conditioning,American Express credit card,...   \n",
       "3   Air conditioning,American Express credit card,...   \n",
       "4   Air conditioning,American Express credit card,...   \n",
       "..                                                ...   \n",
       "95  Air conditioning,American Express credit card,...   \n",
       "96  Air conditioning,American Express credit card,...   \n",
       "97  Air conditioning,American Express credit card,...   \n",
       "98  Air conditioning,American Express credit card,...   \n",
       "99  Air conditioning,American Express credit card,...   \n",
       "\n",
       "                                                parts  \\\n",
       "0   beijing-municipality/beijing/restaurant/king-s...   \n",
       "1   beijing-municipality/beijing/restaurant/xin-ro...   \n",
       "2   shanghai-municipality/shanghai/restaurant/taia...   \n",
       "3   shanghai-municipality/shanghai/restaurant/ultr...   \n",
       "4          california/san-francisco/restaurant/quince   \n",
       "..                                                ...   \n",
       "95  auvergne-rhone-alpes/annecy/restaurant/le-clos...   \n",
       "96  provence-alpes-cote-dazur/les-baux-de-provence...   \n",
       "97  provence-alpes-cote-dazur/saint-tropez/restaur...   \n",
       "98  auvergne-rhone-alpes/ouches/restaurant/troisgr...   \n",
       "99  provence-alpes-cote-dazur/le-castellet/restaur...   \n",
       "\n",
       "                                                 data  \n",
       "0   [[Just a stone’s throw from Yonghe Temple, thi...  \n",
       "1   [[This branch of the chain restaurant opened i...  \n",
       "2   [[A fixture on the city’s dining scene since 2...  \n",
       "3   [[This multi-sensory experience at a secret lo...  \n",
       "4                                                  []  \n",
       "..                                                ...  \n",
       "95  [[This handsome abode in the upper reaches of ...  \n",
       "96                                                 []  \n",
       "97                                                 []  \n",
       "98  [[In this nature-inspired interior designed by...  \n",
       "99  [[The path of tireless artisan Christophe Bacq...  \n",
       "\n",
       "[100 rows x 14 columns]"
      ]
     },
     "execution_count": 442,
     "metadata": {},
     "output_type": "execute_result"
    }
   ],
   "source": [
    "get_michelin_pages_test2(dftest100_iteration2)"
   ]
  },
  {
   "cell_type": "code",
   "execution_count": 449,
   "id": "dc87214f",
   "metadata": {},
   "outputs": [
    {
     "data": {
      "text/plain": [
       "'https://guide.michelin.com/en/california/san-francisco/restaurant/quince'"
      ]
     },
     "execution_count": 449,
     "metadata": {},
     "output_type": "execute_result"
    }
   ],
   "source": [
    "dftest100_iteration2.url[4]"
   ]
  },
  {
   "cell_type": "code",
   "execution_count": 447,
   "id": "700117ba",
   "metadata": {},
   "outputs": [
    {
     "data": {
      "text/plain": [
       "0     False\n",
       "1     False\n",
       "2     False\n",
       "3     False\n",
       "4     False\n",
       "      ...  \n",
       "95    False\n",
       "96    False\n",
       "97    False\n",
       "98    False\n",
       "99    False\n",
       "Name: data, Length: 100, dtype: bool"
      ]
     },
     "execution_count": 447,
     "metadata": {},
     "output_type": "execute_result"
    }
   ],
   "source": [
    "#Number of results missing\n",
    "dftest100_iteration2.data == "
   ]
  },
  {
   "cell_type": "code",
   "execution_count": 450,
   "id": "c200b2ee",
   "metadata": {},
   "outputs": [],
   "source": [
    "url_4 = dftest100_iteration2.url[4]"
   ]
  },
  {
   "cell_type": "code",
   "execution_count": 451,
   "id": "17e724c2",
   "metadata": {},
   "outputs": [
    {
     "data": {
      "text/plain": [
       "'https://guide.michelin.com/en/california/san-francisco/restaurant/quince'"
      ]
     },
     "execution_count": 451,
     "metadata": {},
     "output_type": "execute_result"
    }
   ],
   "source": [
    "url_4"
   ]
  },
  {
   "cell_type": "code",
   "execution_count": 466,
   "id": "a2be3d6c",
   "metadata": {},
   "outputs": [],
   "source": [
    "#Trying with url 4 \"quince\"\n",
    "request = requests.get(url)\n",
    "soup = BeautifulSoup(request.content)\n",
    "more_soup = soup.find('div', class_='restaurant-details__description--text')\n",
    "page_output = more_soup.select('p:nth-of-type(2)')[0].text"
   ]
  },
  {
   "cell_type": "code",
   "execution_count": 467,
   "id": "2f622228",
   "metadata": {},
   "outputs": [
    {
     "data": {
      "text/plain": [
       "<div class=\"restaurant-details__description--text\">\n",
       "<p></p><p>Just a stone’s throw from Yonghe Temple, this serene restaurant is remodelled from a courtyard house and features a glass-roofed dining room. The chef honed his skills at his grandparents’ restaurant of the same name. Only set menus are available; try the classic menu to sample their specialities all at once. Regulars may opt for the solar-term menu that changes every 15 days. Live harp performance befits the restaurant’s classy elegance.</p>\n",
       "</div>"
      ]
     },
     "execution_count": 467,
     "metadata": {},
     "output_type": "execute_result"
    }
   ],
   "source": [
    "more_soup"
   ]
  },
  {
   "cell_type": "code",
   "execution_count": 468,
   "id": "2409a026",
   "metadata": {},
   "outputs": [
    {
     "data": {
      "text/plain": [
       "'Just a stone’s throw from Yonghe Temple, this serene restaurant is remodelled from a courtyard house and features a glass-roofed dining room. The chef honed his skills at his grandparents’ restaurant of the same name. Only set menus are available; try the classic menu to sample their specialities all at once. Regulars may opt for the solar-term menu that changes every 15 days. Live harp performance befits the restaurant’s classy elegance.'"
      ]
     },
     "execution_count": 468,
     "metadata": {},
     "output_type": "execute_result"
    }
   ],
   "source": [
    "page_output"
   ]
  },
  {
   "cell_type": "code",
   "execution_count": 461,
   "id": "67d3eab1",
   "metadata": {},
   "outputs": [],
   "source": [
    "#Iteration 3 of function\n",
    "\n",
    "def get_michelin_pages_test2(df):\n",
    "    #df = pd.read_pickle('data/dftest5.pickle')\n",
    "    urls = df['url']\n",
    "    output = []\n",
    "    #michelin_df = pd.DataFrame(columns=['data'])\n",
    "    for page in urls:\n",
    "        try:\n",
    "            request = requests.get(page)\n",
    "            soup = BeautifulSoup(request.content)\n",
    "            more_soup = soup.find('div', class_='restaurant-details__description--text')\n",
    "            page_output = more_soup.select('p:nth-of-type(2)')[0].text\n",
    "            #page_output = more_soup.find('p', {'class':None}).text.strip()\n",
    "            output.append(page_output)\n",
    "            time.sleep(2)\n",
    "            #michelin_df['data'].loc[page] = output\n",
    "        except requests.exceptions.RequestException as e:\n",
    "            print(e)\n",
    "            continue\n",
    "    #michelin_df.to_pickle('data/michelin_df.pickle')\n",
    "    df['data'] = output\n",
    "    return df"
   ]
  },
  {
   "cell_type": "code",
   "execution_count": 462,
   "id": "26048f36",
   "metadata": {},
   "outputs": [
    {
     "ename": "IndexError",
     "evalue": "list index out of range",
     "output_type": "error",
     "traceback": [
      "\u001b[0;31m---------------------------------------------------------------------------\u001b[0m",
      "\u001b[0;31mIndexError\u001b[0m                                Traceback (most recent call last)",
      "Cell \u001b[0;32mIn[462], line 1\u001b[0m\n\u001b[0;32m----> 1\u001b[0m \u001b[43mget_michelin_pages_test2\u001b[49m\u001b[43m(\u001b[49m\u001b[43mdftest100_iteration2\u001b[49m\u001b[43m)\u001b[49m\n",
      "Cell \u001b[0;32mIn[461], line 13\u001b[0m, in \u001b[0;36mget_michelin_pages_test2\u001b[0;34m(df)\u001b[0m\n\u001b[1;32m     11\u001b[0m soup \u001b[38;5;241m=\u001b[39m BeautifulSoup(request\u001b[38;5;241m.\u001b[39mcontent)\n\u001b[1;32m     12\u001b[0m more_soup \u001b[38;5;241m=\u001b[39m soup\u001b[38;5;241m.\u001b[39mfind(\u001b[38;5;124m'\u001b[39m\u001b[38;5;124mdiv\u001b[39m\u001b[38;5;124m'\u001b[39m, class_\u001b[38;5;241m=\u001b[39m\u001b[38;5;124m'\u001b[39m\u001b[38;5;124mrestaurant-details__description--text\u001b[39m\u001b[38;5;124m'\u001b[39m)\n\u001b[0;32m---> 13\u001b[0m page_output \u001b[38;5;241m=\u001b[39m \u001b[43mmore_soup\u001b[49m\u001b[38;5;241;43m.\u001b[39;49m\u001b[43mselect\u001b[49m\u001b[43m(\u001b[49m\u001b[38;5;124;43m'\u001b[39;49m\u001b[38;5;124;43mp:nth-of-type(2)\u001b[39;49m\u001b[38;5;124;43m'\u001b[39;49m\u001b[43m)\u001b[49m\u001b[43m[\u001b[49m\u001b[38;5;241;43m0\u001b[39;49m\u001b[43m]\u001b[49m\u001b[38;5;241m.\u001b[39mtext\n\u001b[1;32m     14\u001b[0m \u001b[38;5;66;03m#page_output = more_soup.find('p', {'class':None}).text.strip()\u001b[39;00m\n\u001b[1;32m     15\u001b[0m output\u001b[38;5;241m.\u001b[39mappend(page_output)\n",
      "\u001b[0;31mIndexError\u001b[0m: list index out of range"
     ]
    }
   ],
   "source": [
    "get_michelin_pages_test2(dftest100_iteration2)"
   ]
  },
  {
   "cell_type": "code",
   "execution_count": null,
   "id": "a6bb34d1",
   "metadata": {},
   "outputs": [],
   "source": []
  }
 ],
 "metadata": {
  "kernelspec": {
   "display_name": "Python 3 (ipykernel)",
   "language": "python",
   "name": "python3"
  },
  "language_info": {
   "codemirror_mode": {
    "name": "ipython",
    "version": 3
   },
   "file_extension": ".py",
   "mimetype": "text/x-python",
   "name": "python",
   "nbconvert_exporter": "python",
   "pygments_lexer": "ipython3",
   "version": "3.9.15"
  }
 },
 "nbformat": 4,
 "nbformat_minor": 5
}
