{
 "cells": [
  {
   "cell_type": "code",
   "execution_count": 113,
   "id": "5469e277",
   "metadata": {},
   "outputs": [],
   "source": [
    "import pandas as pd\n",
    "import numpy as np\n",
    "import re\n",
    "\n",
    "#Webscraping\n",
    "import requests\n",
    "from requests import get\n",
    "from bs4 import BeautifulSoup\n",
    "import time"
   ]
  },
  {
   "cell_type": "code",
   "execution_count": 41,
   "id": "7acedb21",
   "metadata": {},
   "outputs": [],
   "source": [
    "df = pd.read_csv('michelin_my_maps.csv')"
   ]
  },
  {
   "cell_type": "code",
   "execution_count": 42,
   "id": "b4bc79f7",
   "metadata": {},
   "outputs": [
    {
     "data": {
      "text/html": [
       "<div>\n",
       "<style scoped>\n",
       "    .dataframe tbody tr th:only-of-type {\n",
       "        vertical-align: middle;\n",
       "    }\n",
       "\n",
       "    .dataframe tbody tr th {\n",
       "        vertical-align: top;\n",
       "    }\n",
       "\n",
       "    .dataframe thead th {\n",
       "        text-align: right;\n",
       "    }\n",
       "</style>\n",
       "<table border=\"1\" class=\"dataframe\">\n",
       "  <thead>\n",
       "    <tr style=\"text-align: right;\">\n",
       "      <th></th>\n",
       "      <th>Name</th>\n",
       "      <th>Address</th>\n",
       "      <th>Location</th>\n",
       "      <th>Price</th>\n",
       "      <th>Cuisine</th>\n",
       "      <th>Longitude</th>\n",
       "      <th>Latitude</th>\n",
       "      <th>PhoneNumber</th>\n",
       "      <th>Url</th>\n",
       "      <th>WebsiteUrl</th>\n",
       "      <th>Award</th>\n",
       "      <th>FacilitiesAndServices</th>\n",
       "    </tr>\n",
       "  </thead>\n",
       "  <tbody>\n",
       "    <tr>\n",
       "      <th>0</th>\n",
       "      <td>King's Joy</td>\n",
       "      <td>2 Wudaoying Hutong, Beijing, China Mainland</td>\n",
       "      <td>Beijing, China Mainland</td>\n",
       "      <td>¥¥¥</td>\n",
       "      <td>Vegetarian</td>\n",
       "      <td>116.410004</td>\n",
       "      <td>39.946681</td>\n",
       "      <td>8.610840e+11</td>\n",
       "      <td>https://guide.michelin.com/en/beijing-municipa...</td>\n",
       "      <td>NaN</td>\n",
       "      <td>3 MICHELIN Stars</td>\n",
       "      <td>Air conditioning,American Express credit card,...</td>\n",
       "    </tr>\n",
       "    <tr>\n",
       "      <th>1</th>\n",
       "      <td>Xin Rong Ji (Xinyuan South Road)</td>\n",
       "      <td>1F, East Tower, Genesis Beijing, 8 Xinyuan Sou...</td>\n",
       "      <td>Beijing, China Mainland</td>\n",
       "      <td>¥¥¥¥</td>\n",
       "      <td>Taizhou</td>\n",
       "      <td>116.450148</td>\n",
       "      <td>39.946380</td>\n",
       "      <td>8.610650e+11</td>\n",
       "      <td>https://guide.michelin.com/en/beijing-municipa...</td>\n",
       "      <td>NaN</td>\n",
       "      <td>3 MICHELIN Stars</td>\n",
       "      <td>Air conditioning,Car park,China UnionPay,Count...</td>\n",
       "    </tr>\n",
       "    <tr>\n",
       "      <th>2</th>\n",
       "      <td>Taian Table</td>\n",
       "      <td>101-102, Building No. 1, Garden Office, No.161...</td>\n",
       "      <td>Shanghai, China Mainland</td>\n",
       "      <td>¥¥¥¥</td>\n",
       "      <td>Innovative</td>\n",
       "      <td>121.474049</td>\n",
       "      <td>31.221807</td>\n",
       "      <td>8.617302e+12</td>\n",
       "      <td>https://guide.michelin.com/en/shanghai-municip...</td>\n",
       "      <td>https://taian-table.cn/</td>\n",
       "      <td>3 MICHELIN Stars</td>\n",
       "      <td>Air conditioning,American Express credit card,...</td>\n",
       "    </tr>\n",
       "    <tr>\n",
       "      <th>3</th>\n",
       "      <td>Ultraviolet by Paul Pairet</td>\n",
       "      <td>'somewhere in Shanghai' - meet at Mr &amp; Mrs Bun...</td>\n",
       "      <td>Shanghai, China Mainland</td>\n",
       "      <td>¥¥¥¥</td>\n",
       "      <td>Innovative</td>\n",
       "      <td>121.485090</td>\n",
       "      <td>31.240358</td>\n",
       "      <td>NaN</td>\n",
       "      <td>https://guide.michelin.com/en/shanghai-municip...</td>\n",
       "      <td>https://uvbypp.cc/</td>\n",
       "      <td>3 MICHELIN Stars</td>\n",
       "      <td>Air conditioning,American Express credit card,...</td>\n",
       "    </tr>\n",
       "    <tr>\n",
       "      <th>4</th>\n",
       "      <td>Quince</td>\n",
       "      <td>470 Pacific Ave., San Francisco, 94133, USA</td>\n",
       "      <td>San Francisco, USA</td>\n",
       "      <td>$$$$</td>\n",
       "      <td>Contemporary, Californian</td>\n",
       "      <td>-122.403261</td>\n",
       "      <td>37.797505</td>\n",
       "      <td>1.415776e+10</td>\n",
       "      <td>https://guide.michelin.com/en/california/san-f...</td>\n",
       "      <td>http://www.quincerestaurant.com</td>\n",
       "      <td>3 MICHELIN Stars</td>\n",
       "      <td>Air conditioning,American Express credit card,...</td>\n",
       "    </tr>\n",
       "  </tbody>\n",
       "</table>\n",
       "</div>"
      ],
      "text/plain": [
       "                               Name  \\\n",
       "0                        King's Joy   \n",
       "1  Xin Rong Ji (Xinyuan South Road)   \n",
       "2                       Taian Table   \n",
       "3        Ultraviolet by Paul Pairet   \n",
       "4                            Quince   \n",
       "\n",
       "                                             Address  \\\n",
       "0        2 Wudaoying Hutong, Beijing, China Mainland   \n",
       "1  1F, East Tower, Genesis Beijing, 8 Xinyuan Sou...   \n",
       "2  101-102, Building No. 1, Garden Office, No.161...   \n",
       "3  'somewhere in Shanghai' - meet at Mr & Mrs Bun...   \n",
       "4        470 Pacific Ave., San Francisco, 94133, USA   \n",
       "\n",
       "                   Location Price                    Cuisine   Longitude  \\\n",
       "0   Beijing, China Mainland   ¥¥¥                 Vegetarian  116.410004   \n",
       "1   Beijing, China Mainland  ¥¥¥¥                    Taizhou  116.450148   \n",
       "2  Shanghai, China Mainland  ¥¥¥¥                 Innovative  121.474049   \n",
       "3  Shanghai, China Mainland  ¥¥¥¥                 Innovative  121.485090   \n",
       "4        San Francisco, USA  $$$$  Contemporary, Californian -122.403261   \n",
       "\n",
       "    Latitude   PhoneNumber                                                Url  \\\n",
       "0  39.946681  8.610840e+11  https://guide.michelin.com/en/beijing-municipa...   \n",
       "1  39.946380  8.610650e+11  https://guide.michelin.com/en/beijing-municipa...   \n",
       "2  31.221807  8.617302e+12  https://guide.michelin.com/en/shanghai-municip...   \n",
       "3  31.240358           NaN  https://guide.michelin.com/en/shanghai-municip...   \n",
       "4  37.797505  1.415776e+10  https://guide.michelin.com/en/california/san-f...   \n",
       "\n",
       "                        WebsiteUrl             Award  \\\n",
       "0                              NaN  3 MICHELIN Stars   \n",
       "1                              NaN  3 MICHELIN Stars   \n",
       "2          https://taian-table.cn/  3 MICHELIN Stars   \n",
       "3               https://uvbypp.cc/  3 MICHELIN Stars   \n",
       "4  http://www.quincerestaurant.com  3 MICHELIN Stars   \n",
       "\n",
       "                               FacilitiesAndServices  \n",
       "0  Air conditioning,American Express credit card,...  \n",
       "1  Air conditioning,Car park,China UnionPay,Count...  \n",
       "2  Air conditioning,American Express credit card,...  \n",
       "3  Air conditioning,American Express credit card,...  \n",
       "4  Air conditioning,American Express credit card,...  "
      ]
     },
     "execution_count": 42,
     "metadata": {},
     "output_type": "execute_result"
    }
   ],
   "source": [
    "df.head()"
   ]
  },
  {
   "cell_type": "code",
   "execution_count": 43,
   "id": "eaad904d",
   "metadata": {},
   "outputs": [
    {
     "name": "stdout",
     "output_type": "stream",
     "text": [
      "<class 'pandas.core.frame.DataFrame'>\n",
      "RangeIndex: 6780 entries, 0 to 6779\n",
      "Data columns (total 12 columns):\n",
      " #   Column                 Non-Null Count  Dtype  \n",
      "---  ------                 --------------  -----  \n",
      " 0   Name                   6780 non-null   object \n",
      " 1   Address                6780 non-null   object \n",
      " 2   Location               6780 non-null   object \n",
      " 3   Price                  6726 non-null   object \n",
      " 4   Cuisine                6780 non-null   object \n",
      " 5   Longitude              6780 non-null   float64\n",
      " 6   Latitude               6780 non-null   float64\n",
      " 7   PhoneNumber            6649 non-null   float64\n",
      " 8   Url                    6780 non-null   object \n",
      " 9   WebsiteUrl             5542 non-null   object \n",
      " 10  Award                  6780 non-null   object \n",
      " 11  FacilitiesAndServices  6732 non-null   object \n",
      "dtypes: float64(3), object(9)\n",
      "memory usage: 635.8+ KB\n"
     ]
    }
   ],
   "source": [
    "df.info()"
   ]
  },
  {
   "cell_type": "code",
   "execution_count": 44,
   "id": "1677cb35",
   "metadata": {},
   "outputs": [
    {
     "data": {
      "text/plain": [
       "Bib Gourmand        3411\n",
       "1 MICHELIN Star     2744\n",
       "2 MICHELIN Stars     483\n",
       "3 MICHELIN Stars     142\n",
       "Name: Award, dtype: int64"
      ]
     },
     "execution_count": 44,
     "metadata": {},
     "output_type": "execute_result"
    }
   ],
   "source": [
    "df.Award.value_counts()"
   ]
  },
  {
   "cell_type": "code",
   "execution_count": 45,
   "id": "0367d751",
   "metadata": {},
   "outputs": [
    {
     "data": {
      "text/plain": [
       "'https://guide.michelin.com/en/shanghai-municipality/shanghai/restaurant/taian-table'"
      ]
     },
     "execution_count": 45,
     "metadata": {},
     "output_type": "execute_result"
    }
   ],
   "source": [
    "df.Url[2]"
   ]
  },
  {
   "cell_type": "code",
   "execution_count": 50,
   "id": "2f799731",
   "metadata": {},
   "outputs": [],
   "source": [
    "#Make all column names lowercase\n",
    "df.columns = df.columns.str.lower()"
   ]
  },
  {
   "cell_type": "code",
   "execution_count": 46,
   "id": "748e64a1",
   "metadata": {},
   "outputs": [],
   "source": [
    "#Format column names with snake case\n"
   ]
  },
  {
   "cell_type": "code",
   "execution_count": 51,
   "id": "852c27ec",
   "metadata": {},
   "outputs": [
    {
     "data": {
      "text/html": [
       "<div>\n",
       "<style scoped>\n",
       "    .dataframe tbody tr th:only-of-type {\n",
       "        vertical-align: middle;\n",
       "    }\n",
       "\n",
       "    .dataframe tbody tr th {\n",
       "        vertical-align: top;\n",
       "    }\n",
       "\n",
       "    .dataframe thead th {\n",
       "        text-align: right;\n",
       "    }\n",
       "</style>\n",
       "<table border=\"1\" class=\"dataframe\">\n",
       "  <thead>\n",
       "    <tr style=\"text-align: right;\">\n",
       "      <th></th>\n",
       "      <th>name</th>\n",
       "      <th>address</th>\n",
       "      <th>location</th>\n",
       "      <th>price</th>\n",
       "      <th>cuisine</th>\n",
       "      <th>longitude</th>\n",
       "      <th>latitude</th>\n",
       "      <th>phonenumber</th>\n",
       "      <th>url</th>\n",
       "      <th>websiteurl</th>\n",
       "      <th>award</th>\n",
       "      <th>facilitiesandservices</th>\n",
       "    </tr>\n",
       "  </thead>\n",
       "  <tbody>\n",
       "    <tr>\n",
       "      <th>5409</th>\n",
       "      <td>Rooster and the Till</td>\n",
       "      <td>6500 N. Florida Ave., Tampa, 33604, USA</td>\n",
       "      <td>Tampa, USA</td>\n",
       "      <td>$$</td>\n",
       "      <td>International</td>\n",
       "      <td>-82.459512</td>\n",
       "      <td>28.006834</td>\n",
       "      <td>1.813375e+10</td>\n",
       "      <td>https://guide.michelin.com/en/florida/tampa/re...</td>\n",
       "      <td>https://www.roosterandthetill.com/</td>\n",
       "      <td>Bib Gourmand</td>\n",
       "      <td>Air conditioning,American Express credit card,...</td>\n",
       "    </tr>\n",
       "  </tbody>\n",
       "</table>\n",
       "</div>"
      ],
      "text/plain": [
       "                      name                                  address  \\\n",
       "5409  Rooster and the Till  6500 N. Florida Ave., Tampa, 33604, USA   \n",
       "\n",
       "        location price        cuisine  longitude   latitude   phonenumber  \\\n",
       "5409  Tampa, USA    $$  International -82.459512  28.006834  1.813375e+10   \n",
       "\n",
       "                                                    url  \\\n",
       "5409  https://guide.michelin.com/en/florida/tampa/re...   \n",
       "\n",
       "                              websiteurl         award  \\\n",
       "5409  https://www.roosterandthetill.com/  Bib Gourmand   \n",
       "\n",
       "                                  facilitiesandservices  \n",
       "5409  Air conditioning,American Express credit card,...  "
      ]
     },
     "execution_count": 51,
     "metadata": {},
     "output_type": "execute_result"
    }
   ],
   "source": [
    "#Calling restauraunt by name -- Using conventional capitalization\n",
    "df[df.name == 'Rooster and the Till']"
   ]
  },
  {
   "cell_type": "code",
   "execution_count": 53,
   "id": "9ab69459",
   "metadata": {},
   "outputs": [],
   "source": [
    "#renaming columns in snake case\n",
    "df = df.rename(columns = {\"phonenumber\":\"phone_number\", \"websiteurl\":\"website_url\", \"facilitiesandservices\":\"facilities_and_services\"})"
   ]
  },
  {
   "cell_type": "code",
   "execution_count": 54,
   "id": "dc66d4e7",
   "metadata": {},
   "outputs": [
    {
     "data": {
      "text/html": [
       "<div>\n",
       "<style scoped>\n",
       "    .dataframe tbody tr th:only-of-type {\n",
       "        vertical-align: middle;\n",
       "    }\n",
       "\n",
       "    .dataframe tbody tr th {\n",
       "        vertical-align: top;\n",
       "    }\n",
       "\n",
       "    .dataframe thead th {\n",
       "        text-align: right;\n",
       "    }\n",
       "</style>\n",
       "<table border=\"1\" class=\"dataframe\">\n",
       "  <thead>\n",
       "    <tr style=\"text-align: right;\">\n",
       "      <th></th>\n",
       "      <th>name</th>\n",
       "      <th>address</th>\n",
       "      <th>location</th>\n",
       "      <th>price</th>\n",
       "      <th>cuisine</th>\n",
       "      <th>longitude</th>\n",
       "      <th>latitude</th>\n",
       "      <th>phone_number</th>\n",
       "      <th>url</th>\n",
       "      <th>website_url</th>\n",
       "      <th>award</th>\n",
       "      <th>facilities_and_services</th>\n",
       "    </tr>\n",
       "  </thead>\n",
       "  <tbody>\n",
       "    <tr>\n",
       "      <th>0</th>\n",
       "      <td>King's Joy</td>\n",
       "      <td>2 Wudaoying Hutong, Beijing, China Mainland</td>\n",
       "      <td>Beijing, China Mainland</td>\n",
       "      <td>¥¥¥</td>\n",
       "      <td>Vegetarian</td>\n",
       "      <td>116.410004</td>\n",
       "      <td>39.946681</td>\n",
       "      <td>8.610840e+11</td>\n",
       "      <td>https://guide.michelin.com/en/beijing-municipa...</td>\n",
       "      <td>NaN</td>\n",
       "      <td>3 MICHELIN Stars</td>\n",
       "      <td>Air conditioning,American Express credit card,...</td>\n",
       "    </tr>\n",
       "    <tr>\n",
       "      <th>1</th>\n",
       "      <td>Xin Rong Ji (Xinyuan South Road)</td>\n",
       "      <td>1F, East Tower, Genesis Beijing, 8 Xinyuan Sou...</td>\n",
       "      <td>Beijing, China Mainland</td>\n",
       "      <td>¥¥¥¥</td>\n",
       "      <td>Taizhou</td>\n",
       "      <td>116.450148</td>\n",
       "      <td>39.946380</td>\n",
       "      <td>8.610650e+11</td>\n",
       "      <td>https://guide.michelin.com/en/beijing-municipa...</td>\n",
       "      <td>NaN</td>\n",
       "      <td>3 MICHELIN Stars</td>\n",
       "      <td>Air conditioning,Car park,China UnionPay,Count...</td>\n",
       "    </tr>\n",
       "  </tbody>\n",
       "</table>\n",
       "</div>"
      ],
      "text/plain": [
       "                               name  \\\n",
       "0                        King's Joy   \n",
       "1  Xin Rong Ji (Xinyuan South Road)   \n",
       "\n",
       "                                             address                 location  \\\n",
       "0        2 Wudaoying Hutong, Beijing, China Mainland  Beijing, China Mainland   \n",
       "1  1F, East Tower, Genesis Beijing, 8 Xinyuan Sou...  Beijing, China Mainland   \n",
       "\n",
       "  price     cuisine   longitude   latitude  phone_number  \\\n",
       "0   ¥¥¥  Vegetarian  116.410004  39.946681  8.610840e+11   \n",
       "1  ¥¥¥¥     Taizhou  116.450148  39.946380  8.610650e+11   \n",
       "\n",
       "                                                 url website_url  \\\n",
       "0  https://guide.michelin.com/en/beijing-municipa...         NaN   \n",
       "1  https://guide.michelin.com/en/beijing-municipa...         NaN   \n",
       "\n",
       "              award                            facilities_and_services  \n",
       "0  3 MICHELIN Stars  Air conditioning,American Express credit card,...  \n",
       "1  3 MICHELIN Stars  Air conditioning,Car park,China UnionPay,Count...  "
      ]
     },
     "execution_count": 54,
     "metadata": {},
     "output_type": "execute_result"
    }
   ],
   "source": [
    "df.head(2)"
   ]
  },
  {
   "cell_type": "code",
   "execution_count": 55,
   "id": "8977a1b6",
   "metadata": {},
   "outputs": [
    {
     "data": {
      "text/plain": [
       "'https://guide.michelin.com/en/beijing-municipality/beijing/restaurant/king-s-joy'"
      ]
     },
     "execution_count": 55,
     "metadata": {},
     "output_type": "execute_result"
    }
   ],
   "source": [
    "df.url[0]"
   ]
  },
  {
   "cell_type": "code",
   "execution_count": 56,
   "id": "6a223e7c",
   "metadata": {},
   "outputs": [
    {
     "data": {
      "text/plain": [
       "'https://guide.michelin.com/en/beijing-municipality/beijing/restaurant/xin-rong-ji-xinyuan-south-road'"
      ]
     },
     "execution_count": 56,
     "metadata": {},
     "output_type": "execute_result"
    }
   ],
   "source": [
    "df.url[1]"
   ]
  },
  {
   "cell_type": "code",
   "execution_count": null,
   "id": "d67cbb90",
   "metadata": {},
   "outputs": [],
   "source": []
  },
  {
   "cell_type": "code",
   "execution_count": 57,
   "id": "e09aa60c",
   "metadata": {},
   "outputs": [],
   "source": [
    "url_0 = 'https://guide.michelin.com/en/beijing-municipality/beijing/restaurant/king-s-joy'"
   ]
  },
  {
   "cell_type": "code",
   "execution_count": 58,
   "id": "b87feb52",
   "metadata": {},
   "outputs": [
    {
     "data": {
      "text/plain": [
       "'beijing-municipality/beijing/restaurant/king-s-joy'"
      ]
     },
     "execution_count": 58,
     "metadata": {},
     "output_type": "execute_result"
    }
   ],
   "source": [
    "parts = url_0.split(\"en/\")\n",
    "parts[1]"
   ]
  },
  {
   "cell_type": "code",
   "execution_count": 59,
   "id": "1d746b60",
   "metadata": {},
   "outputs": [],
   "source": [
    "df = df.assign(parts= df.url.str.split(\"en/\").str[1])"
   ]
  },
  {
   "cell_type": "code",
   "execution_count": 60,
   "id": "80165e3a",
   "metadata": {},
   "outputs": [
    {
     "data": {
      "text/html": [
       "<div>\n",
       "<style scoped>\n",
       "    .dataframe tbody tr th:only-of-type {\n",
       "        vertical-align: middle;\n",
       "    }\n",
       "\n",
       "    .dataframe tbody tr th {\n",
       "        vertical-align: top;\n",
       "    }\n",
       "\n",
       "    .dataframe thead th {\n",
       "        text-align: right;\n",
       "    }\n",
       "</style>\n",
       "<table border=\"1\" class=\"dataframe\">\n",
       "  <thead>\n",
       "    <tr style=\"text-align: right;\">\n",
       "      <th></th>\n",
       "      <th>name</th>\n",
       "      <th>address</th>\n",
       "      <th>location</th>\n",
       "      <th>price</th>\n",
       "      <th>cuisine</th>\n",
       "      <th>longitude</th>\n",
       "      <th>latitude</th>\n",
       "      <th>phone_number</th>\n",
       "      <th>url</th>\n",
       "      <th>website_url</th>\n",
       "      <th>award</th>\n",
       "      <th>facilities_and_services</th>\n",
       "      <th>parts</th>\n",
       "    </tr>\n",
       "  </thead>\n",
       "  <tbody>\n",
       "    <tr>\n",
       "      <th>0</th>\n",
       "      <td>King's Joy</td>\n",
       "      <td>2 Wudaoying Hutong, Beijing, China Mainland</td>\n",
       "      <td>Beijing, China Mainland</td>\n",
       "      <td>¥¥¥</td>\n",
       "      <td>Vegetarian</td>\n",
       "      <td>116.410004</td>\n",
       "      <td>39.946681</td>\n",
       "      <td>8.610840e+11</td>\n",
       "      <td>https://guide.michelin.com/en/beijing-municipa...</td>\n",
       "      <td>NaN</td>\n",
       "      <td>3 MICHELIN Stars</td>\n",
       "      <td>Air conditioning,American Express credit card,...</td>\n",
       "      <td>beijing-municipality/beijing/restaurant/king-s...</td>\n",
       "    </tr>\n",
       "    <tr>\n",
       "      <th>1</th>\n",
       "      <td>Xin Rong Ji (Xinyuan South Road)</td>\n",
       "      <td>1F, East Tower, Genesis Beijing, 8 Xinyuan Sou...</td>\n",
       "      <td>Beijing, China Mainland</td>\n",
       "      <td>¥¥¥¥</td>\n",
       "      <td>Taizhou</td>\n",
       "      <td>116.450148</td>\n",
       "      <td>39.946380</td>\n",
       "      <td>8.610650e+11</td>\n",
       "      <td>https://guide.michelin.com/en/beijing-municipa...</td>\n",
       "      <td>NaN</td>\n",
       "      <td>3 MICHELIN Stars</td>\n",
       "      <td>Air conditioning,Car park,China UnionPay,Count...</td>\n",
       "      <td>beijing-municipality/beijing/restaurant/xin-ro...</td>\n",
       "    </tr>\n",
       "    <tr>\n",
       "      <th>2</th>\n",
       "      <td>Taian Table</td>\n",
       "      <td>101-102, Building No. 1, Garden Office, No.161...</td>\n",
       "      <td>Shanghai, China Mainland</td>\n",
       "      <td>¥¥¥¥</td>\n",
       "      <td>Innovative</td>\n",
       "      <td>121.474049</td>\n",
       "      <td>31.221807</td>\n",
       "      <td>8.617302e+12</td>\n",
       "      <td>https://guide.michelin.com/en/shanghai-municip...</td>\n",
       "      <td>https://taian-table.cn/</td>\n",
       "      <td>3 MICHELIN Stars</td>\n",
       "      <td>Air conditioning,American Express credit card,...</td>\n",
       "      <td>shanghai-municipality/shanghai/restaurant/taia...</td>\n",
       "    </tr>\n",
       "    <tr>\n",
       "      <th>3</th>\n",
       "      <td>Ultraviolet by Paul Pairet</td>\n",
       "      <td>'somewhere in Shanghai' - meet at Mr &amp; Mrs Bun...</td>\n",
       "      <td>Shanghai, China Mainland</td>\n",
       "      <td>¥¥¥¥</td>\n",
       "      <td>Innovative</td>\n",
       "      <td>121.485090</td>\n",
       "      <td>31.240358</td>\n",
       "      <td>NaN</td>\n",
       "      <td>https://guide.michelin.com/en/shanghai-municip...</td>\n",
       "      <td>https://uvbypp.cc/</td>\n",
       "      <td>3 MICHELIN Stars</td>\n",
       "      <td>Air conditioning,American Express credit card,...</td>\n",
       "      <td>shanghai-municipality/shanghai/restaurant/ultr...</td>\n",
       "    </tr>\n",
       "    <tr>\n",
       "      <th>4</th>\n",
       "      <td>Quince</td>\n",
       "      <td>470 Pacific Ave., San Francisco, 94133, USA</td>\n",
       "      <td>San Francisco, USA</td>\n",
       "      <td>$$$$</td>\n",
       "      <td>Contemporary, Californian</td>\n",
       "      <td>-122.403261</td>\n",
       "      <td>37.797505</td>\n",
       "      <td>1.415776e+10</td>\n",
       "      <td>https://guide.michelin.com/en/california/san-f...</td>\n",
       "      <td>http://www.quincerestaurant.com</td>\n",
       "      <td>3 MICHELIN Stars</td>\n",
       "      <td>Air conditioning,American Express credit card,...</td>\n",
       "      <td>california/san-francisco/restaurant/quince</td>\n",
       "    </tr>\n",
       "  </tbody>\n",
       "</table>\n",
       "</div>"
      ],
      "text/plain": [
       "                               name  \\\n",
       "0                        King's Joy   \n",
       "1  Xin Rong Ji (Xinyuan South Road)   \n",
       "2                       Taian Table   \n",
       "3        Ultraviolet by Paul Pairet   \n",
       "4                            Quince   \n",
       "\n",
       "                                             address  \\\n",
       "0        2 Wudaoying Hutong, Beijing, China Mainland   \n",
       "1  1F, East Tower, Genesis Beijing, 8 Xinyuan Sou...   \n",
       "2  101-102, Building No. 1, Garden Office, No.161...   \n",
       "3  'somewhere in Shanghai' - meet at Mr & Mrs Bun...   \n",
       "4        470 Pacific Ave., San Francisco, 94133, USA   \n",
       "\n",
       "                   location price                    cuisine   longitude  \\\n",
       "0   Beijing, China Mainland   ¥¥¥                 Vegetarian  116.410004   \n",
       "1   Beijing, China Mainland  ¥¥¥¥                    Taizhou  116.450148   \n",
       "2  Shanghai, China Mainland  ¥¥¥¥                 Innovative  121.474049   \n",
       "3  Shanghai, China Mainland  ¥¥¥¥                 Innovative  121.485090   \n",
       "4        San Francisco, USA  $$$$  Contemporary, Californian -122.403261   \n",
       "\n",
       "    latitude  phone_number                                                url  \\\n",
       "0  39.946681  8.610840e+11  https://guide.michelin.com/en/beijing-municipa...   \n",
       "1  39.946380  8.610650e+11  https://guide.michelin.com/en/beijing-municipa...   \n",
       "2  31.221807  8.617302e+12  https://guide.michelin.com/en/shanghai-municip...   \n",
       "3  31.240358           NaN  https://guide.michelin.com/en/shanghai-municip...   \n",
       "4  37.797505  1.415776e+10  https://guide.michelin.com/en/california/san-f...   \n",
       "\n",
       "                       website_url             award  \\\n",
       "0                              NaN  3 MICHELIN Stars   \n",
       "1                              NaN  3 MICHELIN Stars   \n",
       "2          https://taian-table.cn/  3 MICHELIN Stars   \n",
       "3               https://uvbypp.cc/  3 MICHELIN Stars   \n",
       "4  http://www.quincerestaurant.com  3 MICHELIN Stars   \n",
       "\n",
       "                             facilities_and_services  \\\n",
       "0  Air conditioning,American Express credit card,...   \n",
       "1  Air conditioning,Car park,China UnionPay,Count...   \n",
       "2  Air conditioning,American Express credit card,...   \n",
       "3  Air conditioning,American Express credit card,...   \n",
       "4  Air conditioning,American Express credit card,...   \n",
       "\n",
       "                                               parts  \n",
       "0  beijing-municipality/beijing/restaurant/king-s...  \n",
       "1  beijing-municipality/beijing/restaurant/xin-ro...  \n",
       "2  shanghai-municipality/shanghai/restaurant/taia...  \n",
       "3  shanghai-municipality/shanghai/restaurant/ultr...  \n",
       "4         california/san-francisco/restaurant/quince  "
      ]
     },
     "execution_count": 60,
     "metadata": {},
     "output_type": "execute_result"
    }
   ],
   "source": [
    "df.head()"
   ]
  },
  {
   "cell_type": "code",
   "execution_count": 61,
   "id": "759032d0",
   "metadata": {},
   "outputs": [
    {
     "name": "stdout",
     "output_type": "stream",
     "text": [
      "<class 'pandas.core.frame.DataFrame'>\n",
      "RangeIndex: 6780 entries, 0 to 6779\n",
      "Data columns (total 13 columns):\n",
      " #   Column                   Non-Null Count  Dtype  \n",
      "---  ------                   --------------  -----  \n",
      " 0   name                     6780 non-null   object \n",
      " 1   address                  6780 non-null   object \n",
      " 2   location                 6780 non-null   object \n",
      " 3   price                    6726 non-null   object \n",
      " 4   cuisine                  6780 non-null   object \n",
      " 5   longitude                6780 non-null   float64\n",
      " 6   latitude                 6780 non-null   float64\n",
      " 7   phone_number             6649 non-null   float64\n",
      " 8   url                      6780 non-null   object \n",
      " 9   website_url              5542 non-null   object \n",
      " 10  award                    6780 non-null   object \n",
      " 11  facilities_and_services  6732 non-null   object \n",
      " 12  parts                    6780 non-null   object \n",
      "dtypes: float64(3), object(10)\n",
      "memory usage: 688.7+ KB\n"
     ]
    }
   ],
   "source": [
    "df.info()"
   ]
  },
  {
   "cell_type": "code",
   "execution_count": 47,
   "id": "b4e2bda6",
   "metadata": {},
   "outputs": [],
   "source": [
    "urls = list(df.parts)"
   ]
  },
  {
   "cell_type": "code",
   "execution_count": 62,
   "id": "83df56e5",
   "metadata": {},
   "outputs": [
    {
     "ename": "NameError",
     "evalue": "name 'urls' is not defined",
     "output_type": "error",
     "traceback": [
      "\u001b[0;31m---------------------------------------------------------------------------\u001b[0m",
      "\u001b[0;31mNameError\u001b[0m                                 Traceback (most recent call last)",
      "Cell \u001b[0;32mIn[62], line 1\u001b[0m\n\u001b[0;32m----> 1\u001b[0m \u001b[43murls\u001b[49m\n",
      "\u001b[0;31mNameError\u001b[0m: name 'urls' is not defined"
     ]
    }
   ],
   "source": [
    "urls"
   ]
  },
  {
   "cell_type": "code",
   "execution_count": 21,
   "id": "7b120b5d",
   "metadata": {},
   "outputs": [],
   "source": [
    "url = 'https://guide.michelin.com/en/shanghai-municipality/shanghai/restaurant/taian-table'"
   ]
  },
  {
   "cell_type": "code",
   "execution_count": 22,
   "id": "584368b2",
   "metadata": {},
   "outputs": [
    {
     "data": {
      "text/plain": [
       "<Response [200]>"
      ]
     },
     "execution_count": 22,
     "metadata": {},
     "output_type": "execute_result"
    }
   ],
   "source": [
    "requests.get(url)\n",
    "response = requests.get(url)\n",
    "response"
   ]
  },
  {
   "cell_type": "code",
   "execution_count": 23,
   "id": "4fb93def",
   "metadata": {},
   "outputs": [],
   "source": [
    "#telling it you will feed it html\n",
    "soup = BeautifulSoup(response.content, 'html.parser')"
   ]
  },
  {
   "cell_type": "code",
   "execution_count": 30,
   "id": "bb7173b8",
   "metadata": {},
   "outputs": [
    {
     "data": {
      "text/plain": [
       "[<p class=\"restaurant-details__likeinfo--description pl-text js-favorite__description\">\n",
       "             Add to favorites\n",
       "         </p>,\n",
       " <p class=\"restaurant-details__likeinfo--description pl-text js-favorite__description\">\n",
       "             Add to favorites\n",
       "         </p>]"
      ]
     },
     "execution_count": 30,
     "metadata": {},
     "output_type": "execute_result"
    }
   ],
   "source": [
    "soup.find_all('p', class_='restaurant-details__likeinfo--description pl-text js-favorite__description')"
   ]
  },
  {
   "cell_type": "code",
   "execution_count": 33,
   "id": "42ee19eb",
   "metadata": {},
   "outputs": [
    {
     "data": {
      "text/plain": [
       "[<p class=\"restaurant-details__likeinfo--description pl-text js-favorite__description\">\n",
       "             Add to favorites\n",
       "         </p>,\n",
       " <p class=\"restaurant-details__likeinfo--description pl-text js-favorite__description\">\n",
       "             Add to favorites\n",
       "         </p>,\n",
       " <p>A fixture on the city’s dining scene since 2016, this brainchild of Chef Stefan Stiller is familiar to all local foodies. With counter seats enclosing an island where the chefs cook, guest gets to witness the birth of each course up close. The 10- or 12-course menu features 8 dishes that change entirely every 6-8 weeks. Diners then choose the rest from the classics or specials menu. The food is well-executed, sophisticated and original.</p>,\n",
       " <p>\"We source from sustainable producers and minimize plastic use, food waste and energy consumption. We also recycle whenever possible and urge vendors to reduce packaging.\"</p>]"
      ]
     },
     "execution_count": 33,
     "metadata": {},
     "output_type": "execute_result"
    }
   ],
   "source": [
    "soup.find_all('p')"
   ]
  },
  {
   "cell_type": "code",
   "execution_count": 34,
   "id": "cfa717f3",
   "metadata": {},
   "outputs": [
    {
     "data": {
      "text/plain": [
       "[<p>A fixture on the city’s dining scene since 2016, this brainchild of Chef Stefan Stiller is familiar to all local foodies. With counter seats enclosing an island where the chefs cook, guest gets to witness the birth of each course up close. The 10- or 12-course menu features 8 dishes that change entirely every 6-8 weeks. Diners then choose the rest from the classics or specials menu. The food is well-executed, sophisticated and original.</p>,\n",
       " <p>\"We source from sustainable producers and minimize plastic use, food waste and energy consumption. We also recycle whenever possible and urge vendors to reduce packaging.\"</p>]"
      ]
     },
     "execution_count": 34,
     "metadata": {},
     "output_type": "execute_result"
    }
   ],
   "source": [
    "soup.select('p:not([class])')"
   ]
  },
  {
   "cell_type": "code",
   "execution_count": 75,
   "id": "18434cf6",
   "metadata": {},
   "outputs": [
    {
     "data": {
      "text/plain": [
       "<p>A fixture on the city’s dining scene since 2016, this brainchild of Chef Stefan Stiller is familiar to all local foodies. With counter seats enclosing an island where the chefs cook, guest gets to witness the birth of each course up close. The 10- or 12-course menu features 8 dishes that change entirely every 6-8 weeks. Diners then choose the rest from the classics or specials menu. The food is well-executed, sophisticated and original.</p>"
      ]
     },
     "execution_count": 75,
     "metadata": {},
     "output_type": "execute_result"
    }
   ],
   "source": [
    "soup.find('p', {'class':None})"
   ]
  },
  {
   "cell_type": "code",
   "execution_count": 76,
   "id": "e79038a2",
   "metadata": {},
   "outputs": [
    {
     "data": {
      "text/plain": [
       "'A fixture on the city’s dining scene since 2016, this brainchild of Chef Stefan Stiller is familiar to all local foodies. With counter seats enclosing an island where the chefs cook, guest gets to witness the birth of each course up close. The 10- or 12-course menu features 8 dishes that change entirely every 6-8 weeks. Diners then choose the rest from the classics or specials menu. The food is well-executed, sophisticated and original.'"
      ]
     },
     "execution_count": 76,
     "metadata": {},
     "output_type": "execute_result"
    }
   ],
   "source": [
    "soup.find('p', {'class':None}).text.strip()"
   ]
  },
  {
   "cell_type": "code",
   "execution_count": 66,
   "id": "7f840cb8",
   "metadata": {},
   "outputs": [
    {
     "data": {
      "text/plain": [
       "'A fixture on the city’s dining scene since 2016, this brainchild of Chef Stefan Stiller is familiar to all local foodies. With counter seats enclosing an island where the chefs cook, guest gets to witness the birth of each course up close. The 10- or 12-course menu features 8 dishes that change entirely every 6-8 weeks. Diners then choose the rest from the classics or specials menu. The food is well-executed, sophisticated and original.'"
      ]
     },
     "execution_count": 66,
     "metadata": {},
     "output_type": "execute_result"
    }
   ],
   "source": [
    "soup.find('p', {'class':None}).contents[0]"
   ]
  },
  {
   "cell_type": "code",
   "execution_count": 77,
   "id": "323f60af",
   "metadata": {},
   "outputs": [
    {
     "data": {
      "text/plain": [
       "0       https://guide.michelin.com/en/beijing-municipa...\n",
       "1       https://guide.michelin.com/en/beijing-municipa...\n",
       "2       https://guide.michelin.com/en/shanghai-municip...\n",
       "3       https://guide.michelin.com/en/shanghai-municip...\n",
       "4       https://guide.michelin.com/en/california/san-f...\n",
       "                              ...                        \n",
       "6775    https://guide.michelin.com/en/masovia/warsaw/r...\n",
       "6776    https://guide.michelin.com/en/lesser-poland/cr...\n",
       "6777    https://guide.michelin.com/en/lesser-poland/cr...\n",
       "6778    https://guide.michelin.com/en/masovia/warsaw/r...\n",
       "6779    https://guide.michelin.com/en/masovia/warsaw/r...\n",
       "Name: url, Length: 6780, dtype: object"
      ]
     },
     "execution_count": 77,
     "metadata": {},
     "output_type": "execute_result"
    }
   ],
   "source": [
    "df['url']"
   ]
  },
  {
   "cell_type": "code",
   "execution_count": 79,
   "id": "92dd171e",
   "metadata": {},
   "outputs": [],
   "source": [
    "def get_michelin_pages(df):\n",
    "    urls = df['url']\n",
    "    output = []\n",
    "    for page in urls:\n",
    "        soup = BeautifulSoup(requests.get(page).content)\n",
    "        page_output = {'content': soup.find('p', {'class':None}).text.strip()}\n",
    "        output.append(page_output)\n",
    "        time.sleep(2)\n",
    "    df['data'] = output\n",
    "        \n",
    "    return df"
   ]
  },
  {
   "cell_type": "code",
   "execution_count": 80,
   "id": "8635d2b6",
   "metadata": {},
   "outputs": [
    {
     "data": {
      "text/html": [
       "<div>\n",
       "<style scoped>\n",
       "    .dataframe tbody tr th:only-of-type {\n",
       "        vertical-align: middle;\n",
       "    }\n",
       "\n",
       "    .dataframe tbody tr th {\n",
       "        vertical-align: top;\n",
       "    }\n",
       "\n",
       "    .dataframe thead th {\n",
       "        text-align: right;\n",
       "    }\n",
       "</style>\n",
       "<table border=\"1\" class=\"dataframe\">\n",
       "  <thead>\n",
       "    <tr style=\"text-align: right;\">\n",
       "      <th></th>\n",
       "      <th>name</th>\n",
       "      <th>address</th>\n",
       "      <th>location</th>\n",
       "      <th>price</th>\n",
       "      <th>cuisine</th>\n",
       "      <th>longitude</th>\n",
       "      <th>latitude</th>\n",
       "      <th>phone_number</th>\n",
       "      <th>url</th>\n",
       "      <th>website_url</th>\n",
       "      <th>award</th>\n",
       "      <th>facilities_and_services</th>\n",
       "      <th>parts</th>\n",
       "      <th>data</th>\n",
       "    </tr>\n",
       "  </thead>\n",
       "  <tbody>\n",
       "    <tr>\n",
       "      <th>0</th>\n",
       "      <td>King's Joy</td>\n",
       "      <td>2 Wudaoying Hutong, Beijing, China Mainland</td>\n",
       "      <td>Beijing, China Mainland</td>\n",
       "      <td>¥¥¥</td>\n",
       "      <td>Vegetarian</td>\n",
       "      <td>116.410004</td>\n",
       "      <td>39.946681</td>\n",
       "      <td>8.610840e+11</td>\n",
       "      <td>https://guide.michelin.com/en/beijing-municipa...</td>\n",
       "      <td>NaN</td>\n",
       "      <td>3 MICHELIN Stars</td>\n",
       "      <td>Air conditioning,American Express credit card,...</td>\n",
       "      <td>beijing-municipality/beijing/restaurant/king-s...</td>\n",
       "      <td>{'page': 'https://guide.michelin.com/en/beijin...</td>\n",
       "    </tr>\n",
       "    <tr>\n",
       "      <th>1</th>\n",
       "      <td>Xin Rong Ji (Xinyuan South Road)</td>\n",
       "      <td>1F, East Tower, Genesis Beijing, 8 Xinyuan Sou...</td>\n",
       "      <td>Beijing, China Mainland</td>\n",
       "      <td>¥¥¥¥</td>\n",
       "      <td>Taizhou</td>\n",
       "      <td>116.450148</td>\n",
       "      <td>39.946380</td>\n",
       "      <td>8.610650e+11</td>\n",
       "      <td>https://guide.michelin.com/en/beijing-municipa...</td>\n",
       "      <td>NaN</td>\n",
       "      <td>3 MICHELIN Stars</td>\n",
       "      <td>Air conditioning,Car park,China UnionPay,Count...</td>\n",
       "      <td>beijing-municipality/beijing/restaurant/xin-ro...</td>\n",
       "      <td>{'page': 'https://guide.michelin.com/en/beijin...</td>\n",
       "    </tr>\n",
       "    <tr>\n",
       "      <th>2</th>\n",
       "      <td>Taian Table</td>\n",
       "      <td>101-102, Building No. 1, Garden Office, No.161...</td>\n",
       "      <td>Shanghai, China Mainland</td>\n",
       "      <td>¥¥¥¥</td>\n",
       "      <td>Innovative</td>\n",
       "      <td>121.474049</td>\n",
       "      <td>31.221807</td>\n",
       "      <td>8.617302e+12</td>\n",
       "      <td>https://guide.michelin.com/en/shanghai-municip...</td>\n",
       "      <td>https://taian-table.cn/</td>\n",
       "      <td>3 MICHELIN Stars</td>\n",
       "      <td>Air conditioning,American Express credit card,...</td>\n",
       "      <td>shanghai-municipality/shanghai/restaurant/taia...</td>\n",
       "      <td>{'page': 'https://guide.michelin.com/en/shangh...</td>\n",
       "    </tr>\n",
       "    <tr>\n",
       "      <th>3</th>\n",
       "      <td>Ultraviolet by Paul Pairet</td>\n",
       "      <td>'somewhere in Shanghai' - meet at Mr &amp; Mrs Bun...</td>\n",
       "      <td>Shanghai, China Mainland</td>\n",
       "      <td>¥¥¥¥</td>\n",
       "      <td>Innovative</td>\n",
       "      <td>121.485090</td>\n",
       "      <td>31.240358</td>\n",
       "      <td>NaN</td>\n",
       "      <td>https://guide.michelin.com/en/shanghai-municip...</td>\n",
       "      <td>https://uvbypp.cc/</td>\n",
       "      <td>3 MICHELIN Stars</td>\n",
       "      <td>Air conditioning,American Express credit card,...</td>\n",
       "      <td>shanghai-municipality/shanghai/restaurant/ultr...</td>\n",
       "      <td>{'page': 'https://guide.michelin.com/en/shangh...</td>\n",
       "    </tr>\n",
       "    <tr>\n",
       "      <th>4</th>\n",
       "      <td>Quince</td>\n",
       "      <td>470 Pacific Ave., San Francisco, 94133, USA</td>\n",
       "      <td>San Francisco, USA</td>\n",
       "      <td>$$$$</td>\n",
       "      <td>Contemporary, Californian</td>\n",
       "      <td>-122.403261</td>\n",
       "      <td>37.797505</td>\n",
       "      <td>1.415776e+10</td>\n",
       "      <td>https://guide.michelin.com/en/california/san-f...</td>\n",
       "      <td>http://www.quincerestaurant.com</td>\n",
       "      <td>3 MICHELIN Stars</td>\n",
       "      <td>Air conditioning,American Express credit card,...</td>\n",
       "      <td>california/san-francisco/restaurant/quince</td>\n",
       "      <td>{'page': 'https://guide.michelin.com/en/califo...</td>\n",
       "    </tr>\n",
       "    <tr>\n",
       "      <th>...</th>\n",
       "      <td>...</td>\n",
       "      <td>...</td>\n",
       "      <td>...</td>\n",
       "      <td>...</td>\n",
       "      <td>...</td>\n",
       "      <td>...</td>\n",
       "      <td>...</td>\n",
       "      <td>...</td>\n",
       "      <td>...</td>\n",
       "      <td>...</td>\n",
       "      <td>...</td>\n",
       "      <td>...</td>\n",
       "      <td>...</td>\n",
       "      <td>...</td>\n",
       "    </tr>\n",
       "    <tr>\n",
       "      <th>6775</th>\n",
       "      <td>Szóstka</td>\n",
       "      <td>Plac Powstańców Warszawy 9, Warsaw, 00 039, Po...</td>\n",
       "      <td>Warsaw, Poland</td>\n",
       "      <td>€€</td>\n",
       "      <td>Polish, Modern Cuisine</td>\n",
       "      <td>21.012698</td>\n",
       "      <td>52.235803</td>\n",
       "      <td>4.822470e+10</td>\n",
       "      <td>https://guide.michelin.com/en/masovia/warsaw/r...</td>\n",
       "      <td>https://warszawa.hotel.com.pl/hotel-warszawa</td>\n",
       "      <td>Bib Gourmand</td>\n",
       "      <td>Air conditioning,American Express credit card,...</td>\n",
       "      <td>masovia/warsaw/restaurant/szostka</td>\n",
       "      <td>{'page': 'https://guide.michelin.com/en/masovi...</td>\n",
       "    </tr>\n",
       "    <tr>\n",
       "      <th>6776</th>\n",
       "      <td>Fiorentina</td>\n",
       "      <td>ul. Grodzka 63, Cracow, 31 044, Poland</td>\n",
       "      <td>Cracow, Poland</td>\n",
       "      <td>€€</td>\n",
       "      <td>Creative, Polish</td>\n",
       "      <td>19.938179</td>\n",
       "      <td>50.055898</td>\n",
       "      <td>4.812426e+10</td>\n",
       "      <td>https://guide.michelin.com/en/lesser-poland/cr...</td>\n",
       "      <td>https://fiorentina.com.pl/</td>\n",
       "      <td>Bib Gourmand</td>\n",
       "      <td>Air conditioning,American Express credit card,...</td>\n",
       "      <td>lesser-poland/cracow/restaurant/fiorentina</td>\n",
       "      <td>{'page': 'https://guide.michelin.com/en/lesser...</td>\n",
       "    </tr>\n",
       "    <tr>\n",
       "      <th>6777</th>\n",
       "      <td>Zazie</td>\n",
       "      <td>ul. Józefa 34, Cracow, 32 056, Poland</td>\n",
       "      <td>Cracow, Poland</td>\n",
       "      <td>€</td>\n",
       "      <td>French</td>\n",
       "      <td>19.946949</td>\n",
       "      <td>50.051240</td>\n",
       "      <td>4.850041e+10</td>\n",
       "      <td>https://guide.michelin.com/en/lesser-poland/cr...</td>\n",
       "      <td>http://www.zaziebistro.pl/</td>\n",
       "      <td>Bib Gourmand</td>\n",
       "      <td>Air conditioning,Booking essential - dinner,Cr...</td>\n",
       "      <td>lesser-poland/cracow/restaurant/zazie</td>\n",
       "      <td>{'page': 'https://guide.michelin.com/en/lesser...</td>\n",
       "    </tr>\n",
       "    <tr>\n",
       "      <th>6778</th>\n",
       "      <td>Butchery &amp; Wine</td>\n",
       "      <td>ul. Żurawia 22, Warsaw, 00 515, Poland</td>\n",
       "      <td>Warsaw, Poland</td>\n",
       "      <td>€€</td>\n",
       "      <td>Meats and Grills, Traditional Cuisine</td>\n",
       "      <td>21.015495</td>\n",
       "      <td>52.228581</td>\n",
       "      <td>4.822502e+10</td>\n",
       "      <td>https://guide.michelin.com/en/masovia/warsaw/r...</td>\n",
       "      <td>https://www.butcheryandwine.pl/</td>\n",
       "      <td>Bib Gourmand</td>\n",
       "      <td>American Express credit card,Booking essential...</td>\n",
       "      <td>masovia/warsaw/restaurant/butchery-and-wine</td>\n",
       "      <td>{'page': 'https://guide.michelin.com/en/masovi...</td>\n",
       "    </tr>\n",
       "    <tr>\n",
       "      <th>6779</th>\n",
       "      <td>alewino</td>\n",
       "      <td>ul. Mokotowska 48, Warsaw, 00 543, Poland</td>\n",
       "      <td>Warsaw, Poland</td>\n",
       "      <td>€€</td>\n",
       "      <td>Polish, Traditional Cuisine</td>\n",
       "      <td>21.022057</td>\n",
       "      <td>52.225201</td>\n",
       "      <td>4.822628e+10</td>\n",
       "      <td>https://guide.michelin.com/en/masovia/warsaw/r...</td>\n",
       "      <td>http://www.alewino.pl/</td>\n",
       "      <td>Bib Gourmand</td>\n",
       "      <td>Air conditioning,American Express credit card,...</td>\n",
       "      <td>masovia/warsaw/restaurant/alewino</td>\n",
       "      <td>{'page': 'https://guide.michelin.com/en/masovi...</td>\n",
       "    </tr>\n",
       "  </tbody>\n",
       "</table>\n",
       "<p>6780 rows × 14 columns</p>\n",
       "</div>"
      ],
      "text/plain": [
       "                                  name  \\\n",
       "0                           King's Joy   \n",
       "1     Xin Rong Ji (Xinyuan South Road)   \n",
       "2                          Taian Table   \n",
       "3           Ultraviolet by Paul Pairet   \n",
       "4                               Quince   \n",
       "...                                ...   \n",
       "6775                           Szóstka   \n",
       "6776                        Fiorentina   \n",
       "6777                             Zazie   \n",
       "6778                   Butchery & Wine   \n",
       "6779                           alewino   \n",
       "\n",
       "                                                address  \\\n",
       "0           2 Wudaoying Hutong, Beijing, China Mainland   \n",
       "1     1F, East Tower, Genesis Beijing, 8 Xinyuan Sou...   \n",
       "2     101-102, Building No. 1, Garden Office, No.161...   \n",
       "3     'somewhere in Shanghai' - meet at Mr & Mrs Bun...   \n",
       "4           470 Pacific Ave., San Francisco, 94133, USA   \n",
       "...                                                 ...   \n",
       "6775  Plac Powstańców Warszawy 9, Warsaw, 00 039, Po...   \n",
       "6776             ul. Grodzka 63, Cracow, 31 044, Poland   \n",
       "6777              ul. Józefa 34, Cracow, 32 056, Poland   \n",
       "6778             ul. Żurawia 22, Warsaw, 00 515, Poland   \n",
       "6779          ul. Mokotowska 48, Warsaw, 00 543, Poland   \n",
       "\n",
       "                      location price                                cuisine  \\\n",
       "0      Beijing, China Mainland   ¥¥¥                             Vegetarian   \n",
       "1      Beijing, China Mainland  ¥¥¥¥                                Taizhou   \n",
       "2     Shanghai, China Mainland  ¥¥¥¥                             Innovative   \n",
       "3     Shanghai, China Mainland  ¥¥¥¥                             Innovative   \n",
       "4           San Francisco, USA  $$$$              Contemporary, Californian   \n",
       "...                        ...   ...                                    ...   \n",
       "6775            Warsaw, Poland    €€                 Polish, Modern Cuisine   \n",
       "6776            Cracow, Poland    €€                       Creative, Polish   \n",
       "6777            Cracow, Poland     €                                 French   \n",
       "6778            Warsaw, Poland    €€  Meats and Grills, Traditional Cuisine   \n",
       "6779            Warsaw, Poland    €€            Polish, Traditional Cuisine   \n",
       "\n",
       "       longitude   latitude  phone_number  \\\n",
       "0     116.410004  39.946681  8.610840e+11   \n",
       "1     116.450148  39.946380  8.610650e+11   \n",
       "2     121.474049  31.221807  8.617302e+12   \n",
       "3     121.485090  31.240358           NaN   \n",
       "4    -122.403261  37.797505  1.415776e+10   \n",
       "...          ...        ...           ...   \n",
       "6775   21.012698  52.235803  4.822470e+10   \n",
       "6776   19.938179  50.055898  4.812426e+10   \n",
       "6777   19.946949  50.051240  4.850041e+10   \n",
       "6778   21.015495  52.228581  4.822502e+10   \n",
       "6779   21.022057  52.225201  4.822628e+10   \n",
       "\n",
       "                                                    url  \\\n",
       "0     https://guide.michelin.com/en/beijing-municipa...   \n",
       "1     https://guide.michelin.com/en/beijing-municipa...   \n",
       "2     https://guide.michelin.com/en/shanghai-municip...   \n",
       "3     https://guide.michelin.com/en/shanghai-municip...   \n",
       "4     https://guide.michelin.com/en/california/san-f...   \n",
       "...                                                 ...   \n",
       "6775  https://guide.michelin.com/en/masovia/warsaw/r...   \n",
       "6776  https://guide.michelin.com/en/lesser-poland/cr...   \n",
       "6777  https://guide.michelin.com/en/lesser-poland/cr...   \n",
       "6778  https://guide.michelin.com/en/masovia/warsaw/r...   \n",
       "6779  https://guide.michelin.com/en/masovia/warsaw/r...   \n",
       "\n",
       "                                       website_url             award  \\\n",
       "0                                              NaN  3 MICHELIN Stars   \n",
       "1                                              NaN  3 MICHELIN Stars   \n",
       "2                          https://taian-table.cn/  3 MICHELIN Stars   \n",
       "3                               https://uvbypp.cc/  3 MICHELIN Stars   \n",
       "4                  http://www.quincerestaurant.com  3 MICHELIN Stars   \n",
       "...                                            ...               ...   \n",
       "6775  https://warszawa.hotel.com.pl/hotel-warszawa      Bib Gourmand   \n",
       "6776                    https://fiorentina.com.pl/      Bib Gourmand   \n",
       "6777                    http://www.zaziebistro.pl/      Bib Gourmand   \n",
       "6778               https://www.butcheryandwine.pl/      Bib Gourmand   \n",
       "6779                        http://www.alewino.pl/      Bib Gourmand   \n",
       "\n",
       "                                facilities_and_services  \\\n",
       "0     Air conditioning,American Express credit card,...   \n",
       "1     Air conditioning,Car park,China UnionPay,Count...   \n",
       "2     Air conditioning,American Express credit card,...   \n",
       "3     Air conditioning,American Express credit card,...   \n",
       "4     Air conditioning,American Express credit card,...   \n",
       "...                                                 ...   \n",
       "6775  Air conditioning,American Express credit card,...   \n",
       "6776  Air conditioning,American Express credit card,...   \n",
       "6777  Air conditioning,Booking essential - dinner,Cr...   \n",
       "6778  American Express credit card,Booking essential...   \n",
       "6779  Air conditioning,American Express credit card,...   \n",
       "\n",
       "                                                  parts  \\\n",
       "0     beijing-municipality/beijing/restaurant/king-s...   \n",
       "1     beijing-municipality/beijing/restaurant/xin-ro...   \n",
       "2     shanghai-municipality/shanghai/restaurant/taia...   \n",
       "3     shanghai-municipality/shanghai/restaurant/ultr...   \n",
       "4            california/san-francisco/restaurant/quince   \n",
       "...                                                 ...   \n",
       "6775                  masovia/warsaw/restaurant/szostka   \n",
       "6776         lesser-poland/cracow/restaurant/fiorentina   \n",
       "6777              lesser-poland/cracow/restaurant/zazie   \n",
       "6778        masovia/warsaw/restaurant/butchery-and-wine   \n",
       "6779                  masovia/warsaw/restaurant/alewino   \n",
       "\n",
       "                                                   data  \n",
       "0     {'page': 'https://guide.michelin.com/en/beijin...  \n",
       "1     {'page': 'https://guide.michelin.com/en/beijin...  \n",
       "2     {'page': 'https://guide.michelin.com/en/shangh...  \n",
       "3     {'page': 'https://guide.michelin.com/en/shangh...  \n",
       "4     {'page': 'https://guide.michelin.com/en/califo...  \n",
       "...                                                 ...  \n",
       "6775  {'page': 'https://guide.michelin.com/en/masovi...  \n",
       "6776  {'page': 'https://guide.michelin.com/en/lesser...  \n",
       "6777  {'page': 'https://guide.michelin.com/en/lesser...  \n",
       "6778  {'page': 'https://guide.michelin.com/en/masovi...  \n",
       "6779  {'page': 'https://guide.michelin.com/en/masovi...  \n",
       "\n",
       "[6780 rows x 14 columns]"
      ]
     },
     "execution_count": 80,
     "metadata": {},
     "output_type": "execute_result"
    }
   ],
   "source": [
    "get_michelin_pages(df)"
   ]
  },
  {
   "cell_type": "code",
   "execution_count": 86,
   "id": "47a57c8e",
   "metadata": {},
   "outputs": [
    {
     "data": {
      "text/plain": [
       "{'page': 'https://guide.michelin.com/en/masovia/warsaw/restaurant/alewino',\n",
       " 'content': 'Alewino started life as a wine shop before developing into a wine-bar-cum-restaurant with 4 cosy rooms. The menus might be concise but portions are generous, with classic Polish recipes reworked in a modern manner. Over 250 great value wines are available by the glass; ask for recommendations.'}"
      ]
     },
     "execution_count": 86,
     "metadata": {},
     "output_type": "execute_result"
    }
   ],
   "source": [
    "df.data[6779]"
   ]
  },
  {
   "cell_type": "code",
   "execution_count": 105,
   "id": "c15d5f13",
   "metadata": {},
   "outputs": [],
   "source": [
    "example_string = df.data[6779]"
   ]
  },
  {
   "cell_type": "code",
   "execution_count": 87,
   "id": "b181e636",
   "metadata": {},
   "outputs": [
    {
     "name": "stdout",
     "output_type": "stream",
     "text": [
      "<class 'pandas.core.frame.DataFrame'>\n",
      "RangeIndex: 6780 entries, 0 to 6779\n",
      "Data columns (total 14 columns):\n",
      " #   Column                   Non-Null Count  Dtype  \n",
      "---  ------                   --------------  -----  \n",
      " 0   name                     6780 non-null   object \n",
      " 1   address                  6780 non-null   object \n",
      " 2   location                 6780 non-null   object \n",
      " 3   price                    6726 non-null   object \n",
      " 4   cuisine                  6780 non-null   object \n",
      " 5   longitude                6780 non-null   float64\n",
      " 6   latitude                 6780 non-null   float64\n",
      " 7   phone_number             6649 non-null   float64\n",
      " 8   url                      6780 non-null   object \n",
      " 9   website_url              5542 non-null   object \n",
      " 10  award                    6780 non-null   object \n",
      " 11  facilities_and_services  6732 non-null   object \n",
      " 12  parts                    6780 non-null   object \n",
      " 13  data                     6780 non-null   object \n",
      "dtypes: float64(3), object(11)\n",
      "memory usage: 741.7+ KB\n"
     ]
    }
   ],
   "source": [
    "df.info()"
   ]
  },
  {
   "cell_type": "code",
   "execution_count": 98,
   "id": "9905d06c",
   "metadata": {},
   "outputs": [
    {
     "ename": "ValueError",
     "evalue": "pattern contains no capture groups",
     "output_type": "error",
     "traceback": [
      "\u001b[0;31m---------------------------------------------------------------------------\u001b[0m",
      "\u001b[0;31mValueError\u001b[0m                                Traceback (most recent call last)",
      "Cell \u001b[0;32mIn[98], line 1\u001b[0m\n\u001b[0;32m----> 1\u001b[0m \u001b[43mdf\u001b[49m\u001b[43m[\u001b[49m\u001b[38;5;124;43m'\u001b[39;49m\u001b[38;5;124;43mdata\u001b[39;49m\u001b[38;5;124;43m'\u001b[39;49m\u001b[43m]\u001b[49m\u001b[38;5;241;43m.\u001b[39;49m\u001b[43mstr\u001b[49m\u001b[38;5;241;43m.\u001b[39;49m\u001b[43mextract\u001b[49m\u001b[43m(\u001b[49m\u001b[38;5;124;43m'\u001b[39;49m\u001b[38;5;124;43m,:}\u001b[39;49m\u001b[38;5;124;43m'\u001b[39;49m\u001b[43m)\u001b[49m\n",
      "File \u001b[0;32m/opt/homebrew/anaconda3/lib/python3.9/site-packages/pandas/core/strings/accessor.py:125\u001b[0m, in \u001b[0;36mforbid_nonstring_types.<locals>._forbid_nonstring_types.<locals>.wrapper\u001b[0;34m(self, *args, **kwargs)\u001b[0m\n\u001b[1;32m    120\u001b[0m     msg \u001b[38;5;241m=\u001b[39m (\n\u001b[1;32m    121\u001b[0m         \u001b[38;5;124mf\u001b[39m\u001b[38;5;124m\"\u001b[39m\u001b[38;5;124mCannot use .str.\u001b[39m\u001b[38;5;132;01m{\u001b[39;00mfunc_name\u001b[38;5;132;01m}\u001b[39;00m\u001b[38;5;124m with values of \u001b[39m\u001b[38;5;124m\"\u001b[39m\n\u001b[1;32m    122\u001b[0m         \u001b[38;5;124mf\u001b[39m\u001b[38;5;124m\"\u001b[39m\u001b[38;5;124minferred dtype \u001b[39m\u001b[38;5;124m'\u001b[39m\u001b[38;5;132;01m{\u001b[39;00m\u001b[38;5;28mself\u001b[39m\u001b[38;5;241m.\u001b[39m_inferred_dtype\u001b[38;5;132;01m}\u001b[39;00m\u001b[38;5;124m'\u001b[39m\u001b[38;5;124m.\u001b[39m\u001b[38;5;124m\"\u001b[39m\n\u001b[1;32m    123\u001b[0m     )\n\u001b[1;32m    124\u001b[0m     \u001b[38;5;28;01mraise\u001b[39;00m \u001b[38;5;167;01mTypeError\u001b[39;00m(msg)\n\u001b[0;32m--> 125\u001b[0m \u001b[38;5;28;01mreturn\u001b[39;00m \u001b[43mfunc\u001b[49m\u001b[43m(\u001b[49m\u001b[38;5;28;43mself\u001b[39;49m\u001b[43m,\u001b[49m\u001b[43m \u001b[49m\u001b[38;5;241;43m*\u001b[39;49m\u001b[43margs\u001b[49m\u001b[43m,\u001b[49m\u001b[43m \u001b[49m\u001b[38;5;241;43m*\u001b[39;49m\u001b[38;5;241;43m*\u001b[39;49m\u001b[43mkwargs\u001b[49m\u001b[43m)\u001b[49m\n",
      "File \u001b[0;32m/opt/homebrew/anaconda3/lib/python3.9/site-packages/pandas/core/strings/accessor.py:2529\u001b[0m, in \u001b[0;36mStringMethods.extract\u001b[0;34m(self, pat, flags, expand)\u001b[0m\n\u001b[1;32m   2527\u001b[0m regex \u001b[38;5;241m=\u001b[39m re\u001b[38;5;241m.\u001b[39mcompile(pat, flags\u001b[38;5;241m=\u001b[39mflags)\n\u001b[1;32m   2528\u001b[0m \u001b[38;5;28;01mif\u001b[39;00m regex\u001b[38;5;241m.\u001b[39mgroups \u001b[38;5;241m==\u001b[39m \u001b[38;5;241m0\u001b[39m:\n\u001b[0;32m-> 2529\u001b[0m     \u001b[38;5;28;01mraise\u001b[39;00m \u001b[38;5;167;01mValueError\u001b[39;00m(\u001b[38;5;124m\"\u001b[39m\u001b[38;5;124mpattern contains no capture groups\u001b[39m\u001b[38;5;124m\"\u001b[39m)\n\u001b[1;32m   2531\u001b[0m \u001b[38;5;28;01mif\u001b[39;00m \u001b[38;5;129;01mnot\u001b[39;00m expand \u001b[38;5;129;01mand\u001b[39;00m regex\u001b[38;5;241m.\u001b[39mgroups \u001b[38;5;241m>\u001b[39m \u001b[38;5;241m1\u001b[39m \u001b[38;5;129;01mand\u001b[39;00m \u001b[38;5;28misinstance\u001b[39m(\u001b[38;5;28mself\u001b[39m\u001b[38;5;241m.\u001b[39m_data, ABCIndex):\n\u001b[1;32m   2532\u001b[0m     \u001b[38;5;28;01mraise\u001b[39;00m \u001b[38;5;167;01mValueError\u001b[39;00m(\u001b[38;5;124m\"\u001b[39m\u001b[38;5;124monly one regex group is supported with Index\u001b[39m\u001b[38;5;124m\"\u001b[39m)\n",
      "\u001b[0;31mValueError\u001b[0m: pattern contains no capture groups"
     ]
    }
   ],
   "source": [
    "df['data'].str.extract(',:}')"
   ]
  },
  {
   "cell_type": "code",
   "execution_count": 106,
   "id": "198b2b5c",
   "metadata": {},
   "outputs": [
    {
     "data": {
      "text/plain": [
       "{'page': 'https://guide.michelin.com/en/masovia/warsaw/restaurant/alewino',\n",
       " 'content': 'Alewino started life as a wine shop before developing into a wine-bar-cum-restaurant with 4 cosy rooms. The menus might be concise but portions are generous, with classic Polish recipes reworked in a modern manner. Over 250 great value wines are available by the glass; ask for recommendations.'}"
      ]
     },
     "execution_count": 106,
     "metadata": {},
     "output_type": "execute_result"
    }
   ],
   "source": [
    "example_string"
   ]
  },
  {
   "cell_type": "code",
   "execution_count": 112,
   "id": "f3084e77",
   "metadata": {},
   "outputs": [
    {
     "data": {
      "text/plain": [
       "0      NaN\n",
       "1      NaN\n",
       "2      NaN\n",
       "3      NaN\n",
       "4      NaN\n",
       "        ..\n",
       "6775   NaN\n",
       "6776   NaN\n",
       "6777   NaN\n",
       "6778   NaN\n",
       "6779   NaN\n",
       "Name: data, Length: 6780, dtype: float64"
      ]
     },
     "execution_count": 112,
     "metadata": {},
     "output_type": "execute_result"
    }
   ],
   "source": [
    "df['data']strip(\"{}\")"
   ]
  },
  {
   "cell_type": "code",
   "execution_count": 114,
   "id": "e1dc308b",
   "metadata": {},
   "outputs": [
    {
     "ename": "TypeError",
     "evalue": "expected string or bytes-like object",
     "output_type": "error",
     "traceback": [
      "\u001b[0;31m---------------------------------------------------------------------------\u001b[0m",
      "\u001b[0;31mTypeError\u001b[0m                                 Traceback (most recent call last)",
      "Cell \u001b[0;32mIn[114], line 1\u001b[0m\n\u001b[0;32m----> 1\u001b[0m example_string \u001b[38;5;241m=\u001b[39m \u001b[43mre\u001b[49m\u001b[38;5;241;43m.\u001b[39;49m\u001b[43msub\u001b[49m\u001b[43m(\u001b[49m\u001b[38;5;124;43mr\u001b[39;49m\u001b[38;5;124;43m'\u001b[39;49m\u001b[38;5;124;43m[\u001b[39;49m\u001b[38;5;132;43;01m{}\u001b[39;49;00m\u001b[38;5;124;43m]\u001b[39;49m\u001b[38;5;124;43m'\u001b[39;49m\u001b[43m,\u001b[49m\u001b[43m \u001b[49m\u001b[38;5;124;43m'\u001b[39;49m\u001b[38;5;124;43m'\u001b[39;49m\u001b[43m,\u001b[49m\u001b[43m \u001b[49m\u001b[43mexample_string\u001b[49m\u001b[43m)\u001b[49m\n",
      "File \u001b[0;32m/opt/homebrew/anaconda3/lib/python3.9/re.py:210\u001b[0m, in \u001b[0;36msub\u001b[0;34m(pattern, repl, string, count, flags)\u001b[0m\n\u001b[1;32m    203\u001b[0m \u001b[38;5;28;01mdef\u001b[39;00m \u001b[38;5;21msub\u001b[39m(pattern, repl, string, count\u001b[38;5;241m=\u001b[39m\u001b[38;5;241m0\u001b[39m, flags\u001b[38;5;241m=\u001b[39m\u001b[38;5;241m0\u001b[39m):\n\u001b[1;32m    204\u001b[0m     \u001b[38;5;124;03m\"\"\"Return the string obtained by replacing the leftmost\u001b[39;00m\n\u001b[1;32m    205\u001b[0m \u001b[38;5;124;03m    non-overlapping occurrences of the pattern in string by the\u001b[39;00m\n\u001b[1;32m    206\u001b[0m \u001b[38;5;124;03m    replacement repl.  repl can be either a string or a callable;\u001b[39;00m\n\u001b[1;32m    207\u001b[0m \u001b[38;5;124;03m    if a string, backslash escapes in it are processed.  If it is\u001b[39;00m\n\u001b[1;32m    208\u001b[0m \u001b[38;5;124;03m    a callable, it's passed the Match object and must return\u001b[39;00m\n\u001b[1;32m    209\u001b[0m \u001b[38;5;124;03m    a replacement string to be used.\"\"\"\u001b[39;00m\n\u001b[0;32m--> 210\u001b[0m     \u001b[38;5;28;01mreturn\u001b[39;00m \u001b[43m_compile\u001b[49m\u001b[43m(\u001b[49m\u001b[43mpattern\u001b[49m\u001b[43m,\u001b[49m\u001b[43m \u001b[49m\u001b[43mflags\u001b[49m\u001b[43m)\u001b[49m\u001b[38;5;241;43m.\u001b[39;49m\u001b[43msub\u001b[49m\u001b[43m(\u001b[49m\u001b[43mrepl\u001b[49m\u001b[43m,\u001b[49m\u001b[43m \u001b[49m\u001b[43mstring\u001b[49m\u001b[43m,\u001b[49m\u001b[43m \u001b[49m\u001b[43mcount\u001b[49m\u001b[43m)\u001b[49m\n",
      "\u001b[0;31mTypeError\u001b[0m: expected string or bytes-like object"
     ]
    }
   ],
   "source": [
    "example_string = re.sub(r'[{}]', '', example_string)"
   ]
  },
  {
   "cell_type": "code",
   "execution_count": null,
   "id": "5e76ee67",
   "metadata": {},
   "outputs": [],
   "source": []
  }
 ],
 "metadata": {
  "kernelspec": {
   "display_name": "Python 3 (ipykernel)",
   "language": "python",
   "name": "python3"
  },
  "language_info": {
   "codemirror_mode": {
    "name": "ipython",
    "version": 3
   },
   "file_extension": ".py",
   "mimetype": "text/x-python",
   "name": "python",
   "nbconvert_exporter": "python",
   "pygments_lexer": "ipython3",
   "version": "3.9.15"
  }
 },
 "nbformat": 4,
 "nbformat_minor": 5
}
